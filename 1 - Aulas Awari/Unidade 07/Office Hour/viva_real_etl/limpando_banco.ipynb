{
 "cells": [
  {
   "cell_type": "code",
   "execution_count": 23,
   "metadata": {},
   "outputs": [],
   "source": [
    "import pandas as pd"
   ]
  },
  {
   "cell_type": "code",
   "execution_count": 24,
   "metadata": {},
   "outputs": [],
   "source": [
    "vr = pd.read_csv(\"raw_data_10_jun.csv\")"
   ]
  },
  {
   "cell_type": "markdown",
   "metadata": {},
   "source": [
    "# Objetivos\n",
    "- Remover itens duplicatos (se tiver algum)\n",
    "- Remover propagandas\n",
    "- Colunas numéricas tem que ter só números\n",
    "\n",
    "# Desafios\n",
    "- Lidar com os amenities"
   ]
  },
  {
   "cell_type": "markdown",
   "metadata": {},
   "source": [
    "# Comando úteis\n",
    "vr -> No caso é o nome do dataframe que estamos trabalhando \n",
    "\n",
    "vr.head() -> Mostra as primeiras linhas\n",
    "\n",
    "vr.tail() -> Mostra as ultimas linhas\n",
    "\n",
    "vr.columns -> Nome das columnas\n",
    "\n",
    "vr.shape -> Mostra o \"formato\" do dataframe\n",
    "\n",
    "vr.duplicated(subset=[lista de colunas]) -> retorna verdadeiro para as linhas duplicadas\n",
    "\n",
    "vr.drop_duplicates(subset=[lista_de_colunas], keep=\"first\") -> remover duplicados da base\n",
    "\n",
    "vr.info() -> Mostra um resumo da tabela, com o tipo de dados de cada coluna\n",
    "\n",
    "vr[nome da coluna].unique() -> Mostra os valores unicos dessa coluna\n",
    "\n",
    "vr[\"NOMEDACOLUNA\"].str.split(\" \") -> Separa as strings da coluna NOMEDACOLUNA string no espaco. Ex: \"Um brinquedo\"-> [\"Um\", \"brinquedo\"]\n",
    "\n",
    "vr[\"NOMEDACOLUNA\"].str.replace(\"a\", \"b\") -> Para todas as strings da coluna NOMEDACOLUNA, substitui a por b. Ex: \"abacate\" -> \"bbbcbte\"\n",
    "\n",
    "vr.reset_index(drop=False) -> Re-constroi o indice sem pular valores. Util sempre que fizer alguma operacao que remova linhas para evitar warnings\n",
    "\n",
    "vr[\"NOMEDACOLUNA\"].isnull() -> Filtro para detectar null na coluna NOMEDACOLUNA\n",
    "\n",
    "vr.dropna() -> Remove linhas que tiverem nulls.\n",
    "\n",
    "vr.dropna(subset=[\"NOMEDACOLUNA\"]) -> Remove linhas que tiverem nulls na coluna NOMEDACOLUNA.\n",
    "\n",
    "vr.fillna(\"ERRO\") -> Substitui valores null pelo valor \"ERRO\"\n"
   ]
  },
  {
   "cell_type": "markdown",
   "metadata": {},
   "source": [
    "# Duplicados"
   ]
  },
  {
   "cell_type": "code",
   "execution_count": 25,
   "metadata": {},
   "outputs": [
    {
     "data": {
      "text/plain": [
       "Index(['id', 'url', 'header', 'address', 'area', 'rooms', 'bathrooms',\n",
       "       'garages', 'amenities', 'price', 'condo', 'bairro', 'crawled_at'],\n",
       "      dtype='object')"
      ]
     },
     "execution_count": 25,
     "metadata": {},
     "output_type": "execute_result"
    }
   ],
   "source": [
    "vr.columns"
   ]
  },
  {
   "cell_type": "code",
   "execution_count": 26,
   "metadata": {},
   "outputs": [
    {
     "data": {
      "text/html": [
       "<div>\n",
       "<style scoped>\n",
       "    .dataframe tbody tr th:only-of-type {\n",
       "        vertical-align: middle;\n",
       "    }\n",
       "\n",
       "    .dataframe tbody tr th {\n",
       "        vertical-align: top;\n",
       "    }\n",
       "\n",
       "    .dataframe thead th {\n",
       "        text-align: right;\n",
       "    }\n",
       "</style>\n",
       "<table border=\"1\" class=\"dataframe\">\n",
       "  <thead>\n",
       "    <tr style=\"text-align: right;\">\n",
       "      <th></th>\n",
       "      <th>id</th>\n",
       "      <th>url</th>\n",
       "      <th>header</th>\n",
       "      <th>address</th>\n",
       "      <th>area</th>\n",
       "      <th>rooms</th>\n",
       "      <th>bathrooms</th>\n",
       "      <th>garages</th>\n",
       "      <th>amenities</th>\n",
       "      <th>price</th>\n",
       "      <th>condo</th>\n",
       "      <th>bairro</th>\n",
       "      <th>crawled_at</th>\n",
       "    </tr>\n",
       "  </thead>\n",
       "  <tbody>\n",
       "    <tr>\n",
       "      <th>36</th>\n",
       "      <td>2521587260</td>\n",
       "      <td>https://www.vivareal.com.br/imovel/apartamento...</td>\n",
       "      <td>Apartamento com 3 Quartos à Venda, 100m²</td>\n",
       "      <td>Rua Flórida, 76 - Brooklin, São Paulo - SP</td>\n",
       "      <td>100</td>\n",
       "      <td>3 Quartos</td>\n",
       "      <td>3 Banheiros</td>\n",
       "      <td>2 Vagas</td>\n",
       "      <td>Piscina\\r\\nCondomínio fechado\\r\\nQuadra polies...</td>\n",
       "      <td>R$ 890.000</td>\n",
       "      <td>R$ 1.000</td>\n",
       "      <td>Brooklin</td>\n",
       "      <td>2021-06-10 16:17</td>\n",
       "    </tr>\n",
       "    <tr>\n",
       "      <th>38</th>\n",
       "      <td>2517257990</td>\n",
       "      <td>https://www.vivareal.com.br/imovel/apartamento...</td>\n",
       "      <td>Apartamento com 2 Quartos à Venda/Aluguel 165m²</td>\n",
       "      <td>Rua Flórida, 1901 - Brooklin, São Paulo - SP</td>\n",
       "      <td>165</td>\n",
       "      <td>2 Quartos</td>\n",
       "      <td>3 Banheiros</td>\n",
       "      <td>2 Vagas</td>\n",
       "      <td>Piscina\\r\\nMobiliado\\r\\nVaranda\\r\\nAcademia\\r\\...</td>\n",
       "      <td>R$ 16.000 /mês\\r\\nR$ 2.750.000</td>\n",
       "      <td>R$ 2.100</td>\n",
       "      <td>Brooklin</td>\n",
       "      <td>2021-06-10 16:17</td>\n",
       "    </tr>\n",
       "    <tr>\n",
       "      <th>72</th>\n",
       "      <td>2512697589</td>\n",
       "      <td>https://www.vivareal.com.br/imovel/apartamento...</td>\n",
       "      <td>Apartamento com 4 Quartos à Venda, 172m²</td>\n",
       "      <td>Rua Flórida, 145 - Brooklin, São Paulo - SP</td>\n",
       "      <td>172</td>\n",
       "      <td>4 Quartos</td>\n",
       "      <td>5 Banheiros</td>\n",
       "      <td>4 Vagas</td>\n",
       "      <td>Piscina\\r\\nVaranda gourmet\\r\\nMobiliado\\r\\nAca...</td>\n",
       "      <td>R$ 2.249.000</td>\n",
       "      <td>R$ 10</td>\n",
       "      <td>Brooklin</td>\n",
       "      <td>2021-06-10 16:18</td>\n",
       "    </tr>\n",
       "    <tr>\n",
       "      <th>74</th>\n",
       "      <td>2514599416</td>\n",
       "      <td>https://www.vivareal.com.br/imovel/apartamento...</td>\n",
       "      <td>Apartamento com 3 Quartos à Venda, 101m²</td>\n",
       "      <td>Rua Getúlio Soares da Rocha, 135 - Brooklin, S...</td>\n",
       "      <td>101</td>\n",
       "      <td>3 Quartos</td>\n",
       "      <td>2 Banheiros</td>\n",
       "      <td>2 Vagas</td>\n",
       "      <td>Piscina\\r\\nVaranda gourmet\\r\\nChurrasqueira\\r\\...</td>\n",
       "      <td>R$ 1.200.000</td>\n",
       "      <td>R$ 950</td>\n",
       "      <td>Brooklin</td>\n",
       "      <td>2021-06-10 16:18</td>\n",
       "    </tr>\n",
       "    <tr>\n",
       "      <th>75</th>\n",
       "      <td>2522751684</td>\n",
       "      <td>https://www.vivareal.com.br/imovel/apartamento...</td>\n",
       "      <td>Apartamento com 3 Quartos à Venda, 197m²</td>\n",
       "      <td>Avenida Roque Petroni Júnior - Brooklin, São P...</td>\n",
       "      <td>197</td>\n",
       "      <td>3 Quartos</td>\n",
       "      <td>4 Banheiros</td>\n",
       "      <td>3 Vagas</td>\n",
       "      <td>Piscina\\r\\nVaranda gourmet\\r\\nChurrasqueira\\r\\...</td>\n",
       "      <td>R$ 2.300.000</td>\n",
       "      <td>R$ 2.000</td>\n",
       "      <td>Brooklin</td>\n",
       "      <td>2021-06-10 16:18</td>\n",
       "    </tr>\n",
       "    <tr>\n",
       "      <th>...</th>\n",
       "      <td>...</td>\n",
       "      <td>...</td>\n",
       "      <td>...</td>\n",
       "      <td>...</td>\n",
       "      <td>...</td>\n",
       "      <td>...</td>\n",
       "      <td>...</td>\n",
       "      <td>...</td>\n",
       "      <td>...</td>\n",
       "      <td>...</td>\n",
       "      <td>...</td>\n",
       "      <td>...</td>\n",
       "      <td>...</td>\n",
       "    </tr>\n",
       "    <tr>\n",
       "      <th>19405</th>\n",
       "      <td>https://www.vivareal.com.br/imoveis-lancamento...</td>\n",
       "      <td>https://www.vivareal.com.br/imoveis-lancamento...</td>\n",
       "      <td>Videre</td>\n",
       "      <td>Rua Doutor Costa Júnior, 465 - Água Branca, Sã...</td>\n",
       "      <td>135-219</td>\n",
       "      <td>3 Quartos</td>\n",
       "      <td>2-3 Banheiros</td>\n",
       "      <td>2 Vagas</td>\n",
       "      <td>NaN</td>\n",
       "      <td>R$ 1.800.000</td>\n",
       "      <td>NaN</td>\n",
       "      <td>Tucuruvi</td>\n",
       "      <td>2021-06-10 19:16</td>\n",
       "    </tr>\n",
       "    <tr>\n",
       "      <th>19412</th>\n",
       "      <td>https://www.vivareal.com.br/imoveis-lancamento...</td>\n",
       "      <td>https://www.vivareal.com.br/imoveis-lancamento...</td>\n",
       "      <td>Setin Downtown Praça da Sé</td>\n",
       "      <td>Rua Tabatinguera, 462 - Sé, São Paulo - SP</td>\n",
       "      <td>22</td>\n",
       "      <td>1 Quarto</td>\n",
       "      <td>1 Banheiro</td>\n",
       "      <td>-- Vaga</td>\n",
       "      <td>NaN</td>\n",
       "      <td>R$ 248.000</td>\n",
       "      <td>NaN</td>\n",
       "      <td>Tucuruvi</td>\n",
       "      <td>2021-06-10 19:16</td>\n",
       "    </tr>\n",
       "    <tr>\n",
       "      <th>19419</th>\n",
       "      <td>https://www.vivareal.com.br/imoveis-lancamento...</td>\n",
       "      <td>https://www.vivareal.com.br/imoveis-lancamento...</td>\n",
       "      <td>Origem Freguesia do Ó</td>\n",
       "      <td>Rua José Elói Otoni - Freguesia do Ó, São Paul...</td>\n",
       "      <td>57-66</td>\n",
       "      <td>2-3 Quartos</td>\n",
       "      <td>1 Banheiro</td>\n",
       "      <td>1 Vaga</td>\n",
       "      <td>NaN</td>\n",
       "      <td>R$ 380.000</td>\n",
       "      <td>NaN</td>\n",
       "      <td>Tucuruvi</td>\n",
       "      <td>2021-06-10 19:16</td>\n",
       "    </tr>\n",
       "    <tr>\n",
       "      <th>19426</th>\n",
       "      <td>https://www.vivareal.com.br/imoveis-lancamento...</td>\n",
       "      <td>https://www.vivareal.com.br/imoveis-lancamento...</td>\n",
       "      <td>LANDSCAPE PERDIZES</td>\n",
       "      <td>Rua Desembargador Guimarães, 75 - Perdizes, Sã...</td>\n",
       "      <td>176-316</td>\n",
       "      <td>3-4 Quartos</td>\n",
       "      <td>5-6 Banheiros</td>\n",
       "      <td>4-5 Vagas</td>\n",
       "      <td>NaN</td>\n",
       "      <td>Sob Consulta</td>\n",
       "      <td>NaN</td>\n",
       "      <td>Tucuruvi</td>\n",
       "      <td>2021-06-10 19:16</td>\n",
       "    </tr>\n",
       "    <tr>\n",
       "      <th>19433</th>\n",
       "      <td>https://www.vivareal.com.br/imoveis-lancamento...</td>\n",
       "      <td>https://www.vivareal.com.br/imoveis-lancamento...</td>\n",
       "      <td>Bandeira Pauliceia</td>\n",
       "      <td>Rua Santo Amaro, 27 - Bela Vista, São Paulo - SP</td>\n",
       "      <td>48</td>\n",
       "      <td>2 Quartos</td>\n",
       "      <td>2 Banheiros</td>\n",
       "      <td>-- Vaga</td>\n",
       "      <td>NaN</td>\n",
       "      <td>R$ 429.000</td>\n",
       "      <td>NaN</td>\n",
       "      <td>Tucuruvi</td>\n",
       "      <td>2021-06-10 19:16</td>\n",
       "    </tr>\n",
       "  </tbody>\n",
       "</table>\n",
       "<p>3335 rows × 13 columns</p>\n",
       "</div>"
      ],
      "text/plain": [
       "                                                      id  \\\n",
       "36                                            2521587260   \n",
       "38                                            2517257990   \n",
       "72                                            2512697589   \n",
       "74                                            2514599416   \n",
       "75                                            2522751684   \n",
       "...                                                  ...   \n",
       "19405  https://www.vivareal.com.br/imoveis-lancamento...   \n",
       "19412  https://www.vivareal.com.br/imoveis-lancamento...   \n",
       "19419  https://www.vivareal.com.br/imoveis-lancamento...   \n",
       "19426  https://www.vivareal.com.br/imoveis-lancamento...   \n",
       "19433  https://www.vivareal.com.br/imoveis-lancamento...   \n",
       "\n",
       "                                                     url  \\\n",
       "36     https://www.vivareal.com.br/imovel/apartamento...   \n",
       "38     https://www.vivareal.com.br/imovel/apartamento...   \n",
       "72     https://www.vivareal.com.br/imovel/apartamento...   \n",
       "74     https://www.vivareal.com.br/imovel/apartamento...   \n",
       "75     https://www.vivareal.com.br/imovel/apartamento...   \n",
       "...                                                  ...   \n",
       "19405  https://www.vivareal.com.br/imoveis-lancamento...   \n",
       "19412  https://www.vivareal.com.br/imoveis-lancamento...   \n",
       "19419  https://www.vivareal.com.br/imoveis-lancamento...   \n",
       "19426  https://www.vivareal.com.br/imoveis-lancamento...   \n",
       "19433  https://www.vivareal.com.br/imoveis-lancamento...   \n",
       "\n",
       "                                                header  \\\n",
       "36            Apartamento com 3 Quartos à Venda, 100m²   \n",
       "38     Apartamento com 2 Quartos à Venda/Aluguel 165m²   \n",
       "72            Apartamento com 4 Quartos à Venda, 172m²   \n",
       "74            Apartamento com 3 Quartos à Venda, 101m²   \n",
       "75            Apartamento com 3 Quartos à Venda, 197m²   \n",
       "...                                                ...   \n",
       "19405                                           Videre   \n",
       "19412                       Setin Downtown Praça da Sé   \n",
       "19419                            Origem Freguesia do Ó   \n",
       "19426                               LANDSCAPE PERDIZES   \n",
       "19433                               Bandeira Pauliceia   \n",
       "\n",
       "                                                 address     area  \\\n",
       "36            Rua Flórida, 76 - Brooklin, São Paulo - SP      100   \n",
       "38          Rua Flórida, 1901 - Brooklin, São Paulo - SP      165   \n",
       "72           Rua Flórida, 145 - Brooklin, São Paulo - SP      172   \n",
       "74     Rua Getúlio Soares da Rocha, 135 - Brooklin, S...      101   \n",
       "75     Avenida Roque Petroni Júnior - Brooklin, São P...      197   \n",
       "...                                                  ...      ...   \n",
       "19405  Rua Doutor Costa Júnior, 465 - Água Branca, Sã...  135-219   \n",
       "19412         Rua Tabatinguera, 462 - Sé, São Paulo - SP       22   \n",
       "19419  Rua José Elói Otoni - Freguesia do Ó, São Paul...    57-66   \n",
       "19426  Rua Desembargador Guimarães, 75 - Perdizes, Sã...  176-316   \n",
       "19433   Rua Santo Amaro, 27 - Bela Vista, São Paulo - SP       48   \n",
       "\n",
       "             rooms      bathrooms    garages  \\\n",
       "36       3 Quartos    3 Banheiros    2 Vagas   \n",
       "38       2 Quartos    3 Banheiros    2 Vagas   \n",
       "72       4 Quartos    5 Banheiros    4 Vagas   \n",
       "74       3 Quartos    2 Banheiros    2 Vagas   \n",
       "75       3 Quartos    4 Banheiros    3 Vagas   \n",
       "...            ...            ...        ...   \n",
       "19405    3 Quartos  2-3 Banheiros    2 Vagas   \n",
       "19412     1 Quarto     1 Banheiro    -- Vaga   \n",
       "19419  2-3 Quartos     1 Banheiro     1 Vaga   \n",
       "19426  3-4 Quartos  5-6 Banheiros  4-5 Vagas   \n",
       "19433    2 Quartos    2 Banheiros    -- Vaga   \n",
       "\n",
       "                                               amenities  \\\n",
       "36     Piscina\\r\\nCondomínio fechado\\r\\nQuadra polies...   \n",
       "38     Piscina\\r\\nMobiliado\\r\\nVaranda\\r\\nAcademia\\r\\...   \n",
       "72     Piscina\\r\\nVaranda gourmet\\r\\nMobiliado\\r\\nAca...   \n",
       "74     Piscina\\r\\nVaranda gourmet\\r\\nChurrasqueira\\r\\...   \n",
       "75     Piscina\\r\\nVaranda gourmet\\r\\nChurrasqueira\\r\\...   \n",
       "...                                                  ...   \n",
       "19405                                                NaN   \n",
       "19412                                                NaN   \n",
       "19419                                                NaN   \n",
       "19426                                                NaN   \n",
       "19433                                                NaN   \n",
       "\n",
       "                                price     condo    bairro        crawled_at  \n",
       "36                         R$ 890.000  R$ 1.000  Brooklin  2021-06-10 16:17  \n",
       "38     R$ 16.000 /mês\\r\\nR$ 2.750.000  R$ 2.100  Brooklin  2021-06-10 16:17  \n",
       "72                       R$ 2.249.000     R$ 10  Brooklin  2021-06-10 16:18  \n",
       "74                       R$ 1.200.000    R$ 950  Brooklin  2021-06-10 16:18  \n",
       "75                       R$ 2.300.000  R$ 2.000  Brooklin  2021-06-10 16:18  \n",
       "...                               ...       ...       ...               ...  \n",
       "19405                    R$ 1.800.000       NaN  Tucuruvi  2021-06-10 19:16  \n",
       "19412                      R$ 248.000       NaN  Tucuruvi  2021-06-10 19:16  \n",
       "19419                      R$ 380.000       NaN  Tucuruvi  2021-06-10 19:16  \n",
       "19426                    Sob Consulta       NaN  Tucuruvi  2021-06-10 19:16  \n",
       "19433                      R$ 429.000       NaN  Tucuruvi  2021-06-10 19:16  \n",
       "\n",
       "[3335 rows x 13 columns]"
      ]
     },
     "execution_count": 26,
     "metadata": {},
     "output_type": "execute_result"
    }
   ],
   "source": [
    "vr[vr.duplicated(subset=[\"id\", \"header\", \"address\", \"area\", \"rooms\", \"price\"])]"
   ]
  },
  {
   "cell_type": "code",
   "execution_count": 27,
   "metadata": {},
   "outputs": [],
   "source": [
    "vr = vr.drop_duplicates(subset=[\"id\", \"header\", \"address\", \"area\", \"rooms\", \"price\"], \n",
    "                        keep=\"first\")"
   ]
  },
  {
   "cell_type": "markdown",
   "metadata": {},
   "source": [
    "Removendo anuncios"
   ]
  },
  {
   "cell_type": "code",
   "execution_count": 28,
   "metadata": {},
   "outputs": [
    {
     "name": "stdout",
     "output_type": "stream",
     "text": [
      "<class 'pandas.core.frame.DataFrame'>\n",
      "Int64Index: 16105 entries, 0 to 19439\n",
      "Data columns (total 13 columns):\n",
      " #   Column      Non-Null Count  Dtype \n",
      "---  ------      --------------  ----- \n",
      " 0   id          16105 non-null  object\n",
      " 1   url         16105 non-null  object\n",
      " 2   header      16105 non-null  object\n",
      " 3   address     16105 non-null  object\n",
      " 4   area        16105 non-null  object\n",
      " 5   rooms       16105 non-null  object\n",
      " 6   bathrooms   16105 non-null  object\n",
      " 7   garages     16105 non-null  object\n",
      " 8   amenities   13064 non-null  object\n",
      " 9   price       16105 non-null  object\n",
      " 10  condo       13263 non-null  object\n",
      " 11  bairro      16105 non-null  object\n",
      " 12  crawled_at  16105 non-null  object\n",
      "dtypes: object(13)\n",
      "memory usage: 1.7+ MB\n"
     ]
    }
   ],
   "source": [
    "vr.info()"
   ]
  },
  {
   "cell_type": "code",
   "execution_count": 29,
   "metadata": {},
   "outputs": [
    {
     "data": {
      "text/plain": [
       "False"
      ]
     },
     "execution_count": 29,
     "metadata": {},
     "output_type": "execute_result"
    }
   ],
   "source": [
    "vr[\"id\"][1].isnumeric()"
   ]
  },
  {
   "cell_type": "code",
   "execution_count": 30,
   "metadata": {},
   "outputs": [],
   "source": [
    "filtro_de_anuncio = [identificador.isnumeric() for identificador in vr[\"id\"]]"
   ]
  },
  {
   "cell_type": "code",
   "execution_count": 31,
   "metadata": {},
   "outputs": [],
   "source": [
    "vr = vr[filtro_de_anuncio]"
   ]
  },
  {
   "cell_type": "code",
   "execution_count": 32,
   "metadata": {},
   "outputs": [
    {
     "ename": "OverflowError",
     "evalue": "Python int too large to convert to C long",
     "output_type": "error",
     "traceback": [
      "\u001b[1;31m---------------------------------------------------------------------------\u001b[0m",
      "\u001b[1;31mOverflowError\u001b[0m                             Traceback (most recent call last)",
      "\u001b[1;32m<ipython-input-32-f8410e809ff2>\u001b[0m in \u001b[0;36m<module>\u001b[1;34m\u001b[0m\n\u001b[1;32m----> 1\u001b[1;33m \u001b[0mvr\u001b[0m\u001b[1;33m[\u001b[0m\u001b[1;34m\"id\"\u001b[0m\u001b[1;33m]\u001b[0m \u001b[1;33m=\u001b[0m \u001b[0mvr\u001b[0m\u001b[1;33m[\u001b[0m\u001b[1;34m\"id\"\u001b[0m\u001b[1;33m]\u001b[0m\u001b[1;33m.\u001b[0m\u001b[0mastype\u001b[0m\u001b[1;33m(\u001b[0m\u001b[0mint\u001b[0m\u001b[1;33m)\u001b[0m\u001b[1;33m\u001b[0m\u001b[1;33m\u001b[0m\u001b[0m\n\u001b[0m",
      "\u001b[1;32m~\\anaconda3\\lib\\site-packages\\pandas\\core\\generic.py\u001b[0m in \u001b[0;36mastype\u001b[1;34m(self, dtype, copy, errors)\u001b[0m\n\u001b[0;32m   5544\u001b[0m         \u001b[1;32melse\u001b[0m\u001b[1;33m:\u001b[0m\u001b[1;33m\u001b[0m\u001b[1;33m\u001b[0m\u001b[0m\n\u001b[0;32m   5545\u001b[0m             \u001b[1;31m# else, only a single dtype is given\u001b[0m\u001b[1;33m\u001b[0m\u001b[1;33m\u001b[0m\u001b[1;33m\u001b[0m\u001b[0m\n\u001b[1;32m-> 5546\u001b[1;33m             \u001b[0mnew_data\u001b[0m \u001b[1;33m=\u001b[0m \u001b[0mself\u001b[0m\u001b[1;33m.\u001b[0m\u001b[0m_mgr\u001b[0m\u001b[1;33m.\u001b[0m\u001b[0mastype\u001b[0m\u001b[1;33m(\u001b[0m\u001b[0mdtype\u001b[0m\u001b[1;33m=\u001b[0m\u001b[0mdtype\u001b[0m\u001b[1;33m,\u001b[0m \u001b[0mcopy\u001b[0m\u001b[1;33m=\u001b[0m\u001b[0mcopy\u001b[0m\u001b[1;33m,\u001b[0m \u001b[0merrors\u001b[0m\u001b[1;33m=\u001b[0m\u001b[0merrors\u001b[0m\u001b[1;33m,\u001b[0m\u001b[1;33m)\u001b[0m\u001b[1;33m\u001b[0m\u001b[1;33m\u001b[0m\u001b[0m\n\u001b[0m\u001b[0;32m   5547\u001b[0m             \u001b[1;32mreturn\u001b[0m \u001b[0mself\u001b[0m\u001b[1;33m.\u001b[0m\u001b[0m_constructor\u001b[0m\u001b[1;33m(\u001b[0m\u001b[0mnew_data\u001b[0m\u001b[1;33m)\u001b[0m\u001b[1;33m.\u001b[0m\u001b[0m__finalize__\u001b[0m\u001b[1;33m(\u001b[0m\u001b[0mself\u001b[0m\u001b[1;33m,\u001b[0m \u001b[0mmethod\u001b[0m\u001b[1;33m=\u001b[0m\u001b[1;34m\"astype\"\u001b[0m\u001b[1;33m)\u001b[0m\u001b[1;33m\u001b[0m\u001b[1;33m\u001b[0m\u001b[0m\n\u001b[0;32m   5548\u001b[0m \u001b[1;33m\u001b[0m\u001b[0m\n",
      "\u001b[1;32m~\\anaconda3\\lib\\site-packages\\pandas\\core\\internals\\managers.py\u001b[0m in \u001b[0;36mastype\u001b[1;34m(self, dtype, copy, errors)\u001b[0m\n\u001b[0;32m    593\u001b[0m         \u001b[0mself\u001b[0m\u001b[1;33m,\u001b[0m \u001b[0mdtype\u001b[0m\u001b[1;33m,\u001b[0m \u001b[0mcopy\u001b[0m\u001b[1;33m:\u001b[0m \u001b[0mbool\u001b[0m \u001b[1;33m=\u001b[0m \u001b[1;32mFalse\u001b[0m\u001b[1;33m,\u001b[0m \u001b[0merrors\u001b[0m\u001b[1;33m:\u001b[0m \u001b[0mstr\u001b[0m \u001b[1;33m=\u001b[0m \u001b[1;34m\"raise\"\u001b[0m\u001b[1;33m\u001b[0m\u001b[1;33m\u001b[0m\u001b[0m\n\u001b[0;32m    594\u001b[0m     ) -> \"BlockManager\":\n\u001b[1;32m--> 595\u001b[1;33m         \u001b[1;32mreturn\u001b[0m \u001b[0mself\u001b[0m\u001b[1;33m.\u001b[0m\u001b[0mapply\u001b[0m\u001b[1;33m(\u001b[0m\u001b[1;34m\"astype\"\u001b[0m\u001b[1;33m,\u001b[0m \u001b[0mdtype\u001b[0m\u001b[1;33m=\u001b[0m\u001b[0mdtype\u001b[0m\u001b[1;33m,\u001b[0m \u001b[0mcopy\u001b[0m\u001b[1;33m=\u001b[0m\u001b[0mcopy\u001b[0m\u001b[1;33m,\u001b[0m \u001b[0merrors\u001b[0m\u001b[1;33m=\u001b[0m\u001b[0merrors\u001b[0m\u001b[1;33m)\u001b[0m\u001b[1;33m\u001b[0m\u001b[1;33m\u001b[0m\u001b[0m\n\u001b[0m\u001b[0;32m    596\u001b[0m \u001b[1;33m\u001b[0m\u001b[0m\n\u001b[0;32m    597\u001b[0m     def convert(\n",
      "\u001b[1;32m~\\anaconda3\\lib\\site-packages\\pandas\\core\\internals\\managers.py\u001b[0m in \u001b[0;36mapply\u001b[1;34m(self, f, align_keys, **kwargs)\u001b[0m\n\u001b[0;32m    404\u001b[0m                 \u001b[0mapplied\u001b[0m \u001b[1;33m=\u001b[0m \u001b[0mb\u001b[0m\u001b[1;33m.\u001b[0m\u001b[0mapply\u001b[0m\u001b[1;33m(\u001b[0m\u001b[0mf\u001b[0m\u001b[1;33m,\u001b[0m \u001b[1;33m**\u001b[0m\u001b[0mkwargs\u001b[0m\u001b[1;33m)\u001b[0m\u001b[1;33m\u001b[0m\u001b[1;33m\u001b[0m\u001b[0m\n\u001b[0;32m    405\u001b[0m             \u001b[1;32melse\u001b[0m\u001b[1;33m:\u001b[0m\u001b[1;33m\u001b[0m\u001b[1;33m\u001b[0m\u001b[0m\n\u001b[1;32m--> 406\u001b[1;33m                 \u001b[0mapplied\u001b[0m \u001b[1;33m=\u001b[0m \u001b[0mgetattr\u001b[0m\u001b[1;33m(\u001b[0m\u001b[0mb\u001b[0m\u001b[1;33m,\u001b[0m \u001b[0mf\u001b[0m\u001b[1;33m)\u001b[0m\u001b[1;33m(\u001b[0m\u001b[1;33m**\u001b[0m\u001b[0mkwargs\u001b[0m\u001b[1;33m)\u001b[0m\u001b[1;33m\u001b[0m\u001b[1;33m\u001b[0m\u001b[0m\n\u001b[0m\u001b[0;32m    407\u001b[0m             \u001b[0mresult_blocks\u001b[0m \u001b[1;33m=\u001b[0m \u001b[0m_extend_blocks\u001b[0m\u001b[1;33m(\u001b[0m\u001b[0mapplied\u001b[0m\u001b[1;33m,\u001b[0m \u001b[0mresult_blocks\u001b[0m\u001b[1;33m)\u001b[0m\u001b[1;33m\u001b[0m\u001b[1;33m\u001b[0m\u001b[0m\n\u001b[0;32m    408\u001b[0m \u001b[1;33m\u001b[0m\u001b[0m\n",
      "\u001b[1;32m~\\anaconda3\\lib\\site-packages\\pandas\\core\\internals\\blocks.py\u001b[0m in \u001b[0;36mastype\u001b[1;34m(self, dtype, copy, errors)\u001b[0m\n\u001b[0;32m    593\u001b[0m             \u001b[0mvals1d\u001b[0m \u001b[1;33m=\u001b[0m \u001b[0mvalues\u001b[0m\u001b[1;33m.\u001b[0m\u001b[0mravel\u001b[0m\u001b[1;33m(\u001b[0m\u001b[1;33m)\u001b[0m\u001b[1;33m\u001b[0m\u001b[1;33m\u001b[0m\u001b[0m\n\u001b[0;32m    594\u001b[0m             \u001b[1;32mtry\u001b[0m\u001b[1;33m:\u001b[0m\u001b[1;33m\u001b[0m\u001b[1;33m\u001b[0m\u001b[0m\n\u001b[1;32m--> 595\u001b[1;33m                 \u001b[0mvalues\u001b[0m \u001b[1;33m=\u001b[0m \u001b[0mastype_nansafe\u001b[0m\u001b[1;33m(\u001b[0m\u001b[0mvals1d\u001b[0m\u001b[1;33m,\u001b[0m \u001b[0mdtype\u001b[0m\u001b[1;33m,\u001b[0m \u001b[0mcopy\u001b[0m\u001b[1;33m=\u001b[0m\u001b[1;32mTrue\u001b[0m\u001b[1;33m)\u001b[0m\u001b[1;33m\u001b[0m\u001b[1;33m\u001b[0m\u001b[0m\n\u001b[0m\u001b[0;32m    596\u001b[0m             \u001b[1;32mexcept\u001b[0m \u001b[1;33m(\u001b[0m\u001b[0mValueError\u001b[0m\u001b[1;33m,\u001b[0m \u001b[0mTypeError\u001b[0m\u001b[1;33m)\u001b[0m\u001b[1;33m:\u001b[0m\u001b[1;33m\u001b[0m\u001b[1;33m\u001b[0m\u001b[0m\n\u001b[0;32m    597\u001b[0m                 \u001b[1;31m# e.g. astype_nansafe can fail on object-dtype of strings\u001b[0m\u001b[1;33m\u001b[0m\u001b[1;33m\u001b[0m\u001b[1;33m\u001b[0m\u001b[0m\n",
      "\u001b[1;32m~\\anaconda3\\lib\\site-packages\\pandas\\core\\dtypes\\cast.py\u001b[0m in \u001b[0;36mastype_nansafe\u001b[1;34m(arr, dtype, copy, skipna)\u001b[0m\n\u001b[0;32m    970\u001b[0m         \u001b[1;31m# work around NumPy brokenness, #1987\u001b[0m\u001b[1;33m\u001b[0m\u001b[1;33m\u001b[0m\u001b[1;33m\u001b[0m\u001b[0m\n\u001b[0;32m    971\u001b[0m         \u001b[1;32mif\u001b[0m \u001b[0mnp\u001b[0m\u001b[1;33m.\u001b[0m\u001b[0missubdtype\u001b[0m\u001b[1;33m(\u001b[0m\u001b[0mdtype\u001b[0m\u001b[1;33m.\u001b[0m\u001b[0mtype\u001b[0m\u001b[1;33m,\u001b[0m \u001b[0mnp\u001b[0m\u001b[1;33m.\u001b[0m\u001b[0minteger\u001b[0m\u001b[1;33m)\u001b[0m\u001b[1;33m:\u001b[0m\u001b[1;33m\u001b[0m\u001b[1;33m\u001b[0m\u001b[0m\n\u001b[1;32m--> 972\u001b[1;33m             \u001b[1;32mreturn\u001b[0m \u001b[0mlib\u001b[0m\u001b[1;33m.\u001b[0m\u001b[0mastype_intsafe\u001b[0m\u001b[1;33m(\u001b[0m\u001b[0marr\u001b[0m\u001b[1;33m.\u001b[0m\u001b[0mravel\u001b[0m\u001b[1;33m(\u001b[0m\u001b[1;33m)\u001b[0m\u001b[1;33m,\u001b[0m \u001b[0mdtype\u001b[0m\u001b[1;33m)\u001b[0m\u001b[1;33m.\u001b[0m\u001b[0mreshape\u001b[0m\u001b[1;33m(\u001b[0m\u001b[0marr\u001b[0m\u001b[1;33m.\u001b[0m\u001b[0mshape\u001b[0m\u001b[1;33m)\u001b[0m\u001b[1;33m\u001b[0m\u001b[1;33m\u001b[0m\u001b[0m\n\u001b[0m\u001b[0;32m    973\u001b[0m \u001b[1;33m\u001b[0m\u001b[0m\n\u001b[0;32m    974\u001b[0m         \u001b[1;31m# if we have a datetime/timedelta array of objects\u001b[0m\u001b[1;33m\u001b[0m\u001b[1;33m\u001b[0m\u001b[1;33m\u001b[0m\u001b[0m\n",
      "\u001b[1;32mpandas\\_libs\\lib.pyx\u001b[0m in \u001b[0;36mpandas._libs.lib.astype_intsafe\u001b[1;34m()\u001b[0m\n",
      "\u001b[1;31mOverflowError\u001b[0m: Python int too large to convert to C long"
     ]
    }
   ],
   "source": [
    "vr[\"id\"] = vr[\"id\"].astype(int)"
   ]
  },
  {
   "cell_type": "code",
   "execution_count": null,
   "metadata": {},
   "outputs": [],
   "source": [
    "vr = vr.reset_index(drop=True)"
   ]
  },
  {
   "cell_type": "markdown",
   "metadata": {},
   "source": [
    "Area"
   ]
  },
  {
   "cell_type": "code",
   "execution_count": null,
   "metadata": {},
   "outputs": [],
   "source": [
    "vr[\"area\"] = vr[\"area\"].astype(int)"
   ]
  },
  {
   "cell_type": "markdown",
   "metadata": {},
   "source": [
    "rooms"
   ]
  },
  {
   "cell_type": "code",
   "execution_count": null,
   "metadata": {},
   "outputs": [
    {
     "data": {
      "text/plain": [
       "0    2 Quartos\n",
       "1    3 Quartos\n",
       "2    3 Quartos\n",
       "3    3 Quartos\n",
       "4    4 Quartos\n",
       "Name: rooms, dtype: object"
      ]
     },
     "execution_count": 18,
     "metadata": {},
     "output_type": "execute_result"
    }
   ],
   "source": [
    "vr[\"rooms\"].head()"
   ]
  },
  {
   "cell_type": "code",
   "execution_count": null,
   "metadata": {},
   "outputs": [],
   "source": [
    "vr[\"rooms\"] = vr[\"rooms\"].str.split(\" \").str[0].str.replace(\"--\", \"0\").astype(int)"
   ]
  },
  {
   "cell_type": "markdown",
   "metadata": {},
   "source": [
    "banheiros"
   ]
  },
  {
   "cell_type": "code",
   "execution_count": null,
   "metadata": {},
   "outputs": [],
   "source": [
    "vr[\"bathrooms\"] = vr[\"bathrooms\"].str.split(\" \").str[0].str.replace(\"--\", \"0\").astype(int)"
   ]
  },
  {
   "cell_type": "markdown",
   "metadata": {},
   "source": [
    "garagens"
   ]
  },
  {
   "cell_type": "code",
   "execution_count": null,
   "metadata": {},
   "outputs": [
    {
     "ename": "AttributeError",
     "evalue": "Can only use .str accessor with string values!",
     "output_type": "error",
     "traceback": [
      "\u001b[1;31m---------------------------------------------------------------------------\u001b[0m",
      "\u001b[1;31mAttributeError\u001b[0m                            Traceback (most recent call last)",
      "\u001b[1;32m<ipython-input-22-ffb7b21f878b>\u001b[0m in \u001b[0;36m<module>\u001b[1;34m\u001b[0m\n\u001b[1;32m----> 1\u001b[1;33m \u001b[0mvr\u001b[0m\u001b[1;33m[\u001b[0m\u001b[1;34m\"garages\"\u001b[0m\u001b[1;33m]\u001b[0m \u001b[1;33m=\u001b[0m \u001b[0mvr\u001b[0m\u001b[1;33m[\u001b[0m\u001b[1;34m\"garages\"\u001b[0m\u001b[1;33m]\u001b[0m\u001b[1;33m.\u001b[0m\u001b[0mstr\u001b[0m\u001b[1;33m.\u001b[0m\u001b[0mreplace\u001b[0m\u001b[1;33m(\u001b[0m\u001b[1;34m\" Vaga\"\u001b[0m\u001b[1;33m,\u001b[0m \u001b[1;34m\"\"\u001b[0m\u001b[1;33m)\u001b[0m\u001b[1;33m.\u001b[0m\u001b[0mstr\u001b[0m\u001b[1;33m.\u001b[0m\u001b[0mreplace\u001b[0m\u001b[1;33m(\u001b[0m\u001b[1;34m\"s\"\u001b[0m\u001b[1;33m,\u001b[0m \u001b[1;34m\"\"\u001b[0m\u001b[1;33m)\u001b[0m\u001b[1;33m.\u001b[0m\u001b[0mstr\u001b[0m\u001b[1;33m.\u001b[0m\u001b[0mreplace\u001b[0m\u001b[1;33m(\u001b[0m\u001b[1;34m\"--\"\u001b[0m\u001b[1;33m,\u001b[0m \u001b[1;34m\"0\"\u001b[0m\u001b[1;33m)\u001b[0m\u001b[1;33m.\u001b[0m\u001b[0mastype\u001b[0m\u001b[1;33m(\u001b[0m\u001b[0mint\u001b[0m\u001b[1;33m)\u001b[0m\u001b[1;33m\u001b[0m\u001b[1;33m\u001b[0m\u001b[0m\n\u001b[0m",
      "\u001b[1;32m~\\anaconda3\\lib\\site-packages\\pandas\\core\\generic.py\u001b[0m in \u001b[0;36m__getattr__\u001b[1;34m(self, name)\u001b[0m\n\u001b[0;32m   5133\u001b[0m             \u001b[1;32mor\u001b[0m \u001b[0mname\u001b[0m \u001b[1;32min\u001b[0m \u001b[0mself\u001b[0m\u001b[1;33m.\u001b[0m\u001b[0m_accessors\u001b[0m\u001b[1;33m\u001b[0m\u001b[1;33m\u001b[0m\u001b[0m\n\u001b[0;32m   5134\u001b[0m         ):\n\u001b[1;32m-> 5135\u001b[1;33m             \u001b[1;32mreturn\u001b[0m \u001b[0mobject\u001b[0m\u001b[1;33m.\u001b[0m\u001b[0m__getattribute__\u001b[0m\u001b[1;33m(\u001b[0m\u001b[0mself\u001b[0m\u001b[1;33m,\u001b[0m \u001b[0mname\u001b[0m\u001b[1;33m)\u001b[0m\u001b[1;33m\u001b[0m\u001b[1;33m\u001b[0m\u001b[0m\n\u001b[0m\u001b[0;32m   5136\u001b[0m         \u001b[1;32melse\u001b[0m\u001b[1;33m:\u001b[0m\u001b[1;33m\u001b[0m\u001b[1;33m\u001b[0m\u001b[0m\n\u001b[0;32m   5137\u001b[0m             \u001b[1;32mif\u001b[0m \u001b[0mself\u001b[0m\u001b[1;33m.\u001b[0m\u001b[0m_info_axis\u001b[0m\u001b[1;33m.\u001b[0m\u001b[0m_can_hold_identifiers_and_holds_name\u001b[0m\u001b[1;33m(\u001b[0m\u001b[0mname\u001b[0m\u001b[1;33m)\u001b[0m\u001b[1;33m:\u001b[0m\u001b[1;33m\u001b[0m\u001b[1;33m\u001b[0m\u001b[0m\n",
      "\u001b[1;32m~\\anaconda3\\lib\\site-packages\\pandas\\core\\accessor.py\u001b[0m in \u001b[0;36m__get__\u001b[1;34m(self, obj, cls)\u001b[0m\n\u001b[0;32m    185\u001b[0m             \u001b[1;31m# we're accessing the attribute of the class, i.e., Dataset.geo\u001b[0m\u001b[1;33m\u001b[0m\u001b[1;33m\u001b[0m\u001b[1;33m\u001b[0m\u001b[0m\n\u001b[0;32m    186\u001b[0m             \u001b[1;32mreturn\u001b[0m \u001b[0mself\u001b[0m\u001b[1;33m.\u001b[0m\u001b[0m_accessor\u001b[0m\u001b[1;33m\u001b[0m\u001b[1;33m\u001b[0m\u001b[0m\n\u001b[1;32m--> 187\u001b[1;33m         \u001b[0maccessor_obj\u001b[0m \u001b[1;33m=\u001b[0m \u001b[0mself\u001b[0m\u001b[1;33m.\u001b[0m\u001b[0m_accessor\u001b[0m\u001b[1;33m(\u001b[0m\u001b[0mobj\u001b[0m\u001b[1;33m)\u001b[0m\u001b[1;33m\u001b[0m\u001b[1;33m\u001b[0m\u001b[0m\n\u001b[0m\u001b[0;32m    188\u001b[0m         \u001b[1;31m# Replace the property with the accessor object. Inspired by:\u001b[0m\u001b[1;33m\u001b[0m\u001b[1;33m\u001b[0m\u001b[1;33m\u001b[0m\u001b[0m\n\u001b[0;32m    189\u001b[0m         \u001b[1;31m# https://www.pydanny.com/cached-property.html\u001b[0m\u001b[1;33m\u001b[0m\u001b[1;33m\u001b[0m\u001b[1;33m\u001b[0m\u001b[0m\n",
      "\u001b[1;32m~\\anaconda3\\lib\\site-packages\\pandas\\core\\strings.py\u001b[0m in \u001b[0;36m__init__\u001b[1;34m(self, data)\u001b[0m\n\u001b[0;32m   2098\u001b[0m \u001b[1;33m\u001b[0m\u001b[0m\n\u001b[0;32m   2099\u001b[0m     \u001b[1;32mdef\u001b[0m \u001b[0m__init__\u001b[0m\u001b[1;33m(\u001b[0m\u001b[0mself\u001b[0m\u001b[1;33m,\u001b[0m \u001b[0mdata\u001b[0m\u001b[1;33m)\u001b[0m\u001b[1;33m:\u001b[0m\u001b[1;33m\u001b[0m\u001b[1;33m\u001b[0m\u001b[0m\n\u001b[1;32m-> 2100\u001b[1;33m         \u001b[0mself\u001b[0m\u001b[1;33m.\u001b[0m\u001b[0m_inferred_dtype\u001b[0m \u001b[1;33m=\u001b[0m \u001b[0mself\u001b[0m\u001b[1;33m.\u001b[0m\u001b[0m_validate\u001b[0m\u001b[1;33m(\u001b[0m\u001b[0mdata\u001b[0m\u001b[1;33m)\u001b[0m\u001b[1;33m\u001b[0m\u001b[1;33m\u001b[0m\u001b[0m\n\u001b[0m\u001b[0;32m   2101\u001b[0m         \u001b[0mself\u001b[0m\u001b[1;33m.\u001b[0m\u001b[0m_is_categorical\u001b[0m \u001b[1;33m=\u001b[0m \u001b[0mis_categorical_dtype\u001b[0m\u001b[1;33m(\u001b[0m\u001b[0mdata\u001b[0m\u001b[1;33m.\u001b[0m\u001b[0mdtype\u001b[0m\u001b[1;33m)\u001b[0m\u001b[1;33m\u001b[0m\u001b[1;33m\u001b[0m\u001b[0m\n\u001b[0;32m   2102\u001b[0m         \u001b[0mself\u001b[0m\u001b[1;33m.\u001b[0m\u001b[0m_is_string\u001b[0m \u001b[1;33m=\u001b[0m \u001b[0mdata\u001b[0m\u001b[1;33m.\u001b[0m\u001b[0mdtype\u001b[0m\u001b[1;33m.\u001b[0m\u001b[0mname\u001b[0m \u001b[1;33m==\u001b[0m \u001b[1;34m\"string\"\u001b[0m\u001b[1;33m\u001b[0m\u001b[1;33m\u001b[0m\u001b[0m\n",
      "\u001b[1;32m~\\anaconda3\\lib\\site-packages\\pandas\\core\\strings.py\u001b[0m in \u001b[0;36m_validate\u001b[1;34m(data)\u001b[0m\n\u001b[0;32m   2155\u001b[0m \u001b[1;33m\u001b[0m\u001b[0m\n\u001b[0;32m   2156\u001b[0m         \u001b[1;32mif\u001b[0m \u001b[0minferred_dtype\u001b[0m \u001b[1;32mnot\u001b[0m \u001b[1;32min\u001b[0m \u001b[0mallowed_types\u001b[0m\u001b[1;33m:\u001b[0m\u001b[1;33m\u001b[0m\u001b[1;33m\u001b[0m\u001b[0m\n\u001b[1;32m-> 2157\u001b[1;33m             \u001b[1;32mraise\u001b[0m \u001b[0mAttributeError\u001b[0m\u001b[1;33m(\u001b[0m\u001b[1;34m\"Can only use .str accessor with string values!\"\u001b[0m\u001b[1;33m)\u001b[0m\u001b[1;33m\u001b[0m\u001b[1;33m\u001b[0m\u001b[0m\n\u001b[0m\u001b[0;32m   2158\u001b[0m         \u001b[1;32mreturn\u001b[0m \u001b[0minferred_dtype\u001b[0m\u001b[1;33m\u001b[0m\u001b[1;33m\u001b[0m\u001b[0m\n\u001b[0;32m   2159\u001b[0m \u001b[1;33m\u001b[0m\u001b[0m\n",
      "\u001b[1;31mAttributeError\u001b[0m: Can only use .str accessor with string values!"
     ]
    }
   ],
   "source": [
    "vr[\"garages\"] = vr[\"garages\"].str.replace(\" Vaga\", \"\").str.replace(\"s\", \"\").str.replace(\"--\", \"0\").astype(int)"
   ]
  },
  {
   "cell_type": "markdown",
   "metadata": {},
   "source": [
    "preco"
   ]
  },
  {
   "cell_type": "code",
   "execution_count": 33,
   "metadata": {},
   "outputs": [],
   "source": [
    "vr[\"price\"] = vr[\"price\"].str.split(\" \").str[-1].str.replace(\".\", \"\").astype(int)"
   ]
  },
  {
   "cell_type": "code",
   "execution_count": 34,
   "metadata": {},
   "outputs": [],
   "source": [
    "vr[\"condo\"] = vr[\"condo\"].str.split(\" \").str[-1].str.replace(\".\", \"\").astype(float)"
   ]
  },
  {
   "cell_type": "markdown",
   "metadata": {},
   "source": [
    "datetime"
   ]
  },
  {
   "cell_type": "code",
   "execution_count": 35,
   "metadata": {},
   "outputs": [],
   "source": [
    "vr[\"crawled_at\"] = pd.to_datetime(vr[\"crawled_at\"], format=\"%Y-%m-%d %H:%M:%S\")"
   ]
  },
  {
   "cell_type": "code",
   "execution_count": 36,
   "metadata": {},
   "outputs": [
    {
     "data": {
      "text/plain": [
       "'Piscina\\r\\nVaranda gourmet\\r\\nMobiliado\\r\\nAcademia\\r\\nElevador'"
      ]
     },
     "execution_count": 36,
     "metadata": {},
     "output_type": "execute_result"
    }
   ],
   "source": [
    "vr[\"amenities\"].head()[2]"
   ]
  },
  {
   "cell_type": "code",
   "execution_count": 37,
   "metadata": {},
   "outputs": [],
   "source": [
    "vr = pd.concat([vr, vr[\"amenities\"].str.get_dummies(sep=\"\\n\")], axis=1)"
   ]
  },
  {
   "cell_type": "code",
   "execution_count": 38,
   "metadata": {},
   "outputs": [],
   "source": [
    "vr = vr.drop(columns=[\"amenities\"])"
   ]
  },
  {
   "cell_type": "code",
   "execution_count": 39,
   "metadata": {},
   "outputs": [
    {
     "name": "stdout",
     "output_type": "stream",
     "text": [
      "<class 'pandas.core.frame.DataFrame'>\n",
      "Int64Index: 15259 entries, 0 to 19439\n",
      "Columns: 156 entries, id to Área de serviço\n",
      "dtypes: datetime64[ns](1), float64(1), int32(1), int64(144), object(9)\n",
      "memory usage: 18.2+ MB\n"
     ]
    }
   ],
   "source": [
    "vr.info()"
   ]
  },
  {
   "cell_type": "code",
   "execution_count": 40,
   "metadata": {},
   "outputs": [],
   "source": [
    "vr[\"estado\"] = vr[\"address\"].str.split(\" - \").str[-1]"
   ]
  },
  {
   "cell_type": "code",
   "execution_count": 41,
   "metadata": {},
   "outputs": [],
   "source": [
    "vr = vr.loc[vr[\"estado\"]==\"SP\"].reset_index(drop=True)"
   ]
  },
  {
   "cell_type": "code",
   "execution_count": 42,
   "metadata": {},
   "outputs": [],
   "source": [
    "vr = vr[vr[\"address\"].str.contains(\"São Paulo\")].reset_index(drop=True)"
   ]
  },
  {
   "cell_type": "code",
   "execution_count": 43,
   "metadata": {},
   "outputs": [],
   "source": [
    "vr[\"parse_bairro\"] = (vr[\"address\"]\n",
    "                      .str.split(\", São Paulo - SP\")\n",
    "                      .str[-2]\n",
    "                      .str.split(\" - \")\n",
    "                      .str[-1]\n",
    "                      .str.replace(\"- \", \"\")\n",
    "                     )"
   ]
  },
  {
   "cell_type": "code",
   "execution_count": 44,
   "metadata": {},
   "outputs": [],
   "source": [
    "vr[\"parse_bairro\"] = (vr[\"parse_bairro\"]\n",
    "                      .str.lower()\n",
    "                      .str.normalize(\"NFKD\")\n",
    "                      .str.encode(\"ascii\", errors=\"ignore\")\n",
    "                      .str.decode(\"utf8\"))\n",
    "\n",
    "vr[\"bairro\"] = (vr[\"bairro\"]\n",
    "                .str.lower()\n",
    "                .str.normalize(\"NFKD\")\n",
    "                .str.encode(\"ascii\", errors=\"ignore\")\n",
    "                .str.decode(\"utf8\"))"
   ]
  },
  {
   "cell_type": "code",
   "execution_count": 45,
   "metadata": {},
   "outputs": [],
   "source": [
    "vr.to_csv(\"primary_data.csv\", index=False)"
   ]
  }
 ],
 "metadata": {
  "interpreter": {
   "hash": "eed3d826270b94bd46bf648186255016b839453b36819d31e6168b26975dcf6a"
  },
  "kernelspec": {
   "display_name": "Python 3.8.5 64-bit ('base': conda)",
   "name": "python3"
  },
  "language_info": {
   "codemirror_mode": {
    "name": "ipython",
    "version": 3
   },
   "file_extension": ".py",
   "mimetype": "text/x-python",
   "name": "python",
   "nbconvert_exporter": "python",
   "pygments_lexer": "ipython3",
   "version": "3.8.5"
  }
 },
 "nbformat": 4,
 "nbformat_minor": 5
}