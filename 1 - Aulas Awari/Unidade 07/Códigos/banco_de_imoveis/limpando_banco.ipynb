{
 "cells": [
  {
   "cell_type": "code",
   "execution_count": 223,
   "id": "revolutionary-notification",
   "metadata": {},
   "outputs": [],
   "source": [
    "import pandas as pd"
   ]
  },
  {
   "cell_type": "code",
   "execution_count": 225,
   "id": "academic-stake",
   "metadata": {},
   "outputs": [],
   "source": [
    "vr = pd.read_csv(\"raw.csv\")"
   ]
  },
  {
   "cell_type": "markdown",
   "id": "continental-granny",
   "metadata": {},
   "source": [
    "# Objetivos\n",
    "- Remover itens duplicatos (se tiver algum)\n",
    "- Remover propagandas\n",
    "- Colunas numéricas tem que ter só números\n",
    "\n",
    "# Desafios\n",
    "- Lidar com os amenities"
   ]
  },
  {
   "cell_type": "markdown",
   "id": "front-deviation",
   "metadata": {},
   "source": [
    "# Comando úteis\n",
    "vr -> No caso é o nome do dataframe que estamos trabalhando \n",
    "\n",
    "vr.head() -> Mostra as primeiras linhas\n",
    "\n",
    "vr.tail() -> Mostra as ultimas linhas\n",
    "\n",
    "vr.columns -> Nome das columnas\n",
    "\n",
    "vr.shape -> Mostra o \"formato\" do dataframe\n",
    "\n",
    "vr.duplicated(subset=[lista de colunas]) -> retorna verdadeiro para as linhas duplicadas\n",
    "\n",
    "vr.drop_duplicates(subset=[lista_de_colunas], keep=\"first\") -> remover duplicados da base\n",
    "\n",
    "vr.info() -> Mostra um resumo da tabela, com o tipo de dados de cada coluna\n",
    "\n",
    "vr[nome da coluna].unique() -> Mostra os valores unicos dessa coluna\n",
    "\n",
    "vr[\"NOMEDACOLUNA\"].str.split(\" \") -> Separa as strings da coluna NOMEDACOLUNA string no espaco. Ex: \"Um brinquedo\"-> [\"Um\", \"brinquedo\"]\n",
    "\n",
    "vr[\"NOMEDACOLUNA\"].str.replace(\"a\", \"b\") -> Para todas as strings da coluna NOMEDACOLUNA, substitui a por b. Ex: \"abacate\" -> \"bbbcbte\"\n",
    "\n",
    "vr.reset_index(drop=False) -> Re-constroi o indice sem pular valores. Util sempre que fizer alguma operacao que remova linhas para evitar warnings\n",
    "\n",
    "vr[\"NOMEDACOLUNA\"].isnull() -> Filtro para detectar null na coluna NOMEDACOLUNA\n",
    "\n",
    "vr.dropna() -> Remove linhas que tiverem nulls.\n",
    "\n",
    "vr.dropna(subset=[\"NOMEDACOLUNA\"]) -> Remove linhas que tiverem nulls na coluna NOMEDACOLUNA.\n",
    "\n",
    "vr.fillna(\"ERRO\") -> Substitui valores null pelo valor \"ERRO\"\n"
   ]
  },
  {
   "cell_type": "markdown",
   "id": "affiliated-florida",
   "metadata": {},
   "source": [
    "# Duplicados"
   ]
  },
  {
   "cell_type": "code",
   "execution_count": 226,
   "id": "athletic-company",
   "metadata": {},
   "outputs": [
    {
     "data": {
      "text/plain": [
       "Index(['id', 'url', 'header', 'address', 'area', 'rooms', 'bathrooms',\n",
       "       'garages', 'amenities', 'price', 'condo', 'crawler', 'crawled_at'],\n",
       "      dtype='object')"
      ]
     },
     "execution_count": 226,
     "metadata": {},
     "output_type": "execute_result"
    }
   ],
   "source": [
    "vr.columns"
   ]
  },
  {
   "cell_type": "code",
   "execution_count": 227,
   "id": "caroline-continuity",
   "metadata": {},
   "outputs": [
    {
     "data": {
      "text/html": [
       "<div>\n",
       "<style scoped>\n",
       "    .dataframe tbody tr th:only-of-type {\n",
       "        vertical-align: middle;\n",
       "    }\n",
       "\n",
       "    .dataframe tbody tr th {\n",
       "        vertical-align: top;\n",
       "    }\n",
       "\n",
       "    .dataframe thead th {\n",
       "        text-align: right;\n",
       "    }\n",
       "</style>\n",
       "<table border=\"1\" class=\"dataframe\">\n",
       "  <thead>\n",
       "    <tr style=\"text-align: right;\">\n",
       "      <th></th>\n",
       "      <th>id</th>\n",
       "      <th>url</th>\n",
       "      <th>header</th>\n",
       "      <th>address</th>\n",
       "      <th>area</th>\n",
       "      <th>rooms</th>\n",
       "      <th>bathrooms</th>\n",
       "      <th>garages</th>\n",
       "      <th>amenities</th>\n",
       "      <th>price</th>\n",
       "      <th>condo</th>\n",
       "      <th>crawler</th>\n",
       "      <th>crawled_at</th>\n",
       "    </tr>\n",
       "  </thead>\n",
       "  <tbody>\n",
       "    <tr>\n",
       "      <th>68</th>\n",
       "      <td>2439997677</td>\n",
       "      <td>https://www.vivareal.com.br/imovel/apartamento...</td>\n",
       "      <td>Apartamento com 3 Quartos à Venda, 130m²</td>\n",
       "      <td>Rua Doutor Paschoal Imperatriz - Brooklin, São...</td>\n",
       "      <td>130</td>\n",
       "      <td>3 Quartos</td>\n",
       "      <td>4 Banheiros</td>\n",
       "      <td>3 Vagas</td>\n",
       "      <td>NaN</td>\n",
       "      <td>R$ 1.436.800</td>\n",
       "      <td>NaN</td>\n",
       "      <td>Brooklin</td>\n",
       "      <td>2021-03-11 01:58</td>\n",
       "    </tr>\n",
       "    <tr>\n",
       "      <th>72</th>\n",
       "      <td>2439997677</td>\n",
       "      <td>https://www.vivareal.com.br/imovel/apartamento...</td>\n",
       "      <td>Apartamento com 3 Quartos à Venda, 130m²</td>\n",
       "      <td>Rua Doutor Paschoal Imperatriz - Brooklin, São...</td>\n",
       "      <td>130</td>\n",
       "      <td>3 Quartos</td>\n",
       "      <td>4 Banheiros</td>\n",
       "      <td>3 Vagas</td>\n",
       "      <td>NaN</td>\n",
       "      <td>R$ 1.436.800</td>\n",
       "      <td>NaN</td>\n",
       "      <td>Brooklin</td>\n",
       "      <td>2021-03-11 01:58</td>\n",
       "    </tr>\n",
       "  </tbody>\n",
       "</table>\n",
       "</div>"
      ],
      "text/plain": [
       "            id                                                url  \\\n",
       "68  2439997677  https://www.vivareal.com.br/imovel/apartamento...   \n",
       "72  2439997677  https://www.vivareal.com.br/imovel/apartamento...   \n",
       "\n",
       "                                      header  \\\n",
       "68  Apartamento com 3 Quartos à Venda, 130m²   \n",
       "72  Apartamento com 3 Quartos à Venda, 130m²   \n",
       "\n",
       "                                              address area      rooms  \\\n",
       "68  Rua Doutor Paschoal Imperatriz - Brooklin, São...  130  3 Quartos   \n",
       "72  Rua Doutor Paschoal Imperatriz - Brooklin, São...  130  3 Quartos   \n",
       "\n",
       "      bathrooms  garages amenities         price condo   crawler  \\\n",
       "68  4 Banheiros  3 Vagas       NaN  R$ 1.436.800   NaN  Brooklin   \n",
       "72  4 Banheiros  3 Vagas       NaN  R$ 1.436.800   NaN  Brooklin   \n",
       "\n",
       "          crawled_at  \n",
       "68  2021-03-11 01:58  \n",
       "72  2021-03-11 01:58  "
      ]
     },
     "execution_count": 227,
     "metadata": {},
     "output_type": "execute_result"
    }
   ],
   "source": [
    "vr.loc[vr[\"id\"]==\"2439997677\"]"
   ]
  },
  {
   "cell_type": "code",
   "execution_count": 228,
   "id": "fluid-minnesota",
   "metadata": {},
   "outputs": [
    {
     "data": {
      "text/html": [
       "<div>\n",
       "<style scoped>\n",
       "    .dataframe tbody tr th:only-of-type {\n",
       "        vertical-align: middle;\n",
       "    }\n",
       "\n",
       "    .dataframe tbody tr th {\n",
       "        vertical-align: top;\n",
       "    }\n",
       "\n",
       "    .dataframe thead th {\n",
       "        text-align: right;\n",
       "    }\n",
       "</style>\n",
       "<table border=\"1\" class=\"dataframe\">\n",
       "  <thead>\n",
       "    <tr style=\"text-align: right;\">\n",
       "      <th></th>\n",
       "      <th>id</th>\n",
       "      <th>url</th>\n",
       "      <th>header</th>\n",
       "      <th>address</th>\n",
       "      <th>area</th>\n",
       "      <th>rooms</th>\n",
       "      <th>bathrooms</th>\n",
       "      <th>garages</th>\n",
       "      <th>amenities</th>\n",
       "      <th>price</th>\n",
       "      <th>condo</th>\n",
       "      <th>crawler</th>\n",
       "      <th>crawled_at</th>\n",
       "    </tr>\n",
       "  </thead>\n",
       "  <tbody>\n",
       "    <tr>\n",
       "      <th>72</th>\n",
       "      <td>2439997677</td>\n",
       "      <td>https://www.vivareal.com.br/imovel/apartamento...</td>\n",
       "      <td>Apartamento com 3 Quartos à Venda, 130m²</td>\n",
       "      <td>Rua Doutor Paschoal Imperatriz - Brooklin, São...</td>\n",
       "      <td>130</td>\n",
       "      <td>3 Quartos</td>\n",
       "      <td>4 Banheiros</td>\n",
       "      <td>3 Vagas</td>\n",
       "      <td>NaN</td>\n",
       "      <td>R$ 1.436.800</td>\n",
       "      <td>NaN</td>\n",
       "      <td>Brooklin</td>\n",
       "      <td>2021-03-11 01:58</td>\n",
       "    </tr>\n",
       "    <tr>\n",
       "      <th>146</th>\n",
       "      <td>2501373854</td>\n",
       "      <td>https://www.vivareal.com.br/imovel/apartamento...</td>\n",
       "      <td>Apartamento com 2 Quartos à Venda, 63m²</td>\n",
       "      <td>Rua Soberana, 49 - Brooklin, São Paulo - SP</td>\n",
       "      <td>63</td>\n",
       "      <td>2 Quartos</td>\n",
       "      <td>2 Banheiros</td>\n",
       "      <td>1 Vaga</td>\n",
       "      <td>Piscina\\nChurrasqueira\\nAcademia\\nElevador\\nEs...</td>\n",
       "      <td>R$ 850.000</td>\n",
       "      <td>R$ 651</td>\n",
       "      <td>Brooklin</td>\n",
       "      <td>2021-03-11 01:58</td>\n",
       "    </tr>\n",
       "    <tr>\n",
       "      <th>218</th>\n",
       "      <td>2512231186</td>\n",
       "      <td>https://www.vivareal.com.br/imovel/apartamento...</td>\n",
       "      <td>Apartamento com 3 Quartos à Venda, 132m²</td>\n",
       "      <td>Rua Califórnia, 1127 - Brooklin, São Paulo - SP</td>\n",
       "      <td>132</td>\n",
       "      <td>3 Quartos</td>\n",
       "      <td>5 Banheiros</td>\n",
       "      <td>3 Vagas</td>\n",
       "      <td>Espaço gourmet\\nGerador elétrico\\nSegurança 24...</td>\n",
       "      <td>R$ 2.239.583</td>\n",
       "      <td>NaN</td>\n",
       "      <td>Brooklin</td>\n",
       "      <td>2021-03-11 01:59</td>\n",
       "    </tr>\n",
       "    <tr>\n",
       "      <th>219</th>\n",
       "      <td>2511999063</td>\n",
       "      <td>https://www.vivareal.com.br/imovel/apartamento...</td>\n",
       "      <td>Apartamento com Quarto para Venda/Aluguel 70m²</td>\n",
       "      <td>Rua Professor José Leite e Oiticica, 434 - Bro...</td>\n",
       "      <td>70</td>\n",
       "      <td>1 Quarto</td>\n",
       "      <td>2 Banheiros</td>\n",
       "      <td>1 Vaga</td>\n",
       "      <td>Mobiliado\\nVaranda\\nAcademia\\nÁrea de serviço\\...</td>\n",
       "      <td>R$ 1.050.000</td>\n",
       "      <td>R$ 1.033</td>\n",
       "      <td>Brooklin</td>\n",
       "      <td>2021-03-11 01:59</td>\n",
       "    </tr>\n",
       "    <tr>\n",
       "      <th>255</th>\n",
       "      <td>2483200723</td>\n",
       "      <td>https://www.vivareal.com.br/imovel/apartamento...</td>\n",
       "      <td>Apartamento com 3 Quartos à Venda, 147m²</td>\n",
       "      <td>Rua Professor José Leite e Oiticica, 240 - Bro...</td>\n",
       "      <td>147</td>\n",
       "      <td>3 Quartos</td>\n",
       "      <td>5 Banheiros</td>\n",
       "      <td>2 Vagas</td>\n",
       "      <td>Piscina\\nVaranda gourmet\\nMobiliado\\nAcademia\\...</td>\n",
       "      <td>R$ 1.850.000</td>\n",
       "      <td>R$ 1.177</td>\n",
       "      <td>Brooklin</td>\n",
       "      <td>2021-03-11 01:59</td>\n",
       "    </tr>\n",
       "    <tr>\n",
       "      <th>...</th>\n",
       "      <td>...</td>\n",
       "      <td>...</td>\n",
       "      <td>...</td>\n",
       "      <td>...</td>\n",
       "      <td>...</td>\n",
       "      <td>...</td>\n",
       "      <td>...</td>\n",
       "      <td>...</td>\n",
       "      <td>...</td>\n",
       "      <td>...</td>\n",
       "      <td>...</td>\n",
       "      <td>...</td>\n",
       "      <td>...</td>\n",
       "    </tr>\n",
       "    <tr>\n",
       "      <th>19405</th>\n",
       "      <td>https://www.vivareal.com.br/imoveis-lancamento...</td>\n",
       "      <td>https://www.vivareal.com.br/imoveis-lancamento...</td>\n",
       "      <td>Via Monteiro</td>\n",
       "      <td>Avenida Monteiro Lobato, 486 - Macedo, Guarulh...</td>\n",
       "      <td>25-60</td>\n",
       "      <td>1-3 Quartos</td>\n",
       "      <td>1-2 Banheiros</td>\n",
       "      <td>1 Vaga</td>\n",
       "      <td>NaN</td>\n",
       "      <td>Sob Consulta</td>\n",
       "      <td>NaN</td>\n",
       "      <td>Tucuruvi</td>\n",
       "      <td>2021-03-11 04:46</td>\n",
       "    </tr>\n",
       "    <tr>\n",
       "      <th>19412</th>\n",
       "      <td>https://www.vivareal.com.br/imoveis-lancamento...</td>\n",
       "      <td>https://www.vivareal.com.br/imoveis-lancamento...</td>\n",
       "      <td>Funn Limão</td>\n",
       "      <td>Rua Doutor Morais Dantas, 189 - Limão, São Pau...</td>\n",
       "      <td>34-38</td>\n",
       "      <td>2 Quartos</td>\n",
       "      <td>1 Banheiro</td>\n",
       "      <td>1 Vaga</td>\n",
       "      <td>Minha Casa Minha Vida</td>\n",
       "      <td>R$ 195.000</td>\n",
       "      <td>NaN</td>\n",
       "      <td>Tucuruvi</td>\n",
       "      <td>2021-03-11 04:46</td>\n",
       "    </tr>\n",
       "    <tr>\n",
       "      <th>19419</th>\n",
       "      <td>https://www.vivareal.com.br/imoveis-lancamento...</td>\n",
       "      <td>https://www.vivareal.com.br/imoveis-lancamento...</td>\n",
       "      <td>Inova Penha</td>\n",
       "      <td>Rua Mirandinha, 414 - Penha De Franca, São Pau...</td>\n",
       "      <td>48-51</td>\n",
       "      <td>2 Quartos</td>\n",
       "      <td>1 Banheiro</td>\n",
       "      <td>1 Vaga</td>\n",
       "      <td>NaN</td>\n",
       "      <td>Sob Consulta</td>\n",
       "      <td>NaN</td>\n",
       "      <td>Tucuruvi</td>\n",
       "      <td>2021-03-11 04:46</td>\n",
       "    </tr>\n",
       "    <tr>\n",
       "      <th>19426</th>\n",
       "      <td>https://www.vivareal.com.br/imoveis-lancamento...</td>\n",
       "      <td>https://www.vivareal.com.br/imoveis-lancamento...</td>\n",
       "      <td>Tom Penha</td>\n",
       "      <td>Avenida Tarumã, 505 - Vila Pierina, São Paulo ...</td>\n",
       "      <td>49-55</td>\n",
       "      <td>2 Quartos</td>\n",
       "      <td>1 Banheiro</td>\n",
       "      <td>-- Vagas</td>\n",
       "      <td>NaN</td>\n",
       "      <td>Sob Consulta</td>\n",
       "      <td>NaN</td>\n",
       "      <td>Tucuruvi</td>\n",
       "      <td>2021-03-11 04:46</td>\n",
       "    </tr>\n",
       "    <tr>\n",
       "      <th>19433</th>\n",
       "      <td>https://www.vivareal.com.br/imoveis-lancamento...</td>\n",
       "      <td>https://www.vivareal.com.br/imoveis-lancamento...</td>\n",
       "      <td>Praças da Cidade</td>\n",
       "      <td>Rua Piratininga, 833 - Brás, São Paulo - SP</td>\n",
       "      <td>55-94</td>\n",
       "      <td>1-2 Quartos</td>\n",
       "      <td>2 Banheiros</td>\n",
       "      <td>1 Vaga</td>\n",
       "      <td>NaN</td>\n",
       "      <td>Sob Consulta</td>\n",
       "      <td>NaN</td>\n",
       "      <td>Tucuruvi</td>\n",
       "      <td>2021-03-11 04:46</td>\n",
       "    </tr>\n",
       "  </tbody>\n",
       "</table>\n",
       "<p>2948 rows × 13 columns</p>\n",
       "</div>"
      ],
      "text/plain": [
       "                                                      id  \\\n",
       "72                                            2439997677   \n",
       "146                                           2501373854   \n",
       "218                                           2512231186   \n",
       "219                                           2511999063   \n",
       "255                                           2483200723   \n",
       "...                                                  ...   \n",
       "19405  https://www.vivareal.com.br/imoveis-lancamento...   \n",
       "19412  https://www.vivareal.com.br/imoveis-lancamento...   \n",
       "19419  https://www.vivareal.com.br/imoveis-lancamento...   \n",
       "19426  https://www.vivareal.com.br/imoveis-lancamento...   \n",
       "19433  https://www.vivareal.com.br/imoveis-lancamento...   \n",
       "\n",
       "                                                     url  \\\n",
       "72     https://www.vivareal.com.br/imovel/apartamento...   \n",
       "146    https://www.vivareal.com.br/imovel/apartamento...   \n",
       "218    https://www.vivareal.com.br/imovel/apartamento...   \n",
       "219    https://www.vivareal.com.br/imovel/apartamento...   \n",
       "255    https://www.vivareal.com.br/imovel/apartamento...   \n",
       "...                                                  ...   \n",
       "19405  https://www.vivareal.com.br/imoveis-lancamento...   \n",
       "19412  https://www.vivareal.com.br/imoveis-lancamento...   \n",
       "19419  https://www.vivareal.com.br/imoveis-lancamento...   \n",
       "19426  https://www.vivareal.com.br/imoveis-lancamento...   \n",
       "19433  https://www.vivareal.com.br/imoveis-lancamento...   \n",
       "\n",
       "                                               header  \\\n",
       "72           Apartamento com 3 Quartos à Venda, 130m²   \n",
       "146           Apartamento com 2 Quartos à Venda, 63m²   \n",
       "218          Apartamento com 3 Quartos à Venda, 132m²   \n",
       "219    Apartamento com Quarto para Venda/Aluguel 70m²   \n",
       "255          Apartamento com 3 Quartos à Venda, 147m²   \n",
       "...                                               ...   \n",
       "19405                                    Via Monteiro   \n",
       "19412                                      Funn Limão   \n",
       "19419                                     Inova Penha   \n",
       "19426                                       Tom Penha   \n",
       "19433                                Praças da Cidade   \n",
       "\n",
       "                                                 address   area        rooms  \\\n",
       "72     Rua Doutor Paschoal Imperatriz - Brooklin, São...    130    3 Quartos   \n",
       "146          Rua Soberana, 49 - Brooklin, São Paulo - SP     63    2 Quartos   \n",
       "218      Rua Califórnia, 1127 - Brooklin, São Paulo - SP    132    3 Quartos   \n",
       "219    Rua Professor José Leite e Oiticica, 434 - Bro...     70     1 Quarto   \n",
       "255    Rua Professor José Leite e Oiticica, 240 - Bro...    147    3 Quartos   \n",
       "...                                                  ...    ...          ...   \n",
       "19405  Avenida Monteiro Lobato, 486 - Macedo, Guarulh...  25-60  1-3 Quartos   \n",
       "19412  Rua Doutor Morais Dantas, 189 - Limão, São Pau...  34-38    2 Quartos   \n",
       "19419  Rua Mirandinha, 414 - Penha De Franca, São Pau...  48-51    2 Quartos   \n",
       "19426  Avenida Tarumã, 505 - Vila Pierina, São Paulo ...  49-55    2 Quartos   \n",
       "19433        Rua Piratininga, 833 - Brás, São Paulo - SP  55-94  1-2 Quartos   \n",
       "\n",
       "           bathrooms   garages  \\\n",
       "72       4 Banheiros   3 Vagas   \n",
       "146      2 Banheiros    1 Vaga   \n",
       "218      5 Banheiros   3 Vagas   \n",
       "219      2 Banheiros    1 Vaga   \n",
       "255      5 Banheiros   2 Vagas   \n",
       "...              ...       ...   \n",
       "19405  1-2 Banheiros    1 Vaga   \n",
       "19412     1 Banheiro    1 Vaga   \n",
       "19419     1 Banheiro    1 Vaga   \n",
       "19426     1 Banheiro  -- Vagas   \n",
       "19433    2 Banheiros    1 Vaga   \n",
       "\n",
       "                                               amenities         price  \\\n",
       "72                                                   NaN  R$ 1.436.800   \n",
       "146    Piscina\\nChurrasqueira\\nAcademia\\nElevador\\nEs...    R$ 850.000   \n",
       "218    Espaço gourmet\\nGerador elétrico\\nSegurança 24...  R$ 2.239.583   \n",
       "219    Mobiliado\\nVaranda\\nAcademia\\nÁrea de serviço\\...  R$ 1.050.000   \n",
       "255    Piscina\\nVaranda gourmet\\nMobiliado\\nAcademia\\...  R$ 1.850.000   \n",
       "...                                                  ...           ...   \n",
       "19405                                                NaN  Sob Consulta   \n",
       "19412                              Minha Casa Minha Vida    R$ 195.000   \n",
       "19419                                                NaN  Sob Consulta   \n",
       "19426                                                NaN  Sob Consulta   \n",
       "19433                                                NaN  Sob Consulta   \n",
       "\n",
       "          condo   crawler        crawled_at  \n",
       "72          NaN  Brooklin  2021-03-11 01:58  \n",
       "146      R$ 651  Brooklin  2021-03-11 01:58  \n",
       "218         NaN  Brooklin  2021-03-11 01:59  \n",
       "219    R$ 1.033  Brooklin  2021-03-11 01:59  \n",
       "255    R$ 1.177  Brooklin  2021-03-11 01:59  \n",
       "...         ...       ...               ...  \n",
       "19405       NaN  Tucuruvi  2021-03-11 04:46  \n",
       "19412       NaN  Tucuruvi  2021-03-11 04:46  \n",
       "19419       NaN  Tucuruvi  2021-03-11 04:46  \n",
       "19426       NaN  Tucuruvi  2021-03-11 04:46  \n",
       "19433       NaN  Tucuruvi  2021-03-11 04:46  \n",
       "\n",
       "[2948 rows x 13 columns]"
      ]
     },
     "execution_count": 228,
     "metadata": {},
     "output_type": "execute_result"
    }
   ],
   "source": [
    "vr[vr.duplicated(subset=[\"id\", \"header\", \"address\", \"area\", \"rooms\", \"price\"])]"
   ]
  },
  {
   "cell_type": "code",
   "execution_count": 229,
   "id": "mounted-madagascar",
   "metadata": {},
   "outputs": [],
   "source": [
    "vr = vr.drop_duplicates(subset=[\"id\", \"header\", \"address\", \"area\", \"rooms\", \"price\"], \n",
    "                        keep=\"first\")"
   ]
  },
  {
   "cell_type": "markdown",
   "id": "unavailable-wholesale",
   "metadata": {},
   "source": [
    "Removendo anuncios"
   ]
  },
  {
   "cell_type": "code",
   "execution_count": 230,
   "id": "scenic-humanitarian",
   "metadata": {},
   "outputs": [
    {
     "name": "stdout",
     "output_type": "stream",
     "text": [
      "<class 'pandas.core.frame.DataFrame'>\n",
      "Int64Index: 16492 entries, 0 to 19439\n",
      "Data columns (total 13 columns):\n",
      " #   Column      Non-Null Count  Dtype \n",
      "---  ------      --------------  ----- \n",
      " 0   id          16492 non-null  object\n",
      " 1   url         16492 non-null  object\n",
      " 2   header      16492 non-null  object\n",
      " 3   address     16492 non-null  object\n",
      " 4   area        16492 non-null  object\n",
      " 5   rooms       16492 non-null  object\n",
      " 6   bathrooms   16492 non-null  object\n",
      " 7   garages     16492 non-null  object\n",
      " 8   amenities   11877 non-null  object\n",
      " 9   price       16492 non-null  object\n",
      " 10  condo       12875 non-null  object\n",
      " 11  crawler     16492 non-null  object\n",
      " 12  crawled_at  16492 non-null  object\n",
      "dtypes: object(13)\n",
      "memory usage: 1.8+ MB\n"
     ]
    }
   ],
   "source": [
    "vr.info()"
   ]
  },
  {
   "cell_type": "code",
   "execution_count": 231,
   "id": "exotic-walter",
   "metadata": {},
   "outputs": [
    {
     "data": {
      "text/plain": [
       "False"
      ]
     },
     "execution_count": 231,
     "metadata": {},
     "output_type": "execute_result"
    }
   ],
   "source": [
    "vr[\"id\"][1].isnumeric()"
   ]
  },
  {
   "cell_type": "code",
   "execution_count": 232,
   "id": "cooked-rachel",
   "metadata": {},
   "outputs": [],
   "source": [
    "filtro_de_anuncio = [w.isnumeric() for w in vr[\"id\"]]"
   ]
  },
  {
   "cell_type": "code",
   "execution_count": 233,
   "id": "defensive-function",
   "metadata": {},
   "outputs": [],
   "source": [
    "vr = vr[filtro_de_anuncio]"
   ]
  },
  {
   "cell_type": "code",
   "execution_count": 234,
   "id": "equivalent-gossip",
   "metadata": {},
   "outputs": [],
   "source": [
    "vr = vr.reset_index(drop=True)"
   ]
  },
  {
   "cell_type": "code",
   "execution_count": 236,
   "id": "palestinian-april",
   "metadata": {},
   "outputs": [],
   "source": [
    "vr[\"id\"] = vr[\"id\"].astype(int)"
   ]
  },
  {
   "cell_type": "markdown",
   "id": "derived-stream",
   "metadata": {},
   "source": [
    "Area"
   ]
  },
  {
   "cell_type": "code",
   "execution_count": 237,
   "id": "received-active",
   "metadata": {},
   "outputs": [],
   "source": [
    "vr[\"area\"] = vr[\"area\"].astype(int)"
   ]
  },
  {
   "cell_type": "markdown",
   "id": "analyzed-turning",
   "metadata": {},
   "source": [
    "rooms"
   ]
  },
  {
   "cell_type": "code",
   "execution_count": 238,
   "id": "eight-injection",
   "metadata": {},
   "outputs": [
    {
     "data": {
      "text/plain": [
       "0    2 Quartos\n",
       "1    2 Quartos\n",
       "2    3 Quartos\n",
       "3     1 Quarto\n",
       "4    4 Quartos\n",
       "Name: rooms, dtype: object"
      ]
     },
     "execution_count": 238,
     "metadata": {},
     "output_type": "execute_result"
    }
   ],
   "source": [
    "vr[\"rooms\"].head()"
   ]
  },
  {
   "cell_type": "code",
   "execution_count": 239,
   "id": "intelligent-withdrawal",
   "metadata": {},
   "outputs": [],
   "source": [
    "vr[\"rooms\"] = vr[\"rooms\"].str.split(\" \").str[0].str.replace(\"--\", \"0\").astype(int)"
   ]
  },
  {
   "cell_type": "markdown",
   "id": "sharp-webcam",
   "metadata": {},
   "source": [
    "banheiros"
   ]
  },
  {
   "cell_type": "code",
   "execution_count": 240,
   "id": "modified-laser",
   "metadata": {},
   "outputs": [],
   "source": [
    "vr[\"bathrooms\"] = vr[\"bathrooms\"].str.split(\" \").str[0].str.replace(\"--\", \"0\").astype(int)"
   ]
  },
  {
   "cell_type": "markdown",
   "id": "cardiac-cooperation",
   "metadata": {},
   "source": [
    "garagens"
   ]
  },
  {
   "cell_type": "code",
   "execution_count": 241,
   "id": "swiss-domain",
   "metadata": {},
   "outputs": [],
   "source": [
    "vr[\"garages\"] = vr[\"garages\"].str.replace(\" Vaga\", \"\").str.replace(\"s\", \"\").str.replace(\"--\", \"0\").astype(int)"
   ]
  },
  {
   "cell_type": "markdown",
   "id": "appropriate-insured",
   "metadata": {},
   "source": [
    "preco"
   ]
  },
  {
   "cell_type": "code",
   "execution_count": 242,
   "id": "tender-being",
   "metadata": {},
   "outputs": [],
   "source": [
    "vr[\"price\"] = vr[\"price\"].str.split(\" \").str[1].str.replace(\".\", \"\").astype(int)"
   ]
  },
  {
   "cell_type": "code",
   "execution_count": 243,
   "id": "forced-annotation",
   "metadata": {},
   "outputs": [],
   "source": [
    "vr[\"condo\"] = vr[\"condo\"].str.split(\" \").str[1].str.replace(\".\", \"\").astype(float)"
   ]
  },
  {
   "cell_type": "markdown",
   "id": "wooden-benchmark",
   "metadata": {},
   "source": [
    "datetime"
   ]
  },
  {
   "cell_type": "code",
   "execution_count": 244,
   "id": "horizontal-petroleum",
   "metadata": {},
   "outputs": [],
   "source": [
    "vr[\"crawled_at\"] = pd.to_datetime(vr[\"crawled_at\"], format=\"%Y-%m-%d %H:%M:%S\")"
   ]
  },
  {
   "cell_type": "code",
   "execution_count": 259,
   "id": "historic-tennessee",
   "metadata": {},
   "outputs": [
    {
     "data": {
      "text/plain": [
       "'Academia\\nCondomínio fechado'"
      ]
     },
     "execution_count": 259,
     "metadata": {},
     "output_type": "execute_result"
    }
   ],
   "source": [
    "vr[\"amenities\"].head()[2]"
   ]
  },
  {
   "cell_type": "code",
   "execution_count": 263,
   "id": "standing-concentration",
   "metadata": {},
   "outputs": [],
   "source": [
    "vr = pd.concat([vr, vr[\"amenities\"].str.get_dummies(sep=\"\\n\")], axis=1)"
   ]
  },
  {
   "cell_type": "code",
   "execution_count": 269,
   "id": "reflected-sudan",
   "metadata": {},
   "outputs": [],
   "source": [
    "vr = vr.drop(columns=[\"amenities\"])"
   ]
  },
  {
   "cell_type": "code",
   "execution_count": 271,
   "id": "raising-tiffany",
   "metadata": {},
   "outputs": [
    {
     "name": "stdout",
     "output_type": "stream",
     "text": [
      "<class 'pandas.core.frame.DataFrame'>\n",
      "RangeIndex: 15524 entries, 0 to 15523\n",
      "Data columns (total 92 columns):\n",
      " #   Column                          Non-Null Count  Dtype         \n",
      "---  ------                          --------------  -----         \n",
      " 0   id                              15524 non-null  int64         \n",
      " 1   url                             15524 non-null  object        \n",
      " 2   header                          15524 non-null  object        \n",
      " 3   address                         15524 non-null  object        \n",
      " 4   area                            15524 non-null  int64         \n",
      " 5   rooms                           15524 non-null  int64         \n",
      " 6   bathrooms                       15524 non-null  int64         \n",
      " 7   garages                         15524 non-null  int64         \n",
      " 8   price                           15524 non-null  int64         \n",
      " 9   condo                           12875 non-null  float64       \n",
      " 10  crawler                         15524 non-null  object        \n",
      " 11  crawled_at                      15524 non-null  datetime64[ns]\n",
      " 12  Academia                        15524 non-null  int64         \n",
      " 13  Aceita animais                  15524 non-null  int64         \n",
      " 14  Acesso para deficientes         15524 non-null  int64         \n",
      " 15  Aquecimento                     15524 non-null  int64         \n",
      " 16  Ar-condicionado                 15524 non-null  int64         \n",
      " 17  Armário embutido                15524 non-null  int64         \n",
      " 18  Armário na cozinha              15524 non-null  int64         \n",
      " 19  Bicicletário                    15524 non-null  int64         \n",
      " 20  Cabeamento estruturado          15524 non-null  int64         \n",
      " 21  Churrasqueira                   15524 non-null  int64         \n",
      " 22  Churrasqueira na varanda        15524 non-null  int64         \n",
      " 23  Cinema                          15524 non-null  int64         \n",
      " 24  Circuito de segurança           15524 non-null  int64         \n",
      " 25  Closet                          15524 non-null  int64         \n",
      " 26  Condomínio fechado              15524 non-null  int64         \n",
      " 27  Conexão à internet              15524 non-null  int64         \n",
      " 28  Copa                            15524 non-null  int64         \n",
      " 29  Cozinha                         15524 non-null  int64         \n",
      " 30  Cozinha americana               15524 non-null  int64         \n",
      " 31  Cozinha grande                  15524 non-null  int64         \n",
      " 32  Depósito                        15524 non-null  int64         \n",
      " 33  Elevador                        15524 non-null  int64         \n",
      " 34  Escritório                      15524 non-null  int64         \n",
      " 35  Espaço gourmet                  15524 non-null  int64         \n",
      " 36  Espaço verde / Parque           15524 non-null  int64         \n",
      " 37  Espelhos d'água                 15524 non-null  int64         \n",
      " 38  Estacionamento para visitantes  15524 non-null  int64         \n",
      " 39  Garagem                         15524 non-null  int64         \n",
      " 40  Gerador elétrico                15524 non-null  int64         \n",
      " 41  Gramado                         15524 non-null  int64         \n",
      " 42  Gás Encanado                    15524 non-null  int64         \n",
      " 43  Interfone                       15524 non-null  int64         \n",
      " 44  Isolamento acústico             15524 non-null  int64         \n",
      " 45  Isolamento térmico              15524 non-null  int64         \n",
      " 46  Jardim                          15524 non-null  int64         \n",
      " 47  Lareira                         15524 non-null  int64         \n",
      " 48  Lavanderia                      15524 non-null  int64         \n",
      " 49  Mais de um andar                15524 non-null  int64         \n",
      " 50  Mobiliado                       15524 non-null  int64         \n",
      " 51  Móvel planejado                 15524 non-null  int64         \n",
      " 52  Perto de vias de acesso         15524 non-null  int64         \n",
      " 53  Piscina                         15524 non-null  int64         \n",
      " 54  Piscina infantil                15524 non-null  int64         \n",
      " 55  Piscina para adulto             15524 non-null  int64         \n",
      " 56  Piso laminado                   15524 non-null  int64         \n",
      " 57  Pista de cooper                 15524 non-null  int64         \n",
      " 58  Playground                      15524 non-null  int64         \n",
      " 59  Portaria 24h                    15524 non-null  int64         \n",
      " 60  Portão eletrônico               15524 non-null  int64         \n",
      " 61  Próximo a escola                15524 non-null  int64         \n",
      " 62  Próximo a hospitais             15524 non-null  int64         \n",
      " 63  Próximo a shopping              15524 non-null  int64         \n",
      " 64  Próximo a transporte público    15524 non-null  int64         \n",
      " 65  Quadra de squash                15524 non-null  int64         \n",
      " 66  Quadra de tênis                 15524 non-null  int64         \n",
      " 67  Quadra poliesportiva            15524 non-null  int64         \n",
      " 68  Quintal                         15524 non-null  int64         \n",
      " 69  Recepção                        15524 non-null  int64         \n",
      " 70  Sala de almoço                  15524 non-null  int64         \n",
      " 71  Sala de jantar                  15524 non-null  int64         \n",
      " 72  Sala de massagem                15524 non-null  int64         \n",
      " 73  Sala pequena                    15524 non-null  int64         \n",
      " 74  Salão de festas                 15524 non-null  int64         \n",
      " 75  Salão de jogos                  15524 non-null  int64         \n",
      " 76  Sauna                           15524 non-null  int64         \n",
      " 77  Segurança 24h                   15524 non-null  int64         \n",
      " 78  Serviços pay per use            15524 non-null  int64         \n",
      " 79  Serviços públicos essenciais    15524 non-null  int64         \n",
      " 80  Sistema de alarme               15524 non-null  int64         \n",
      " 81  Spa                             15524 non-null  int64         \n",
      " 82  TV a cabo                       15524 non-null  int64         \n",
      " 83  Varanda                         15524 non-null  int64         \n",
      " 84  Varanda gourmet                 15524 non-null  int64         \n",
      " 85  Vigia                           15524 non-null  int64         \n",
      " 86  Vista exterior                  15524 non-null  int64         \n",
      " 87  Vista para a montanha           15524 non-null  int64         \n",
      " 88  Vista para lago                 15524 non-null  int64         \n",
      " 89  Vista para o mar                15524 non-null  int64         \n",
      " 90  Área de lazer                   15524 non-null  int64         \n",
      " 91  Área de serviço                 15524 non-null  int64         \n",
      "dtypes: datetime64[ns](1), float64(1), int64(86), object(4)\n",
      "memory usage: 10.9+ MB\n"
     ]
    }
   ],
   "source": [
    "vr.info()"
   ]
  },
  {
   "cell_type": "code",
   "execution_count": null,
   "id": "north-sponsorship",
   "metadata": {},
   "outputs": [],
   "source": []
  }
 ],
 "metadata": {
  "kernelspec": {
   "display_name": "Python 3",
   "language": "python",
   "name": "python3"
  },
  "language_info": {
   "codemirror_mode": {
    "name": "ipython",
    "version": 3
   },
   "file_extension": ".py",
   "mimetype": "text/x-python",
   "name": "python",
   "nbconvert_exporter": "python",
   "pygments_lexer": "ipython3",
   "version": "3.8.0"
  }
 },
 "nbformat": 4,
 "nbformat_minor": 5
}
