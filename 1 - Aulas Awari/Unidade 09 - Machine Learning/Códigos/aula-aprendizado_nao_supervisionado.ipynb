{
 "cells": [
  {
   "cell_type": "code",
   "execution_count": 91,
   "source": [
    "#!pip install scikit-plot\r\n",
    "import pandas as pd\r\n",
    "from sklearn.model_selection import train_test_split, GridSearchCV\r\n",
    "from sklearn.preprocessing import StandardScaler, LabelEncoder\r\n",
    "from sklearn.linear_model import LinearRegression, Lasso, LogisticRegression\r\n",
    "from sklearn.tree import DecisionTreeClassifier, plot_tree\r\n",
    "from sklearn.neighbors import KNeighborsRegressor\r\n",
    "from sklearn.ensemble import RandomForestRegressor, RandomForestClassifier\r\n",
    "from sklearn.metrics import r2_score, classification_report, confusion_matrix\r\n",
    "from scikitplot.metrics import plot_confusion_matrix\r\n",
    "from sklearn.cluster import KMeans\r\n",
    "import seaborn as sns\r\n",
    "import matplotlib.pyplot as plt\r\n"
   ],
   "outputs": [],
   "metadata": {}
  },
  {
   "cell_type": "code",
   "execution_count": 92,
   "source": [
    "df = pd.read_csv(\"songs_df.csv\")\r\n"
   ],
   "outputs": [],
   "metadata": {}
  },
  {
   "cell_type": "code",
   "execution_count": 93,
   "source": [
    "df.columns\r\n"
   ],
   "outputs": [
    {
     "output_type": "execute_result",
     "data": {
      "text/plain": [
       "Index(['name', 'artist', 'popularity', 'id', 'label', 'danceability', 'energy',\n",
       "       'key', 'loudness', 'mode', 'speechiness', 'acousticness',\n",
       "       'instrumentalness', 'liveness', 'valence', 'tempo', 'type', 'uri',\n",
       "       'track_href', 'analysis_url', 'duration_ms', 'time_signature'],\n",
       "      dtype='object')"
      ]
     },
     "metadata": {},
     "execution_count": 93
    }
   ],
   "metadata": {}
  },
  {
   "cell_type": "code",
   "execution_count": 94,
   "source": [
    "features = ['popularity', 'danceability', 'energy', 'loudness', 'mode', 'speechiness',\r\n",
    "            'acousticness', 'instrumentalness', 'liveness', 'valence',  'duration_ms']\r\n",
    "target = \"label\"\r\n"
   ],
   "outputs": [],
   "metadata": {}
  },
  {
   "cell_type": "code",
   "execution_count": 95,
   "source": [
    "X = subset[features]\r\n"
   ],
   "outputs": [],
   "metadata": {}
  },
  {
   "cell_type": "code",
   "execution_count": 96,
   "source": [
    "scaler = StandardScaler()\r\n",
    "scaled_X = scaler.fit_transform(X)\r\n",
    "#label_encoder = LabelEncoder()\r\n"
   ],
   "outputs": [],
   "metadata": {}
  },
  {
   "cell_type": "code",
   "execution_count": 97,
   "source": [
    "kmeans = KMeans(n_clusters=6,random_state=12345)\r\n"
   ],
   "outputs": [],
   "metadata": {}
  },
  {
   "cell_type": "code",
   "execution_count": 98,
   "source": [
    "kmeans.fit(scaled_X)"
   ],
   "outputs": [
    {
     "output_type": "execute_result",
     "data": {
      "text/plain": [
       "KMeans(n_clusters=6, random_state=12345)"
      ]
     },
     "metadata": {},
     "execution_count": 98
    }
   ],
   "metadata": {}
  },
  {
   "cell_type": "code",
   "execution_count": 99,
   "source": [
    "cluster_label = kmeans.predict(scaled_X)"
   ],
   "outputs": [],
   "metadata": {}
  },
  {
   "cell_type": "code",
   "execution_count": 100,
   "source": [
    "df[\"cluster_label\"] = cluster_label\r\n"
   ],
   "outputs": [],
   "metadata": {}
  },
  {
   "cell_type": "code",
   "execution_count": 101,
   "source": [
    "df.groupby(\"cluster_label\").mean()"
   ],
   "outputs": [
    {
     "output_type": "execute_result",
     "data": {
      "text/plain": [
       "               popularity  danceability    energy       key   loudness  \\\n",
       "cluster_label                                                            \n",
       "0               50.717842      0.522465  0.264193  4.659751 -13.558282   \n",
       "1               66.475248      0.657917  0.740584  5.514851  -5.722578   \n",
       "2               65.242718      0.619056  0.744146  4.626214  -5.931131   \n",
       "3               38.211111      0.467117  0.199768  5.272222 -17.877378   \n",
       "4               27.782609      0.383757  0.877284  4.968116  -6.246806   \n",
       "5               67.452489      0.749421  0.621760  4.995475  -7.053928   \n",
       "\n",
       "                   mode  speechiness  acousticness  instrumentalness  \\\n",
       "cluster_label                                                          \n",
       "0              0.597510     0.042997      0.790475          0.056708   \n",
       "1              0.000000     0.074181      0.143055          0.016519   \n",
       "2              1.000000     0.061902      0.118616          0.018459   \n",
       "3              0.455556     0.041072      0.881533          0.800422   \n",
       "4              0.475362     0.088209      0.026093          0.105706   \n",
       "5              0.524887     0.313986      0.228325          0.000968   \n",
       "\n",
       "               liveness   valence       tempo    duration_ms  time_signature  \n",
       "cluster_label                                                                 \n",
       "0              0.150100  0.391086  110.243120  293833.211618        3.867220  \n",
       "1              0.187874  0.555233  121.588937  218865.171617        3.983498  \n",
       "2              0.163134  0.569981  121.808505  226033.123786        3.990291  \n",
       "3              0.137892  0.279569  110.054167  311388.477778        3.788889  \n",
       "4              0.227205  0.349427  130.812455  309218.304348        3.950725  \n",
       "5              0.166994  0.572154  128.007584  185813.380090        3.936652  "
      ],
      "text/html": [
       "<div>\n",
       "<style scoped>\n",
       "    .dataframe tbody tr th:only-of-type {\n",
       "        vertical-align: middle;\n",
       "    }\n",
       "\n",
       "    .dataframe tbody tr th {\n",
       "        vertical-align: top;\n",
       "    }\n",
       "\n",
       "    .dataframe thead th {\n",
       "        text-align: right;\n",
       "    }\n",
       "</style>\n",
       "<table border=\"1\" class=\"dataframe\">\n",
       "  <thead>\n",
       "    <tr style=\"text-align: right;\">\n",
       "      <th></th>\n",
       "      <th>popularity</th>\n",
       "      <th>danceability</th>\n",
       "      <th>energy</th>\n",
       "      <th>key</th>\n",
       "      <th>loudness</th>\n",
       "      <th>mode</th>\n",
       "      <th>speechiness</th>\n",
       "      <th>acousticness</th>\n",
       "      <th>instrumentalness</th>\n",
       "      <th>liveness</th>\n",
       "      <th>valence</th>\n",
       "      <th>tempo</th>\n",
       "      <th>duration_ms</th>\n",
       "      <th>time_signature</th>\n",
       "    </tr>\n",
       "    <tr>\n",
       "      <th>cluster_label</th>\n",
       "      <th></th>\n",
       "      <th></th>\n",
       "      <th></th>\n",
       "      <th></th>\n",
       "      <th></th>\n",
       "      <th></th>\n",
       "      <th></th>\n",
       "      <th></th>\n",
       "      <th></th>\n",
       "      <th></th>\n",
       "      <th></th>\n",
       "      <th></th>\n",
       "      <th></th>\n",
       "      <th></th>\n",
       "    </tr>\n",
       "  </thead>\n",
       "  <tbody>\n",
       "    <tr>\n",
       "      <th>0</th>\n",
       "      <td>50.717842</td>\n",
       "      <td>0.522465</td>\n",
       "      <td>0.264193</td>\n",
       "      <td>4.659751</td>\n",
       "      <td>-13.558282</td>\n",
       "      <td>0.597510</td>\n",
       "      <td>0.042997</td>\n",
       "      <td>0.790475</td>\n",
       "      <td>0.056708</td>\n",
       "      <td>0.150100</td>\n",
       "      <td>0.391086</td>\n",
       "      <td>110.243120</td>\n",
       "      <td>293833.211618</td>\n",
       "      <td>3.867220</td>\n",
       "    </tr>\n",
       "    <tr>\n",
       "      <th>1</th>\n",
       "      <td>66.475248</td>\n",
       "      <td>0.657917</td>\n",
       "      <td>0.740584</td>\n",
       "      <td>5.514851</td>\n",
       "      <td>-5.722578</td>\n",
       "      <td>0.000000</td>\n",
       "      <td>0.074181</td>\n",
       "      <td>0.143055</td>\n",
       "      <td>0.016519</td>\n",
       "      <td>0.187874</td>\n",
       "      <td>0.555233</td>\n",
       "      <td>121.588937</td>\n",
       "      <td>218865.171617</td>\n",
       "      <td>3.983498</td>\n",
       "    </tr>\n",
       "    <tr>\n",
       "      <th>2</th>\n",
       "      <td>65.242718</td>\n",
       "      <td>0.619056</td>\n",
       "      <td>0.744146</td>\n",
       "      <td>4.626214</td>\n",
       "      <td>-5.931131</td>\n",
       "      <td>1.000000</td>\n",
       "      <td>0.061902</td>\n",
       "      <td>0.118616</td>\n",
       "      <td>0.018459</td>\n",
       "      <td>0.163134</td>\n",
       "      <td>0.569981</td>\n",
       "      <td>121.808505</td>\n",
       "      <td>226033.123786</td>\n",
       "      <td>3.990291</td>\n",
       "    </tr>\n",
       "    <tr>\n",
       "      <th>3</th>\n",
       "      <td>38.211111</td>\n",
       "      <td>0.467117</td>\n",
       "      <td>0.199768</td>\n",
       "      <td>5.272222</td>\n",
       "      <td>-17.877378</td>\n",
       "      <td>0.455556</td>\n",
       "      <td>0.041072</td>\n",
       "      <td>0.881533</td>\n",
       "      <td>0.800422</td>\n",
       "      <td>0.137892</td>\n",
       "      <td>0.279569</td>\n",
       "      <td>110.054167</td>\n",
       "      <td>311388.477778</td>\n",
       "      <td>3.788889</td>\n",
       "    </tr>\n",
       "    <tr>\n",
       "      <th>4</th>\n",
       "      <td>27.782609</td>\n",
       "      <td>0.383757</td>\n",
       "      <td>0.877284</td>\n",
       "      <td>4.968116</td>\n",
       "      <td>-6.246806</td>\n",
       "      <td>0.475362</td>\n",
       "      <td>0.088209</td>\n",
       "      <td>0.026093</td>\n",
       "      <td>0.105706</td>\n",
       "      <td>0.227205</td>\n",
       "      <td>0.349427</td>\n",
       "      <td>130.812455</td>\n",
       "      <td>309218.304348</td>\n",
       "      <td>3.950725</td>\n",
       "    </tr>\n",
       "    <tr>\n",
       "      <th>5</th>\n",
       "      <td>67.452489</td>\n",
       "      <td>0.749421</td>\n",
       "      <td>0.621760</td>\n",
       "      <td>4.995475</td>\n",
       "      <td>-7.053928</td>\n",
       "      <td>0.524887</td>\n",
       "      <td>0.313986</td>\n",
       "      <td>0.228325</td>\n",
       "      <td>0.000968</td>\n",
       "      <td>0.166994</td>\n",
       "      <td>0.572154</td>\n",
       "      <td>128.007584</td>\n",
       "      <td>185813.380090</td>\n",
       "      <td>3.936652</td>\n",
       "    </tr>\n",
       "  </tbody>\n",
       "</table>\n",
       "</div>"
      ]
     },
     "metadata": {},
     "execution_count": 101
    }
   ],
   "metadata": {}
  },
  {
   "cell_type": "code",
   "execution_count": 102,
   "source": [
    "df.loc[df[\"cluster_label\"] == 3][\"label\"].value_counts()"
   ],
   "outputs": [
    {
     "output_type": "execute_result",
     "data": {
      "text/plain": [
       "jazz    180\n",
       "Name: label, dtype: int64"
      ]
     },
     "metadata": {},
     "execution_count": 102
    }
   ],
   "metadata": {}
  },
  {
   "cell_type": "code",
   "execution_count": 103,
   "source": [
    "inertias = []\r\n",
    "for k in range(1,11):\r\n",
    "    kmeans = KMeans(n_clusters=k)\r\n",
    "    kmeans.fit(scaled_X)\r\n",
    "    inertias.append(kmeans.inertia_)\r\n",
    "    print(f\"k={k}, inertia={kmeans.inertia_}\")"
   ],
   "outputs": [
    {
     "output_type": "stream",
     "name": "stdout",
     "text": [
      "k=1, inertia=18722.000000000033\n",
      "k=2, inertia=14079.530411036128\n",
      "k=3, inertia=12035.342995879204\n",
      "k=4, inertia=10939.23931046431\n",
      "k=5, inertia=10056.109044323735\n",
      "k=6, inertia=9399.05224126836\n",
      "k=7, inertia=8849.685066576634\n",
      "k=8, inertia=8347.478617407083\n",
      "k=9, inertia=7924.344880679129\n",
      "k=10, inertia=7689.431582011043\n"
     ]
    }
   ],
   "metadata": {}
  },
  {
   "cell_type": "code",
   "execution_count": 104,
   "source": [
    "# regra do cotovelo - pegaremos 3 clusters \r\n",
    "plt.plot(inertias)"
   ],
   "outputs": [
    {
     "output_type": "execute_result",
     "data": {
      "text/plain": [
       "[<matplotlib.lines.Line2D at 0x2104c1c7d00>]"
      ]
     },
     "metadata": {},
     "execution_count": 104
    },
    {
     "output_type": "display_data",
     "data": {
      "text/plain": [
       "<Figure size 432x288 with 1 Axes>"
      ],
      "image/png": "[encoded data removed]"
     },
     "metadata": {
      "needs_background": "light"
     }
    }
   ],
   "metadata": {}
  },
  {
   "cell_type": "code",
   "execution_count": 106,
   "source": [
    "kmeans = KMeans(n_clusters=k)\r\n",
    "kmeans.fit(scaled_X)\r\n",
    "labels = kmeans.labels_\r\n",
    "df[\"cluster_labels\"] = labels"
   ],
   "outputs": [],
   "metadata": {}
  },
  {
   "cell_type": "code",
   "execution_count": 108,
   "source": [
    "df.groupby(\"cluster_label\").mean()"
   ],
   "outputs": [
    {
     "output_type": "execute_result",
     "data": {
      "text/plain": [
       "               popularity  danceability    energy       key   loudness  \\\n",
       "cluster_label                                                            \n",
       "0               50.717842      0.522465  0.264193  4.659751 -13.558282   \n",
       "1               66.475248      0.657917  0.740584  5.514851  -5.722578   \n",
       "2               65.242718      0.619056  0.744146  4.626214  -5.931131   \n",
       "3               38.211111      0.467117  0.199768  5.272222 -17.877378   \n",
       "4               27.782609      0.383757  0.877284  4.968116  -6.246806   \n",
       "5               67.452489      0.749421  0.621760  4.995475  -7.053928   \n",
       "\n",
       "                   mode  speechiness  acousticness  instrumentalness  \\\n",
       "cluster_label                                                          \n",
       "0              0.597510     0.042997      0.790475          0.056708   \n",
       "1              0.000000     0.074181      0.143055          0.016519   \n",
       "2              1.000000     0.061902      0.118616          0.018459   \n",
       "3              0.455556     0.041072      0.881533          0.800422   \n",
       "4              0.475362     0.088209      0.026093          0.105706   \n",
       "5              0.524887     0.313986      0.228325          0.000968   \n",
       "\n",
       "               liveness   valence       tempo    duration_ms  time_signature  \\\n",
       "cluster_label                                                                  \n",
       "0              0.150100  0.391086  110.243120  293833.211618        3.867220   \n",
       "1              0.187874  0.555233  121.588937  218865.171617        3.983498   \n",
       "2              0.163134  0.569981  121.808505  226033.123786        3.990291   \n",
       "3              0.137892  0.279569  110.054167  311388.477778        3.788889   \n",
       "4              0.227205  0.349427  130.812455  309218.304348        3.950725   \n",
       "5              0.166994  0.572154  128.007584  185813.380090        3.936652   \n",
       "\n",
       "               cluster_labels  \n",
       "cluster_label                  \n",
       "0                    4.775934  \n",
       "1                    2.663366  \n",
       "2                    6.004854  \n",
       "3                    2.755556  \n",
       "4                    5.043478  \n",
       "5                    6.809955  "
      ],
      "text/html": [
       "<div>\n",
       "<style scoped>\n",
       "    .dataframe tbody tr th:only-of-type {\n",
       "        vertical-align: middle;\n",
       "    }\n",
       "\n",
       "    .dataframe tbody tr th {\n",
       "        vertical-align: top;\n",
       "    }\n",
       "\n",
       "    .dataframe thead th {\n",
       "        text-align: right;\n",
       "    }\n",
       "</style>\n",
       "<table border=\"1\" class=\"dataframe\">\n",
       "  <thead>\n",
       "    <tr style=\"text-align: right;\">\n",
       "      <th></th>\n",
       "      <th>popularity</th>\n",
       "      <th>danceability</th>\n",
       "      <th>energy</th>\n",
       "      <th>key</th>\n",
       "      <th>loudness</th>\n",
       "      <th>mode</th>\n",
       "      <th>speechiness</th>\n",
       "      <th>acousticness</th>\n",
       "      <th>instrumentalness</th>\n",
       "      <th>liveness</th>\n",
       "      <th>valence</th>\n",
       "      <th>tempo</th>\n",
       "      <th>duration_ms</th>\n",
       "      <th>time_signature</th>\n",
       "      <th>cluster_labels</th>\n",
       "    </tr>\n",
       "    <tr>\n",
       "      <th>cluster_label</th>\n",
       "      <th></th>\n",
       "      <th></th>\n",
       "      <th></th>\n",
       "      <th></th>\n",
       "      <th></th>\n",
       "      <th></th>\n",
       "      <th></th>\n",
       "      <th></th>\n",
       "      <th></th>\n",
       "      <th></th>\n",
       "      <th></th>\n",
       "      <th></th>\n",
       "      <th></th>\n",
       "      <th></th>\n",
       "      <th></th>\n",
       "    </tr>\n",
       "  </thead>\n",
       "  <tbody>\n",
       "    <tr>\n",
       "      <th>0</th>\n",
       "      <td>50.717842</td>\n",
       "      <td>0.522465</td>\n",
       "      <td>0.264193</td>\n",
       "      <td>4.659751</td>\n",
       "      <td>-13.558282</td>\n",
       "      <td>0.597510</td>\n",
       "      <td>0.042997</td>\n",
       "      <td>0.790475</td>\n",
       "      <td>0.056708</td>\n",
       "      <td>0.150100</td>\n",
       "      <td>0.391086</td>\n",
       "      <td>110.243120</td>\n",
       "      <td>293833.211618</td>\n",
       "      <td>3.867220</td>\n",
       "      <td>4.775934</td>\n",
       "    </tr>\n",
       "    <tr>\n",
       "      <th>1</th>\n",
       "      <td>66.475248</td>\n",
       "      <td>0.657917</td>\n",
       "      <td>0.740584</td>\n",
       "      <td>5.514851</td>\n",
       "      <td>-5.722578</td>\n",
       "      <td>0.000000</td>\n",
       "      <td>0.074181</td>\n",
       "      <td>0.143055</td>\n",
       "      <td>0.016519</td>\n",
       "      <td>0.187874</td>\n",
       "      <td>0.555233</td>\n",
       "      <td>121.588937</td>\n",
       "      <td>218865.171617</td>\n",
       "      <td>3.983498</td>\n",
       "      <td>2.663366</td>\n",
       "    </tr>\n",
       "    <tr>\n",
       "      <th>2</th>\n",
       "      <td>65.242718</td>\n",
       "      <td>0.619056</td>\n",
       "      <td>0.744146</td>\n",
       "      <td>4.626214</td>\n",
       "      <td>-5.931131</td>\n",
       "      <td>1.000000</td>\n",
       "      <td>0.061902</td>\n",
       "      <td>0.118616</td>\n",
       "      <td>0.018459</td>\n",
       "      <td>0.163134</td>\n",
       "      <td>0.569981</td>\n",
       "      <td>121.808505</td>\n",
       "      <td>226033.123786</td>\n",
       "      <td>3.990291</td>\n",
       "      <td>6.004854</td>\n",
       "    </tr>\n",
       "    <tr>\n",
       "      <th>3</th>\n",
       "      <td>38.211111</td>\n",
       "      <td>0.467117</td>\n",
       "      <td>0.199768</td>\n",
       "      <td>5.272222</td>\n",
       "      <td>-17.877378</td>\n",
       "      <td>0.455556</td>\n",
       "      <td>0.041072</td>\n",
       "      <td>0.881533</td>\n",
       "      <td>0.800422</td>\n",
       "      <td>0.137892</td>\n",
       "      <td>0.279569</td>\n",
       "      <td>110.054167</td>\n",
       "      <td>311388.477778</td>\n",
       "      <td>3.788889</td>\n",
       "      <td>2.755556</td>\n",
       "    </tr>\n",
       "    <tr>\n",
       "      <th>4</th>\n",
       "      <td>27.782609</td>\n",
       "      <td>0.383757</td>\n",
       "      <td>0.877284</td>\n",
       "      <td>4.968116</td>\n",
       "      <td>-6.246806</td>\n",
       "      <td>0.475362</td>\n",
       "      <td>0.088209</td>\n",
       "      <td>0.026093</td>\n",
       "      <td>0.105706</td>\n",
       "      <td>0.227205</td>\n",
       "      <td>0.349427</td>\n",
       "      <td>130.812455</td>\n",
       "      <td>309218.304348</td>\n",
       "      <td>3.950725</td>\n",
       "      <td>5.043478</td>\n",
       "    </tr>\n",
       "    <tr>\n",
       "      <th>5</th>\n",
       "      <td>67.452489</td>\n",
       "      <td>0.749421</td>\n",
       "      <td>0.621760</td>\n",
       "      <td>4.995475</td>\n",
       "      <td>-7.053928</td>\n",
       "      <td>0.524887</td>\n",
       "      <td>0.313986</td>\n",
       "      <td>0.228325</td>\n",
       "      <td>0.000968</td>\n",
       "      <td>0.166994</td>\n",
       "      <td>0.572154</td>\n",
       "      <td>128.007584</td>\n",
       "      <td>185813.380090</td>\n",
       "      <td>3.936652</td>\n",
       "      <td>6.809955</td>\n",
       "    </tr>\n",
       "  </tbody>\n",
       "</table>\n",
       "</div>"
      ]
     },
     "metadata": {},
     "execution_count": 108
    }
   ],
   "metadata": {}
  },
  {
   "cell_type": "code",
   "execution_count": 113,
   "source": [
    "df.loc[df[\"cluster_label\"]==2, \"label\"].value_counts()"
   ],
   "outputs": [
    {
     "output_type": "execute_result",
     "data": {
      "text/plain": [
       "pop      256\n",
       "metal    104\n",
       "rap       41\n",
       "jazz      11\n",
       "Name: label, dtype: int64"
      ]
     },
     "metadata": {},
     "execution_count": 113
    }
   ],
   "metadata": {}
  }
 ],
 "metadata": {
  "orig_nbformat": 4,
  "language_info": {
   "name": "python",
   "version": "3.8.5",
   "mimetype": "text/x-python",
   "codemirror_mode": {
    "name": "ipython",
    "version": 3
   },
   "pygments_lexer": "ipython3",
   "nbconvert_exporter": "python",
   "file_extension": ".py"
  },
  "kernelspec": {
   "name": "python3",
   "display_name": "Python 3.8.5 64-bit ('base': conda)"
  },
  "interpreter": {
   "hash": "eed3d826270b94bd46bf648186255016b839453b36819d31e6168b26975dcf6a"
  }
 },
 "nbformat": 4,
 "nbformat_minor": 2
}