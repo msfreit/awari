{
 "cells": [
  {
   "cell_type": "code",
   "execution_count": 131,
   "metadata": {},
   "outputs": [],
   "source": [
    "import pandas as pd"
   ]
  },
  {
   "cell_type": "code",
   "execution_count": 132,
   "metadata": {},
   "outputs": [
    {
     "output_type": "execute_result",
     "data": {
      "text/plain": [
       "             bairro                                                url  \\\n",
       "0      vila_mariana  https://apartamento.mercadolivre.com.br/MLB-19...   \n",
       "1      vila_mariana  https://apartamento.mercadolivre.com.br/MLB-19...   \n",
       "2      vila_mariana  https://apartamento.mercadolivre.com.br/MLB-19...   \n",
       "3      vila_mariana  https://apartamento.mercadolivre.com.br/MLB-17...   \n",
       "4      vila_mariana  https://apartamento.mercadolivre.com.br/MLB-16...   \n",
       "...             ...                                                ...   \n",
       "13712     liberdade  https://apartamento.mercadolivre.com.br/MLB-16...   \n",
       "13713     liberdade  https://apartamento.mercadolivre.com.br/MLB-14...   \n",
       "13714     liberdade  https://apartamento.mercadolivre.com.br/MLB-13...   \n",
       "13715     liberdade  https://apartamento.mercadolivre.com.br/MLB-18...   \n",
       "13716     liberdade  https://apartamento.mercadolivre.com.br/MLB-18...   \n",
       "\n",
       "         preco                                             titulo  \\\n",
       "0      630.000  More Próximo Ao Metro E Parque Ibirapuera - Bi...   \n",
       "1      680.000                  Apartamento Residencial - Bi30227   \n",
       "2      610.000                   Studio Na Vila Mariana - Bi30121   \n",
       "3      356.186                                 INSPIRE IBIRAPUERA   \n",
       "4      800.000  Apartamento Com 3 Dormitórios À Venda, 84 M² P...   \n",
       "...        ...                                                ...   \n",
       "13712  305.000  Apartamento Com 1 Dormitório À Venda, 47 M² Po...   \n",
       "13713  660.000  Apartamento Com 80 M² Com 2 Dormitórios, 2 Ban...   \n",
       "13714  660.000                    Apartamento - Ap02040 - 2941876   \n",
       "13715  720.000  Apartamento Novo Com Churrasqueira, 67m² Próxi...   \n",
       "13716  300.000  Apartamento Com 2 Dormitórios À Venda, 64 M² P...   \n",
       "\n",
       "                                                endereco  \\\n",
       "0      R França Pinto, Vila Mariana, São Paulo Zona S...   \n",
       "1      R Pedro Pomponazzi, Jardim Vila Mariana, São P...   \n",
       "2      R Paula Ney, Vila Mariana, São Paulo Zona Sul,...   \n",
       "3            Vila Mariana, São Paulo Zona Sul, São Paulo   \n",
       "4            Vila Mariana, São Paulo Zona Sul, São Paulo   \n",
       "...                                                  ...   \n",
       "13712             Liberdade, São Paulo Centro, São Paulo   \n",
       "13713             Liberdade, São Paulo Centro, São Paulo   \n",
       "13714  Rua Galvão Bueno, Liberdade, São Paulo Centro,...   \n",
       "13715  R Da Glória, Liberdade, São Paulo Centro, São ...   \n",
       "13716             Liberdade, São Paulo Centro, São Paulo   \n",
       "\n",
       "                         area       quartos  \n",
       "0           92 m² construídos     3 quartos  \n",
       "1           53 m² construídos      1 quarto  \n",
       "2           27 m² construídos      1 quarto  \n",
       "3      25 - 51 m² construídos  1 - 2 dorms.  \n",
       "4           84 m² construídos     3 quartos  \n",
       "...                       ...           ...  \n",
       "13712       47 m² construídos      1 quarto  \n",
       "13713       80 m² construídos     2 quartos  \n",
       "13714       79 m² construídos     3 quartos  \n",
       "13715       66 m² construídos     2 quartos  \n",
       "13716       64 m² construídos     2 quartos  \n",
       "\n",
       "[13717 rows x 7 columns]"
      ],
      "text/html": "<div>\n<style scoped>\n    .dataframe tbody tr th:only-of-type {\n        vertical-align: middle;\n    }\n\n    .dataframe tbody tr th {\n        vertical-align: top;\n    }\n\n    .dataframe thead th {\n        text-align: right;\n    }\n</style>\n<table border=\"1\" class=\"dataframe\">\n  <thead>\n    <tr style=\"text-align: right;\">\n      <th></th>\n      <th>bairro</th>\n      <th>url</th>\n      <th>preco</th>\n      <th>titulo</th>\n      <th>endereco</th>\n      <th>area</th>\n      <th>quartos</th>\n    </tr>\n  </thead>\n  <tbody>\n    <tr>\n      <th>0</th>\n      <td>vila_mariana</td>\n      <td>https://apartamento.mercadolivre.com.br/MLB-19...</td>\n      <td>630.000</td>\n      <td>More Próximo Ao Metro E Parque Ibirapuera - Bi...</td>\n      <td>R França Pinto, Vila Mariana, São Paulo Zona S...</td>\n      <td>92 m² construídos</td>\n      <td>3 quartos</td>\n    </tr>\n    <tr>\n      <th>1</th>\n      <td>vila_mariana</td>\n      <td>https://apartamento.mercadolivre.com.br/MLB-19...</td>\n      <td>680.000</td>\n      <td>Apartamento Residencial - Bi30227</td>\n      <td>R Pedro Pomponazzi, Jardim Vila Mariana, São P...</td>\n      <td>53 m² construídos</td>\n      <td>1 quarto</td>\n    </tr>\n    <tr>\n      <th>2</th>\n      <td>vila_mariana</td>\n      <td>https://apartamento.mercadolivre.com.br/MLB-19...</td>\n      <td>610.000</td>\n      <td>Studio Na Vila Mariana - Bi30121</td>\n      <td>R Paula Ney, Vila Mariana, São Paulo Zona Sul,...</td>\n      <td>27 m² construídos</td>\n      <td>1 quarto</td>\n    </tr>\n    <tr>\n      <th>3</th>\n      <td>vila_mariana</td>\n      <td>https://apartamento.mercadolivre.com.br/MLB-17...</td>\n      <td>356.186</td>\n      <td>INSPIRE IBIRAPUERA</td>\n      <td>Vila Mariana, São Paulo Zona Sul, São Paulo</td>\n      <td>25 - 51 m² construídos</td>\n      <td>1 - 2 dorms.</td>\n    </tr>\n    <tr>\n      <th>4</th>\n      <td>vila_mariana</td>\n      <td>https://apartamento.mercadolivre.com.br/MLB-16...</td>\n      <td>800.000</td>\n      <td>Apartamento Com 3 Dormitórios À Venda, 84 M² P...</td>\n      <td>Vila Mariana, São Paulo Zona Sul, São Paulo</td>\n      <td>84 m² construídos</td>\n      <td>3 quartos</td>\n    </tr>\n    <tr>\n      <th>...</th>\n      <td>...</td>\n      <td>...</td>\n      <td>...</td>\n      <td>...</td>\n      <td>...</td>\n      <td>...</td>\n      <td>...</td>\n    </tr>\n    <tr>\n      <th>13712</th>\n      <td>liberdade</td>\n      <td>https://apartamento.mercadolivre.com.br/MLB-16...</td>\n      <td>305.000</td>\n      <td>Apartamento Com 1 Dormitório À Venda, 47 M² Po...</td>\n      <td>Liberdade, São Paulo Centro, São Paulo</td>\n      <td>47 m² construídos</td>\n      <td>1 quarto</td>\n    </tr>\n    <tr>\n      <th>13713</th>\n      <td>liberdade</td>\n      <td>https://apartamento.mercadolivre.com.br/MLB-14...</td>\n      <td>660.000</td>\n      <td>Apartamento Com 80 M² Com 2 Dormitórios, 2 Ban...</td>\n      <td>Liberdade, São Paulo Centro, São Paulo</td>\n      <td>80 m² construídos</td>\n      <td>2 quartos</td>\n    </tr>\n    <tr>\n      <th>13714</th>\n      <td>liberdade</td>\n      <td>https://apartamento.mercadolivre.com.br/MLB-13...</td>\n      <td>660.000</td>\n      <td>Apartamento - Ap02040 - 2941876</td>\n      <td>Rua Galvão Bueno, Liberdade, São Paulo Centro,...</td>\n      <td>79 m² construídos</td>\n      <td>3 quartos</td>\n    </tr>\n    <tr>\n      <th>13715</th>\n      <td>liberdade</td>\n      <td>https://apartamento.mercadolivre.com.br/MLB-18...</td>\n      <td>720.000</td>\n      <td>Apartamento Novo Com Churrasqueira, 67m² Próxi...</td>\n      <td>R Da Glória, Liberdade, São Paulo Centro, São ...</td>\n      <td>66 m² construídos</td>\n      <td>2 quartos</td>\n    </tr>\n    <tr>\n      <th>13716</th>\n      <td>liberdade</td>\n      <td>https://apartamento.mercadolivre.com.br/MLB-18...</td>\n      <td>300.000</td>\n      <td>Apartamento Com 2 Dormitórios À Venda, 64 M² P...</td>\n      <td>Liberdade, São Paulo Centro, São Paulo</td>\n      <td>64 m² construídos</td>\n      <td>2 quartos</td>\n    </tr>\n  </tbody>\n</table>\n<p>13717 rows × 7 columns</p>\n</div>"
     },
     "metadata": {},
     "execution_count": 132
    }
   ],
   "source": [
    "ml = pd.read_csv(\"resultados_completos.csv\")\n",
    "ml"
   ]
  },
  {
   "cell_type": "code",
   "execution_count": 133,
   "metadata": {},
   "outputs": [
    {
     "output_type": "execute_result",
     "data": {
      "text/plain": [
       "                                                      id  \\\n",
       "0                                             2472650173   \n",
       "1      https://www.vivareal.com.br/imoveis-lancamento...   \n",
       "2                                             2463778941   \n",
       "3                                             2505723836   \n",
       "4                                             2497648375   \n",
       "...                                                  ...   \n",
       "19435                                         2511444468   \n",
       "19436                                         2500619794   \n",
       "19437                                         2505112299   \n",
       "19438                                         2505098315   \n",
       "19439                                         2486035511   \n",
       "\n",
       "                                                     url  \\\n",
       "0      https://www.vivareal.com.br/imovel/apartamento...   \n",
       "1      https://www.vivareal.com.br/imoveis-lancamento...   \n",
       "2      https://www.vivareal.com.br/imovel/apartamento...   \n",
       "3      https://www.vivareal.com.br/imovel/apartamento...   \n",
       "4      https://www.vivareal.com.br/imovel/apartamento...   \n",
       "...                                                  ...   \n",
       "19435  https://www.vivareal.com.br/imovel/apartamento...   \n",
       "19436  https://www.vivareal.com.br/imovel/apartamento...   \n",
       "19437  https://www.vivareal.com.br/imovel/apartamento...   \n",
       "19438  https://www.vivareal.com.br/imovel/apartamento...   \n",
       "19439  https://www.vivareal.com.br/imovel/apartamento...   \n",
       "\n",
       "                                        header  \\\n",
       "0      Apartamento com 2 Quartos à Venda, 64m²   \n",
       "1                           Only Cidade Jardim   \n",
       "2      Apartamento com 2 Quartos à Venda, 83m²   \n",
       "3      Apartamento com 3 Quartos à Venda, 75m²   \n",
       "4         Apartamento com Quarto à Venda, 47m²   \n",
       "...                                        ...   \n",
       "19435  Apartamento com 2 Quartos à Venda, 56m²   \n",
       "19436  Apartamento com 3 Quartos à Venda, 78m²   \n",
       "19437  Apartamento com 3 Quartos à Venda, 82m²   \n",
       "19438  Apartamento com 3 Quartos à Venda, 82m²   \n",
       "19439  Apartamento com 2 Quartos à Venda, 96m²   \n",
       "\n",
       "                                                 address     area      rooms  \\\n",
       "0       Avenida Portugal, 401 - Brooklin, São Paulo - SP       64  2 Quartos   \n",
       "1      Avenida Ulysses Reis de Mattos, 100 - Real Par...  186-252  3 Quartos   \n",
       "2          Rua Nova York, 470 - Brooklin, São Paulo - SP       83  2 Quartos   \n",
       "3       Avenida Portugal, 371 - Brooklin, São Paulo - SP       75  3 Quartos   \n",
       "4                Rua Michigan - Brooklin, São Paulo - SP       47   1 Quarto   \n",
       "...                                                  ...      ...        ...   \n",
       "19435               Rua Purus - Tucuruvi, São Paulo - SP       56  2 Quartos   \n",
       "19436    Rua Manuel Gaya, 945 - Tucuruvi, São Paulo - SP       78  3 Quartos   \n",
       "19437  Avenida Coronel Sezefredo Fagundes - Tucuruvi,...       82  3 Quartos   \n",
       "19438  Avenida Coronel Sezefredo Fagundes - Tucuruvi,...       82  3 Quartos   \n",
       "19439     Avenida Mazzei, 530 - Tucuruvi, São Paulo - SP       96  2 Quartos   \n",
       "\n",
       "         bathrooms    garages  \\\n",
       "0      2 Banheiros     1 Vaga   \n",
       "1      4 Banheiros  2-4 Vagas   \n",
       "2      3 Banheiros    2 Vagas   \n",
       "3      2 Banheiros     1 Vaga   \n",
       "4      2 Banheiros     1 Vaga   \n",
       "...            ...        ...   \n",
       "19435   1 Banheiro     1 Vaga   \n",
       "19436  2 Banheiros    2 Vagas   \n",
       "19437  2 Banheiros     1 Vaga   \n",
       "19438  2 Banheiros     1 Vaga   \n",
       "19439   1 Banheiro     1 Vaga   \n",
       "\n",
       "                                               amenities  \\\n",
       "0      Elevador\\nAr-condicionado\\nPlayground\\nMóvel p...   \n",
       "1                                                    NaN   \n",
       "2      Piscina\\nElevador\\nCondomínio fechado\\nEspaço ...   \n",
       "3                           Academia\\nCondomínio fechado   \n",
       "4      Piscina\\nVaranda gourmet\\nMobiliado\\nChurrasqu...   \n",
       "...                                                  ...   \n",
       "19435        Playground\\nSalão de festas\\nSalão de jogos   \n",
       "19436  Piscina\\nVaranda gourmet\\nChurrasqueira\\nVaran...   \n",
       "19437                                        Aquecimento   \n",
       "19438                                        Aquecimento   \n",
       "19439  Piscina\\nMobiliado\\nChurrasqueira\\nAcademia\\nE...   \n",
       "\n",
       "                           price   condo   crawler        crawled_at  \n",
       "0                     R$ 715.000  R$ 778  Brooklin  2021-03-11 01:57  \n",
       "1      A partir de\\nR$ 2.429.620     NaN  Brooklin  2021-03-11 01:57  \n",
       "2                   R$ 1.350.000  R$ 600  Brooklin  2021-03-11 01:57  \n",
       "3                     R$ 680.000  R$ 717  Brooklin  2021-03-11 01:57  \n",
       "4                     R$ 750.000  R$ 463  Brooklin  2021-03-11 01:57  \n",
       "...                          ...     ...       ...               ...  \n",
       "19435                 R$ 359.000     NaN  Tucuruvi  2021-03-11 04:46  \n",
       "19436                 R$ 670.000  R$ 650  Tucuruvi  2021-03-11 04:46  \n",
       "19437                 R$ 675.000  R$ 650  Tucuruvi  2021-03-11 04:46  \n",
       "19438                 R$ 675.000  R$ 650  Tucuruvi  2021-03-11 04:46  \n",
       "19439                 R$ 540.000  R$ 670  Tucuruvi  2021-03-11 04:46  \n",
       "\n",
       "[19440 rows x 13 columns]"
      ],
      "text/html": "<div>\n<style scoped>\n    .dataframe tbody tr th:only-of-type {\n        vertical-align: middle;\n    }\n\n    .dataframe tbody tr th {\n        vertical-align: top;\n    }\n\n    .dataframe thead th {\n        text-align: right;\n    }\n</style>\n<table border=\"1\" class=\"dataframe\">\n  <thead>\n    <tr style=\"text-align: right;\">\n      <th></th>\n      <th>id</th>\n      <th>url</th>\n      <th>header</th>\n      <th>address</th>\n      <th>area</th>\n      <th>rooms</th>\n      <th>bathrooms</th>\n      <th>garages</th>\n      <th>amenities</th>\n      <th>price</th>\n      <th>condo</th>\n      <th>crawler</th>\n      <th>crawled_at</th>\n    </tr>\n  </thead>\n  <tbody>\n    <tr>\n      <th>0</th>\n      <td>2472650173</td>\n      <td>https://www.vivareal.com.br/imovel/apartamento...</td>\n      <td>Apartamento com 2 Quartos à Venda, 64m²</td>\n      <td>Avenida Portugal, 401 - Brooklin, São Paulo - SP</td>\n      <td>64</td>\n      <td>2 Quartos</td>\n      <td>2 Banheiros</td>\n      <td>1 Vaga</td>\n      <td>Elevador\\nAr-condicionado\\nPlayground\\nMóvel p...</td>\n      <td>R$ 715.000</td>\n      <td>R$ 778</td>\n      <td>Brooklin</td>\n      <td>2021-03-11 01:57</td>\n    </tr>\n    <tr>\n      <th>1</th>\n      <td>https://www.vivareal.com.br/imoveis-lancamento...</td>\n      <td>https://www.vivareal.com.br/imoveis-lancamento...</td>\n      <td>Only Cidade Jardim</td>\n      <td>Avenida Ulysses Reis de Mattos, 100 - Real Par...</td>\n      <td>186-252</td>\n      <td>3 Quartos</td>\n      <td>4 Banheiros</td>\n      <td>2-4 Vagas</td>\n      <td>NaN</td>\n      <td>A partir de\\nR$ 2.429.620</td>\n      <td>NaN</td>\n      <td>Brooklin</td>\n      <td>2021-03-11 01:57</td>\n    </tr>\n    <tr>\n      <th>2</th>\n      <td>2463778941</td>\n      <td>https://www.vivareal.com.br/imovel/apartamento...</td>\n      <td>Apartamento com 2 Quartos à Venda, 83m²</td>\n      <td>Rua Nova York, 470 - Brooklin, São Paulo - SP</td>\n      <td>83</td>\n      <td>2 Quartos</td>\n      <td>3 Banheiros</td>\n      <td>2 Vagas</td>\n      <td>Piscina\\nElevador\\nCondomínio fechado\\nEspaço ...</td>\n      <td>R$ 1.350.000</td>\n      <td>R$ 600</td>\n      <td>Brooklin</td>\n      <td>2021-03-11 01:57</td>\n    </tr>\n    <tr>\n      <th>3</th>\n      <td>2505723836</td>\n      <td>https://www.vivareal.com.br/imovel/apartamento...</td>\n      <td>Apartamento com 3 Quartos à Venda, 75m²</td>\n      <td>Avenida Portugal, 371 - Brooklin, São Paulo - SP</td>\n      <td>75</td>\n      <td>3 Quartos</td>\n      <td>2 Banheiros</td>\n      <td>1 Vaga</td>\n      <td>Academia\\nCondomínio fechado</td>\n      <td>R$ 680.000</td>\n      <td>R$ 717</td>\n      <td>Brooklin</td>\n      <td>2021-03-11 01:57</td>\n    </tr>\n    <tr>\n      <th>4</th>\n      <td>2497648375</td>\n      <td>https://www.vivareal.com.br/imovel/apartamento...</td>\n      <td>Apartamento com Quarto à Venda, 47m²</td>\n      <td>Rua Michigan - Brooklin, São Paulo - SP</td>\n      <td>47</td>\n      <td>1 Quarto</td>\n      <td>2 Banheiros</td>\n      <td>1 Vaga</td>\n      <td>Piscina\\nVaranda gourmet\\nMobiliado\\nChurrasqu...</td>\n      <td>R$ 750.000</td>\n      <td>R$ 463</td>\n      <td>Brooklin</td>\n      <td>2021-03-11 01:57</td>\n    </tr>\n    <tr>\n      <th>...</th>\n      <td>...</td>\n      <td>...</td>\n      <td>...</td>\n      <td>...</td>\n      <td>...</td>\n      <td>...</td>\n      <td>...</td>\n      <td>...</td>\n      <td>...</td>\n      <td>...</td>\n      <td>...</td>\n      <td>...</td>\n      <td>...</td>\n    </tr>\n    <tr>\n      <th>19435</th>\n      <td>2511444468</td>\n      <td>https://www.vivareal.com.br/imovel/apartamento...</td>\n      <td>Apartamento com 2 Quartos à Venda, 56m²</td>\n      <td>Rua Purus - Tucuruvi, São Paulo - SP</td>\n      <td>56</td>\n      <td>2 Quartos</td>\n      <td>1 Banheiro</td>\n      <td>1 Vaga</td>\n      <td>Playground\\nSalão de festas\\nSalão de jogos</td>\n      <td>R$ 359.000</td>\n      <td>NaN</td>\n      <td>Tucuruvi</td>\n      <td>2021-03-11 04:46</td>\n    </tr>\n    <tr>\n      <th>19436</th>\n      <td>2500619794</td>\n      <td>https://www.vivareal.com.br/imovel/apartamento...</td>\n      <td>Apartamento com 3 Quartos à Venda, 78m²</td>\n      <td>Rua Manuel Gaya, 945 - Tucuruvi, São Paulo - SP</td>\n      <td>78</td>\n      <td>3 Quartos</td>\n      <td>2 Banheiros</td>\n      <td>2 Vagas</td>\n      <td>Piscina\\nVaranda gourmet\\nChurrasqueira\\nVaran...</td>\n      <td>R$ 670.000</td>\n      <td>R$ 650</td>\n      <td>Tucuruvi</td>\n      <td>2021-03-11 04:46</td>\n    </tr>\n    <tr>\n      <th>19437</th>\n      <td>2505112299</td>\n      <td>https://www.vivareal.com.br/imovel/apartamento...</td>\n      <td>Apartamento com 3 Quartos à Venda, 82m²</td>\n      <td>Avenida Coronel Sezefredo Fagundes - Tucuruvi,...</td>\n      <td>82</td>\n      <td>3 Quartos</td>\n      <td>2 Banheiros</td>\n      <td>1 Vaga</td>\n      <td>Aquecimento</td>\n      <td>R$ 675.000</td>\n      <td>R$ 650</td>\n      <td>Tucuruvi</td>\n      <td>2021-03-11 04:46</td>\n    </tr>\n    <tr>\n      <th>19438</th>\n      <td>2505098315</td>\n      <td>https://www.vivareal.com.br/imovel/apartamento...</td>\n      <td>Apartamento com 3 Quartos à Venda, 82m²</td>\n      <td>Avenida Coronel Sezefredo Fagundes - Tucuruvi,...</td>\n      <td>82</td>\n      <td>3 Quartos</td>\n      <td>2 Banheiros</td>\n      <td>1 Vaga</td>\n      <td>Aquecimento</td>\n      <td>R$ 675.000</td>\n      <td>R$ 650</td>\n      <td>Tucuruvi</td>\n      <td>2021-03-11 04:46</td>\n    </tr>\n    <tr>\n      <th>19439</th>\n      <td>2486035511</td>\n      <td>https://www.vivareal.com.br/imovel/apartamento...</td>\n      <td>Apartamento com 2 Quartos à Venda, 96m²</td>\n      <td>Avenida Mazzei, 530 - Tucuruvi, São Paulo - SP</td>\n      <td>96</td>\n      <td>2 Quartos</td>\n      <td>1 Banheiro</td>\n      <td>1 Vaga</td>\n      <td>Piscina\\nMobiliado\\nChurrasqueira\\nAcademia\\nE...</td>\n      <td>R$ 540.000</td>\n      <td>R$ 670</td>\n      <td>Tucuruvi</td>\n      <td>2021-03-11 04:46</td>\n    </tr>\n  </tbody>\n</table>\n<p>19440 rows × 13 columns</p>\n</div>"
     },
     "metadata": {},
     "execution_count": 133
    }
   ],
   "source": [
    "vr = pd.read_csv(\"raw.csv\")\n",
    "vr"
   ]
  },
  {
   "cell_type": "markdown",
   "metadata": {},
   "source": [
    "# Objetivos\n",
    " - remover itens duplicados (se tiver algum)\n",
    " - Remover propagandas\n",
    " - Colunas numéricas tem que ter somente números\n",
    " - Lidar com os amenities"
   ]
  },
  {
   "cell_type": "markdown",
   "metadata": {},
   "source": [
    "- vr -> DataFrame\n",
    "- vr.head() -> mostra as primeiras linhas\n",
    "- vr.tail() -> mostra as últimas linhas\n",
    "- vr.columns -> nome das colunas\n",
    "- vr.shape -> mostra o numero de linhas e o numero de colunas\n",
    "- vr.duplicated(subset=[lista_de_colunas]) -> retorna verdadeiro para as linhas duplicadas\n",
    "- vr.drop_duplicates(subset=[lista_de_colunas], keep=\"first) -> remove duplicados da base"
   ]
  },
  {
   "cell_type": "markdown",
   "metadata": {},
   "source": [
    "# duplicados"
   ]
  },
  {
   "cell_type": "code",
   "execution_count": 134,
   "metadata": {},
   "outputs": [
    {
     "output_type": "execute_result",
     "data": {
      "text/plain": [
       "Index(['id', 'url', 'header', 'address', 'area', 'rooms', 'bathrooms',\n",
       "       'garages', 'amenities', 'price', 'condo', 'crawler', 'crawled_at'],\n",
       "      dtype='object')"
      ]
     },
     "metadata": {},
     "execution_count": 134
    }
   ],
   "source": [
    "vr.columns"
   ]
  },
  {
   "cell_type": "code",
   "execution_count": 135,
   "metadata": {},
   "outputs": [
    {
     "output_type": "execute_result",
     "data": {
      "text/plain": [
       "(19440, 13)"
      ]
     },
     "metadata": {},
     "execution_count": 135
    }
   ],
   "source": [
    "vr.shape"
   ]
  },
  {
   "cell_type": "code",
   "execution_count": 136,
   "metadata": {},
   "outputs": [
    {
     "output_type": "execute_result",
     "data": {
      "text/plain": [
       "                                                      id  \\\n",
       "72                                            2439997677   \n",
       "146                                           2501373854   \n",
       "218                                           2512231186   \n",
       "219                                           2511999063   \n",
       "255                                           2483200723   \n",
       "...                                                  ...   \n",
       "19405  https://www.vivareal.com.br/imoveis-lancamento...   \n",
       "19412  https://www.vivareal.com.br/imoveis-lancamento...   \n",
       "19419  https://www.vivareal.com.br/imoveis-lancamento...   \n",
       "19426  https://www.vivareal.com.br/imoveis-lancamento...   \n",
       "19433  https://www.vivareal.com.br/imoveis-lancamento...   \n",
       "\n",
       "                                                     url  \\\n",
       "72     https://www.vivareal.com.br/imovel/apartamento...   \n",
       "146    https://www.vivareal.com.br/imovel/apartamento...   \n",
       "218    https://www.vivareal.com.br/imovel/apartamento...   \n",
       "219    https://www.vivareal.com.br/imovel/apartamento...   \n",
       "255    https://www.vivareal.com.br/imovel/apartamento...   \n",
       "...                                                  ...   \n",
       "19405  https://www.vivareal.com.br/imoveis-lancamento...   \n",
       "19412  https://www.vivareal.com.br/imoveis-lancamento...   \n",
       "19419  https://www.vivareal.com.br/imoveis-lancamento...   \n",
       "19426  https://www.vivareal.com.br/imoveis-lancamento...   \n",
       "19433  https://www.vivareal.com.br/imoveis-lancamento...   \n",
       "\n",
       "                                               header  \\\n",
       "72           Apartamento com 3 Quartos à Venda, 130m²   \n",
       "146           Apartamento com 2 Quartos à Venda, 63m²   \n",
       "218          Apartamento com 3 Quartos à Venda, 132m²   \n",
       "219    Apartamento com Quarto para Venda/Aluguel 70m²   \n",
       "255          Apartamento com 3 Quartos à Venda, 147m²   \n",
       "...                                               ...   \n",
       "19405                                    Via Monteiro   \n",
       "19412                                      Funn Limão   \n",
       "19419                                     Inova Penha   \n",
       "19426                                       Tom Penha   \n",
       "19433                                Praças da Cidade   \n",
       "\n",
       "                                                 address   area        rooms  \\\n",
       "72     Rua Doutor Paschoal Imperatriz - Brooklin, São...    130    3 Quartos   \n",
       "146          Rua Soberana, 49 - Brooklin, São Paulo - SP     63    2 Quartos   \n",
       "218      Rua Califórnia, 1127 - Brooklin, São Paulo - SP    132    3 Quartos   \n",
       "219    Rua Professor José Leite e Oiticica, 434 - Bro...     70     1 Quarto   \n",
       "255    Rua Professor José Leite e Oiticica, 240 - Bro...    147    3 Quartos   \n",
       "...                                                  ...    ...          ...   \n",
       "19405  Avenida Monteiro Lobato, 486 - Macedo, Guarulh...  25-60  1-3 Quartos   \n",
       "19412  Rua Doutor Morais Dantas, 189 - Limão, São Pau...  34-38    2 Quartos   \n",
       "19419  Rua Mirandinha, 414 - Penha De Franca, São Pau...  48-51    2 Quartos   \n",
       "19426  Avenida Tarumã, 505 - Vila Pierina, São Paulo ...  49-55    2 Quartos   \n",
       "19433        Rua Piratininga, 833 - Brás, São Paulo - SP  55-94  1-2 Quartos   \n",
       "\n",
       "           bathrooms   garages  \\\n",
       "72       4 Banheiros   3 Vagas   \n",
       "146      2 Banheiros    1 Vaga   \n",
       "218      5 Banheiros   3 Vagas   \n",
       "219      2 Banheiros    1 Vaga   \n",
       "255      5 Banheiros   2 Vagas   \n",
       "...              ...       ...   \n",
       "19405  1-2 Banheiros    1 Vaga   \n",
       "19412     1 Banheiro    1 Vaga   \n",
       "19419     1 Banheiro    1 Vaga   \n",
       "19426     1 Banheiro  -- Vagas   \n",
       "19433    2 Banheiros    1 Vaga   \n",
       "\n",
       "                                               amenities         price  \\\n",
       "72                                                   NaN  R$ 1.436.800   \n",
       "146    Piscina\\nChurrasqueira\\nAcademia\\nElevador\\nEs...    R$ 850.000   \n",
       "218    Espaço gourmet\\nGerador elétrico\\nSegurança 24...  R$ 2.239.583   \n",
       "219    Mobiliado\\nVaranda\\nAcademia\\nÁrea de serviço\\...  R$ 1.050.000   \n",
       "255    Piscina\\nVaranda gourmet\\nMobiliado\\nAcademia\\...  R$ 1.850.000   \n",
       "...                                                  ...           ...   \n",
       "19405                                                NaN  Sob Consulta   \n",
       "19412                              Minha Casa Minha Vida    R$ 195.000   \n",
       "19419                                                NaN  Sob Consulta   \n",
       "19426                                                NaN  Sob Consulta   \n",
       "19433                                                NaN  Sob Consulta   \n",
       "\n",
       "          condo   crawler        crawled_at  \n",
       "72          NaN  Brooklin  2021-03-11 01:58  \n",
       "146      R$ 651  Brooklin  2021-03-11 01:58  \n",
       "218         NaN  Brooklin  2021-03-11 01:59  \n",
       "219    R$ 1.033  Brooklin  2021-03-11 01:59  \n",
       "255    R$ 1.177  Brooklin  2021-03-11 01:59  \n",
       "...         ...       ...               ...  \n",
       "19405       NaN  Tucuruvi  2021-03-11 04:46  \n",
       "19412       NaN  Tucuruvi  2021-03-11 04:46  \n",
       "19419       NaN  Tucuruvi  2021-03-11 04:46  \n",
       "19426       NaN  Tucuruvi  2021-03-11 04:46  \n",
       "19433       NaN  Tucuruvi  2021-03-11 04:46  \n",
       "\n",
       "[2948 rows x 13 columns]"
      ],
      "text/html": "<div>\n<style scoped>\n    .dataframe tbody tr th:only-of-type {\n        vertical-align: middle;\n    }\n\n    .dataframe tbody tr th {\n        vertical-align: top;\n    }\n\n    .dataframe thead th {\n        text-align: right;\n    }\n</style>\n<table border=\"1\" class=\"dataframe\">\n  <thead>\n    <tr style=\"text-align: right;\">\n      <th></th>\n      <th>id</th>\n      <th>url</th>\n      <th>header</th>\n      <th>address</th>\n      <th>area</th>\n      <th>rooms</th>\n      <th>bathrooms</th>\n      <th>garages</th>\n      <th>amenities</th>\n      <th>price</th>\n      <th>condo</th>\n      <th>crawler</th>\n      <th>crawled_at</th>\n    </tr>\n  </thead>\n  <tbody>\n    <tr>\n      <th>72</th>\n      <td>2439997677</td>\n      <td>https://www.vivareal.com.br/imovel/apartamento...</td>\n      <td>Apartamento com 3 Quartos à Venda, 130m²</td>\n      <td>Rua Doutor Paschoal Imperatriz - Brooklin, São...</td>\n      <td>130</td>\n      <td>3 Quartos</td>\n      <td>4 Banheiros</td>\n      <td>3 Vagas</td>\n      <td>NaN</td>\n      <td>R$ 1.436.800</td>\n      <td>NaN</td>\n      <td>Brooklin</td>\n      <td>2021-03-11 01:58</td>\n    </tr>\n    <tr>\n      <th>146</th>\n      <td>2501373854</td>\n      <td>https://www.vivareal.com.br/imovel/apartamento...</td>\n      <td>Apartamento com 2 Quartos à Venda, 63m²</td>\n      <td>Rua Soberana, 49 - Brooklin, São Paulo - SP</td>\n      <td>63</td>\n      <td>2 Quartos</td>\n      <td>2 Banheiros</td>\n      <td>1 Vaga</td>\n      <td>Piscina\\nChurrasqueira\\nAcademia\\nElevador\\nEs...</td>\n      <td>R$ 850.000</td>\n      <td>R$ 651</td>\n      <td>Brooklin</td>\n      <td>2021-03-11 01:58</td>\n    </tr>\n    <tr>\n      <th>218</th>\n      <td>2512231186</td>\n      <td>https://www.vivareal.com.br/imovel/apartamento...</td>\n      <td>Apartamento com 3 Quartos à Venda, 132m²</td>\n      <td>Rua Califórnia, 1127 - Brooklin, São Paulo - SP</td>\n      <td>132</td>\n      <td>3 Quartos</td>\n      <td>5 Banheiros</td>\n      <td>3 Vagas</td>\n      <td>Espaço gourmet\\nGerador elétrico\\nSegurança 24...</td>\n      <td>R$ 2.239.583</td>\n      <td>NaN</td>\n      <td>Brooklin</td>\n      <td>2021-03-11 01:59</td>\n    </tr>\n    <tr>\n      <th>219</th>\n      <td>2511999063</td>\n      <td>https://www.vivareal.com.br/imovel/apartamento...</td>\n      <td>Apartamento com Quarto para Venda/Aluguel 70m²</td>\n      <td>Rua Professor José Leite e Oiticica, 434 - Bro...</td>\n      <td>70</td>\n      <td>1 Quarto</td>\n      <td>2 Banheiros</td>\n      <td>1 Vaga</td>\n      <td>Mobiliado\\nVaranda\\nAcademia\\nÁrea de serviço\\...</td>\n      <td>R$ 1.050.000</td>\n      <td>R$ 1.033</td>\n      <td>Brooklin</td>\n      <td>2021-03-11 01:59</td>\n    </tr>\n    <tr>\n      <th>255</th>\n      <td>2483200723</td>\n      <td>https://www.vivareal.com.br/imovel/apartamento...</td>\n      <td>Apartamento com 3 Quartos à Venda, 147m²</td>\n      <td>Rua Professor José Leite e Oiticica, 240 - Bro...</td>\n      <td>147</td>\n      <td>3 Quartos</td>\n      <td>5 Banheiros</td>\n      <td>2 Vagas</td>\n      <td>Piscina\\nVaranda gourmet\\nMobiliado\\nAcademia\\...</td>\n      <td>R$ 1.850.000</td>\n      <td>R$ 1.177</td>\n      <td>Brooklin</td>\n      <td>2021-03-11 01:59</td>\n    </tr>\n    <tr>\n      <th>...</th>\n      <td>...</td>\n      <td>...</td>\n      <td>...</td>\n      <td>...</td>\n      <td>...</td>\n      <td>...</td>\n      <td>...</td>\n      <td>...</td>\n      <td>...</td>\n      <td>...</td>\n      <td>...</td>\n      <td>...</td>\n      <td>...</td>\n    </tr>\n    <tr>\n      <th>19405</th>\n      <td>https://www.vivareal.com.br/imoveis-lancamento...</td>\n      <td>https://www.vivareal.com.br/imoveis-lancamento...</td>\n      <td>Via Monteiro</td>\n      <td>Avenida Monteiro Lobato, 486 - Macedo, Guarulh...</td>\n      <td>25-60</td>\n      <td>1-3 Quartos</td>\n      <td>1-2 Banheiros</td>\n      <td>1 Vaga</td>\n      <td>NaN</td>\n      <td>Sob Consulta</td>\n      <td>NaN</td>\n      <td>Tucuruvi</td>\n      <td>2021-03-11 04:46</td>\n    </tr>\n    <tr>\n      <th>19412</th>\n      <td>https://www.vivareal.com.br/imoveis-lancamento...</td>\n      <td>https://www.vivareal.com.br/imoveis-lancamento...</td>\n      <td>Funn Limão</td>\n      <td>Rua Doutor Morais Dantas, 189 - Limão, São Pau...</td>\n      <td>34-38</td>\n      <td>2 Quartos</td>\n      <td>1 Banheiro</td>\n      <td>1 Vaga</td>\n      <td>Minha Casa Minha Vida</td>\n      <td>R$ 195.000</td>\n      <td>NaN</td>\n      <td>Tucuruvi</td>\n      <td>2021-03-11 04:46</td>\n    </tr>\n    <tr>\n      <th>19419</th>\n      <td>https://www.vivareal.com.br/imoveis-lancamento...</td>\n      <td>https://www.vivareal.com.br/imoveis-lancamento...</td>\n      <td>Inova Penha</td>\n      <td>Rua Mirandinha, 414 - Penha De Franca, São Pau...</td>\n      <td>48-51</td>\n      <td>2 Quartos</td>\n      <td>1 Banheiro</td>\n      <td>1 Vaga</td>\n      <td>NaN</td>\n      <td>Sob Consulta</td>\n      <td>NaN</td>\n      <td>Tucuruvi</td>\n      <td>2021-03-11 04:46</td>\n    </tr>\n    <tr>\n      <th>19426</th>\n      <td>https://www.vivareal.com.br/imoveis-lancamento...</td>\n      <td>https://www.vivareal.com.br/imoveis-lancamento...</td>\n      <td>Tom Penha</td>\n      <td>Avenida Tarumã, 505 - Vila Pierina, São Paulo ...</td>\n      <td>49-55</td>\n      <td>2 Quartos</td>\n      <td>1 Banheiro</td>\n      <td>-- Vagas</td>\n      <td>NaN</td>\n      <td>Sob Consulta</td>\n      <td>NaN</td>\n      <td>Tucuruvi</td>\n      <td>2021-03-11 04:46</td>\n    </tr>\n    <tr>\n      <th>19433</th>\n      <td>https://www.vivareal.com.br/imoveis-lancamento...</td>\n      <td>https://www.vivareal.com.br/imoveis-lancamento...</td>\n      <td>Praças da Cidade</td>\n      <td>Rua Piratininga, 833 - Brás, São Paulo - SP</td>\n      <td>55-94</td>\n      <td>1-2 Quartos</td>\n      <td>2 Banheiros</td>\n      <td>1 Vaga</td>\n      <td>NaN</td>\n      <td>Sob Consulta</td>\n      <td>NaN</td>\n      <td>Tucuruvi</td>\n      <td>2021-03-11 04:46</td>\n    </tr>\n  </tbody>\n</table>\n<p>2948 rows × 13 columns</p>\n</div>"
     },
     "metadata": {},
     "execution_count": 136
    }
   ],
   "source": [
    "vr[vr.duplicated(subset=[\"id\", \"header\", \"address\"])]"
   ]
  },
  {
   "cell_type": "code",
   "execution_count": 137,
   "metadata": {},
   "outputs": [
    {
     "output_type": "execute_result",
     "data": {
      "text/plain": [
       "(16492, 13)"
      ]
     },
     "metadata": {},
     "execution_count": 137
    }
   ],
   "source": [
    "# atualiza o vr com a nova lista sem os duplicados\n",
    "vr = vr.drop_duplicates(subset=[\"id\", \"header\", \"address\"], keep=\"first\")\n",
    "vr.shape"
   ]
  },
  {
   "cell_type": "code",
   "execution_count": 138,
   "metadata": {},
   "outputs": [
    {
     "output_type": "execute_result",
     "data": {
      "text/plain": [
       "'https://www.vivareal.com.br/imoveis-lancamento/only-cidade-jardim-2494134780'"
      ]
     },
     "metadata": {},
     "execution_count": 138
    }
   ],
   "source": [
    "# remover propagandas\n",
    "# os IDs do vivareal que são anúncios, contém links\n",
    "\n",
    "vr[\"id\"][0] # exemplo de id  numérico\n",
    "vr[\"id\"][1] # exemplo de id não numérico"
   ]
  },
  {
   "cell_type": "code",
   "execution_count": 139,
   "metadata": {},
   "outputs": [
    {
     "output_type": "execute_result",
     "data": {
      "text/plain": [
       "(15524, 13)"
      ]
     },
     "metadata": {},
     "execution_count": 139
    }
   ],
   "source": [
    "filtro_anuncio = [w.isnumeric() for w in vr[\"id\"]]\n",
    "vr = vr[filtro_anuncio] # aqui ja filtra o que for verdadeiro\n",
    "vr.shape"
   ]
  },
  {
   "cell_type": "code",
   "execution_count": 140,
   "metadata": {},
   "outputs": [
    {
     "output_type": "execute_result",
     "data": {
      "text/plain": [
       "               id                                                url  \\\n",
       "0      2472650173  https://www.vivareal.com.br/imovel/apartamento...   \n",
       "33     2448534620  https://www.vivareal.com.br/imovel/apartamento...   \n",
       "43     2454042650  https://www.vivareal.com.br/imovel/apartamento...   \n",
       "91     2430969104  https://www.vivareal.com.br/imovel/apartamento...   \n",
       "96     2512819735  https://www.vivareal.com.br/imovel/apartamento...   \n",
       "...           ...                                                ...   \n",
       "18985  2513097588  https://www.vivareal.com.br/imovel/apartamento...   \n",
       "19069  2512332791  https://www.vivareal.com.br/imovel/apartamento...   \n",
       "19152  2498804189  https://www.vivareal.com.br/imovel/apartamento...   \n",
       "19403  2502222832  https://www.vivareal.com.br/imovel/apartamento...   \n",
       "19428  2509291546  https://www.vivareal.com.br/imovel/apartamento...   \n",
       "\n",
       "                                        header  \\\n",
       "0      Apartamento com 2 Quartos à Venda, 64m²   \n",
       "33     Apartamento com 2 Quartos à Venda, 64m²   \n",
       "43     Apartamento com 2 Quartos à Venda, 64m²   \n",
       "91     Apartamento com 2 Quartos à Venda, 64m²   \n",
       "96     Apartamento com 2 Quartos à Venda, 64m²   \n",
       "...                                        ...   \n",
       "18985  Apartamento com 2 Quartos à Venda, 64m²   \n",
       "19069  Apartamento com 2 Quartos à Venda, 64m²   \n",
       "19152  Apartamento com 2 Quartos à Venda, 64m²   \n",
       "19403  Apartamento com 2 Quartos à Venda, 64m²   \n",
       "19428  Apartamento com 2 Quartos à Venda, 64m²   \n",
       "\n",
       "                                                 address area      rooms  \\\n",
       "0       Avenida Portugal, 401 - Brooklin, São Paulo - SP   64  2 Quartos   \n",
       "33           Rua Soberana, 49 - Brooklin, São Paulo - SP   64  2 Quartos   \n",
       "43           Rua Soberana, 49 - Brooklin, São Paulo - SP   64  2 Quartos   \n",
       "91                              Brooklin, São Paulo - SP   64  2 Quartos   \n",
       "96     Avenida Vereador José Diniz, 2275 - Brooklin, ...   64  2 Quartos   \n",
       "...                                                  ...  ...        ...   \n",
       "18985  Avenida Álvaro Machado Pedrosa, 752 - Tucuruvi...   64  2 Quartos   \n",
       "19069  Avenida Álvaro Machado Pedrosa, 752 - Tucuruvi...   64  2 Quartos   \n",
       "19152        Rua João de Laet - Tucuruvi, São Paulo - SP   64  2 Quartos   \n",
       "19403  Rua Dragões da Independência - Tucuruvi, São P...   64  2 Quartos   \n",
       "19428  Avenida Mário Pernambuco - Tucuruvi, São Paulo...   64  2 Quartos   \n",
       "\n",
       "         bathrooms  garages  \\\n",
       "0      2 Banheiros   1 Vaga   \n",
       "33     2 Banheiros  2 Vagas   \n",
       "43     2 Banheiros  2 Vagas   \n",
       "91     3 Banheiros  2 Vagas   \n",
       "96     2 Banheiros   1 Vaga   \n",
       "...            ...      ...   \n",
       "18985  2 Banheiros   1 Vaga   \n",
       "19069  2 Banheiros   1 Vaga   \n",
       "19152   1 Banheiro  2 Vagas   \n",
       "19403  2 Banheiros   1 Vaga   \n",
       "19428   1 Banheiro   1 Vaga   \n",
       "\n",
       "                                               amenities       price   condo  \\\n",
       "0      Elevador\\nAr-condicionado\\nPlayground\\nMóvel p...  R$ 715.000  R$ 778   \n",
       "33     Churrasqueira\\nAcademia\\nElevador\\nEspaço gour...  R$ 775.000  R$ 643   \n",
       "43     Churrasqueira\\nAcademia\\nElevador\\nEspaço gour...  R$ 783.000  R$ 643   \n",
       "91                                                   NaN  R$ 775.200  R$ 645   \n",
       "96                                                   NaN  R$ 711.856     NaN   \n",
       "...                                                  ...         ...     ...   \n",
       "18985                                                NaN  R$ 589.000     NaN   \n",
       "19069  Piscina\\nVaranda gourmet\\nChurrasqueira\\nVaran...  R$ 599.000  R$ 438   \n",
       "19152  Piscina\\nElevador\\nPlayground\\nSalão de festas...  R$ 375.000  R$ 500   \n",
       "19403  Churrasqueira\\nQuadra poliesportiva\\nÁrea de s...  R$ 315.000  R$ 440   \n",
       "19428                                                NaN  R$ 275.000  R$ 400   \n",
       "\n",
       "        crawler        crawled_at  \n",
       "0      Brooklin  2021-03-11 01:57  \n",
       "33     Brooklin  2021-03-11 01:57  \n",
       "43     Brooklin  2021-03-11 01:58  \n",
       "91     Brooklin  2021-03-11 01:58  \n",
       "96     Brooklin  2021-03-11 01:58  \n",
       "...         ...               ...  \n",
       "18985  Tucuruvi  2021-03-11 04:42  \n",
       "19069  Tucuruvi  2021-03-11 04:43  \n",
       "19152  Tucuruvi  2021-03-11 04:44  \n",
       "19403  Tucuruvi  2021-03-11 04:46  \n",
       "19428  Tucuruvi  2021-03-11 04:46  \n",
       "\n",
       "[355 rows x 13 columns]"
      ],
      "text/html": "<div>\n<style scoped>\n    .dataframe tbody tr th:only-of-type {\n        vertical-align: middle;\n    }\n\n    .dataframe tbody tr th {\n        vertical-align: top;\n    }\n\n    .dataframe thead th {\n        text-align: right;\n    }\n</style>\n<table border=\"1\" class=\"dataframe\">\n  <thead>\n    <tr style=\"text-align: right;\">\n      <th></th>\n      <th>id</th>\n      <th>url</th>\n      <th>header</th>\n      <th>address</th>\n      <th>area</th>\n      <th>rooms</th>\n      <th>bathrooms</th>\n      <th>garages</th>\n      <th>amenities</th>\n      <th>price</th>\n      <th>condo</th>\n      <th>crawler</th>\n      <th>crawled_at</th>\n    </tr>\n  </thead>\n  <tbody>\n    <tr>\n      <th>0</th>\n      <td>2472650173</td>\n      <td>https://www.vivareal.com.br/imovel/apartamento...</td>\n      <td>Apartamento com 2 Quartos à Venda, 64m²</td>\n      <td>Avenida Portugal, 401 - Brooklin, São Paulo - SP</td>\n      <td>64</td>\n      <td>2 Quartos</td>\n      <td>2 Banheiros</td>\n      <td>1 Vaga</td>\n      <td>Elevador\\nAr-condicionado\\nPlayground\\nMóvel p...</td>\n      <td>R$ 715.000</td>\n      <td>R$ 778</td>\n      <td>Brooklin</td>\n      <td>2021-03-11 01:57</td>\n    </tr>\n    <tr>\n      <th>33</th>\n      <td>2448534620</td>\n      <td>https://www.vivareal.com.br/imovel/apartamento...</td>\n      <td>Apartamento com 2 Quartos à Venda, 64m²</td>\n      <td>Rua Soberana, 49 - Brooklin, São Paulo - SP</td>\n      <td>64</td>\n      <td>2 Quartos</td>\n      <td>2 Banheiros</td>\n      <td>2 Vagas</td>\n      <td>Churrasqueira\\nAcademia\\nElevador\\nEspaço gour...</td>\n      <td>R$ 775.000</td>\n      <td>R$ 643</td>\n      <td>Brooklin</td>\n      <td>2021-03-11 01:57</td>\n    </tr>\n    <tr>\n      <th>43</th>\n      <td>2454042650</td>\n      <td>https://www.vivareal.com.br/imovel/apartamento...</td>\n      <td>Apartamento com 2 Quartos à Venda, 64m²</td>\n      <td>Rua Soberana, 49 - Brooklin, São Paulo - SP</td>\n      <td>64</td>\n      <td>2 Quartos</td>\n      <td>2 Banheiros</td>\n      <td>2 Vagas</td>\n      <td>Churrasqueira\\nAcademia\\nElevador\\nEspaço gour...</td>\n      <td>R$ 783.000</td>\n      <td>R$ 643</td>\n      <td>Brooklin</td>\n      <td>2021-03-11 01:58</td>\n    </tr>\n    <tr>\n      <th>91</th>\n      <td>2430969104</td>\n      <td>https://www.vivareal.com.br/imovel/apartamento...</td>\n      <td>Apartamento com 2 Quartos à Venda, 64m²</td>\n      <td>Brooklin, São Paulo - SP</td>\n      <td>64</td>\n      <td>2 Quartos</td>\n      <td>3 Banheiros</td>\n      <td>2 Vagas</td>\n      <td>NaN</td>\n      <td>R$ 775.200</td>\n      <td>R$ 645</td>\n      <td>Brooklin</td>\n      <td>2021-03-11 01:58</td>\n    </tr>\n    <tr>\n      <th>96</th>\n      <td>2512819735</td>\n      <td>https://www.vivareal.com.br/imovel/apartamento...</td>\n      <td>Apartamento com 2 Quartos à Venda, 64m²</td>\n      <td>Avenida Vereador José Diniz, 2275 - Brooklin, ...</td>\n      <td>64</td>\n      <td>2 Quartos</td>\n      <td>2 Banheiros</td>\n      <td>1 Vaga</td>\n      <td>NaN</td>\n      <td>R$ 711.856</td>\n      <td>NaN</td>\n      <td>Brooklin</td>\n      <td>2021-03-11 01:58</td>\n    </tr>\n    <tr>\n      <th>...</th>\n      <td>...</td>\n      <td>...</td>\n      <td>...</td>\n      <td>...</td>\n      <td>...</td>\n      <td>...</td>\n      <td>...</td>\n      <td>...</td>\n      <td>...</td>\n      <td>...</td>\n      <td>...</td>\n      <td>...</td>\n      <td>...</td>\n    </tr>\n    <tr>\n      <th>18985</th>\n      <td>2513097588</td>\n      <td>https://www.vivareal.com.br/imovel/apartamento...</td>\n      <td>Apartamento com 2 Quartos à Venda, 64m²</td>\n      <td>Avenida Álvaro Machado Pedrosa, 752 - Tucuruvi...</td>\n      <td>64</td>\n      <td>2 Quartos</td>\n      <td>2 Banheiros</td>\n      <td>1 Vaga</td>\n      <td>NaN</td>\n      <td>R$ 589.000</td>\n      <td>NaN</td>\n      <td>Tucuruvi</td>\n      <td>2021-03-11 04:42</td>\n    </tr>\n    <tr>\n      <th>19069</th>\n      <td>2512332791</td>\n      <td>https://www.vivareal.com.br/imovel/apartamento...</td>\n      <td>Apartamento com 2 Quartos à Venda, 64m²</td>\n      <td>Avenida Álvaro Machado Pedrosa, 752 - Tucuruvi...</td>\n      <td>64</td>\n      <td>2 Quartos</td>\n      <td>2 Banheiros</td>\n      <td>1 Vaga</td>\n      <td>Piscina\\nVaranda gourmet\\nChurrasqueira\\nVaran...</td>\n      <td>R$ 599.000</td>\n      <td>R$ 438</td>\n      <td>Tucuruvi</td>\n      <td>2021-03-11 04:43</td>\n    </tr>\n    <tr>\n      <th>19152</th>\n      <td>2498804189</td>\n      <td>https://www.vivareal.com.br/imovel/apartamento...</td>\n      <td>Apartamento com 2 Quartos à Venda, 64m²</td>\n      <td>Rua João de Laet - Tucuruvi, São Paulo - SP</td>\n      <td>64</td>\n      <td>2 Quartos</td>\n      <td>1 Banheiro</td>\n      <td>2 Vagas</td>\n      <td>Piscina\\nElevador\\nPlayground\\nSalão de festas...</td>\n      <td>R$ 375.000</td>\n      <td>R$ 500</td>\n      <td>Tucuruvi</td>\n      <td>2021-03-11 04:44</td>\n    </tr>\n    <tr>\n      <th>19403</th>\n      <td>2502222832</td>\n      <td>https://www.vivareal.com.br/imovel/apartamento...</td>\n      <td>Apartamento com 2 Quartos à Venda, 64m²</td>\n      <td>Rua Dragões da Independência - Tucuruvi, São P...</td>\n      <td>64</td>\n      <td>2 Quartos</td>\n      <td>2 Banheiros</td>\n      <td>1 Vaga</td>\n      <td>Churrasqueira\\nQuadra poliesportiva\\nÁrea de s...</td>\n      <td>R$ 315.000</td>\n      <td>R$ 440</td>\n      <td>Tucuruvi</td>\n      <td>2021-03-11 04:46</td>\n    </tr>\n    <tr>\n      <th>19428</th>\n      <td>2509291546</td>\n      <td>https://www.vivareal.com.br/imovel/apartamento...</td>\n      <td>Apartamento com 2 Quartos à Venda, 64m²</td>\n      <td>Avenida Mário Pernambuco - Tucuruvi, São Paulo...</td>\n      <td>64</td>\n      <td>2 Quartos</td>\n      <td>1 Banheiro</td>\n      <td>1 Vaga</td>\n      <td>NaN</td>\n      <td>R$ 275.000</td>\n      <td>R$ 400</td>\n      <td>Tucuruvi</td>\n      <td>2021-03-11 04:46</td>\n    </tr>\n  </tbody>\n</table>\n<p>355 rows × 13 columns</p>\n</div>"
     },
     "metadata": {},
     "execution_count": 140
    }
   ],
   "source": [
    "# filtra a area\n",
    "filtro_de_area = [True if w == \"64\" else False for w in vr[\"area\"]]\n",
    "vr[filtro_de_area]\n",
    "\n",
    "# outro tipo de filtro\n",
    "vr[(vr[\"area\"] == \"64\") & (vr[\"rooms\"] == \"2 Quartos\")]"
   ]
  },
  {
   "cell_type": "code",
   "execution_count": 141,
   "metadata": {},
   "outputs": [],
   "source": [
    "# reseta o index e dropa o index antigo\n",
    "vr = vr.reset_index(drop=True)"
   ]
  },
  {
   "cell_type": "code",
   "execution_count": 142,
   "metadata": {},
   "outputs": [
    {
     "output_type": "stream",
     "name": "stdout",
     "text": [
      "<class 'pandas.core.frame.DataFrame'>\nRangeIndex: 15524 entries, 0 to 15523\nData columns (total 13 columns):\n #   Column      Non-Null Count  Dtype \n---  ------      --------------  ----- \n 0   id          15524 non-null  object\n 1   url         15524 non-null  object\n 2   header      15524 non-null  object\n 3   address     15524 non-null  object\n 4   area        15524 non-null  object\n 5   rooms       15524 non-null  object\n 6   bathrooms   15524 non-null  object\n 7   garages     15524 non-null  object\n 8   amenities   11792 non-null  object\n 9   price       15524 non-null  object\n 10  condo       12875 non-null  object\n 11  crawler     15524 non-null  object\n 12  crawled_at  15524 non-null  object\ndtypes: object(13)\nmemory usage: 1.5+ MB\n"
     ]
    }
   ],
   "source": [
    "vr.info()"
   ]
  },
  {
   "source": [
    "# Area"
   ],
   "cell_type": "markdown",
   "metadata": {}
  },
  {
   "cell_type": "code",
   "execution_count": 143,
   "metadata": {},
   "outputs": [],
   "source": [
    "vr[\"id\"] = vr[\"id\"].astype(float)\n",
    "vr[\"area\"] = vr[\"area\"].astype(int)"
   ]
  },
  {
   "cell_type": "code",
   "execution_count": 144,
   "metadata": {},
   "outputs": [
    {
     "output_type": "execute_result",
     "data": {
      "text/plain": [
       "65     626\n",
       "60     504\n",
       "70     501\n",
       "55     470\n",
       "50     467\n",
       "      ... \n",
       "322      1\n",
       "155      1\n",
       "227      1\n",
       "295      1\n",
       "16       1\n",
       "Name: area, Length: 258, dtype: int64"
      ]
     },
     "metadata": {},
     "execution_count": 144
    }
   ],
   "source": [
    "# conta os valores e sua recorrencia\n",
    "vr[\"area\"].value_counts()"
   ]
  },
  {
   "source": [
    "# Rooms\n"
   ],
   "cell_type": "markdown",
   "metadata": {}
  },
  {
   "cell_type": "code",
   "execution_count": 145,
   "metadata": {},
   "outputs": [
    {
     "output_type": "execute_result",
     "data": {
      "text/plain": [
       "0        2\n",
       "1        2\n",
       "2        3\n",
       "3        1\n",
       "4        4\n",
       "        ..\n",
       "15519    2\n",
       "15520    3\n",
       "15521    3\n",
       "15522    3\n",
       "15523    2\n",
       "Name: rooms, Length: 15524, dtype: int32"
      ]
     },
     "metadata": {},
     "execution_count": 145
    }
   ],
   "source": [
    "#vr[\"rooms\"].unique() # faz um \"distinct\"\n",
    "\n",
    "vr[\"rooms\"] = vr[\"rooms\"].str.split(\" \").str[0].str.replace(\"--\", \"0\").astype(int)\n",
    "vr[\"rooms\"]\n"
   ]
  },
  {
   "source": [
    "# preço"
   ],
   "cell_type": "markdown",
   "metadata": {}
  },
  {
   "cell_type": "code",
   "execution_count": 146,
   "metadata": {},
   "outputs": [],
   "source": [
    "vr[\"price\"] = vr[\"price\"].str.split(\" \").str[1].str.replace(\".\",\"\").astype(int)"
   ]
  },
  {
   "cell_type": "code",
   "execution_count": 148,
   "metadata": {},
   "outputs": [
    {
     "output_type": "execute_result",
     "data": {
      "text/plain": [
       "0         715000\n",
       "1        1350000\n",
       "2         680000\n",
       "3         750000\n",
       "4        1999000\n",
       "          ...   \n",
       "15519     359000\n",
       "15520     670000\n",
       "15521     675000\n",
       "15522     675000\n",
       "15523     540000\n",
       "Name: price, Length: 15524, dtype: int32"
      ]
     },
     "metadata": {},
     "execution_count": 148
    }
   ],
   "source": [
    "vr[\"price\"]"
   ]
  },
  {
   "cell_type": "code",
   "execution_count": 152,
   "metadata": {},
   "outputs": [
    {
     "output_type": "execute_result",
     "data": {
      "text/plain": [
       "Piscina\\nVaranda gourmet\\nChurrasqueira\\nAcademia\\nElevador                                        808\n",
       "Piscina\\nChurrasqueira\\nVaranda\\nAcademia\\nElevador                                                515\n",
       "Piscina\\nChurrasqueira\\nAcademia\\nElevador\\nCondomínio fechado                                     507\n",
       "Piscina\\nVaranda gourmet\\nChurrasqueira\\nVaranda\\nAcademia                                         472\n",
       "Piscina\\nChurrasqueira\\nVaranda\\nElevador\\nÁrea de serviço                                         162\n",
       "                                                                                                  ... \n",
       "Elevador\\nCondomínio fechado\\nÁrea de serviço\\nAceita animais\\nSalão de festas                       1\n",
       "Salão de festas\\nArmário embutido\\nArmário na cozinha\\nSala de jantar                                1\n",
       "Mobiliado\\nAr-condicionado\\nJardim\\nQuadra poliesportiva\\nÁrea de serviço                            1\n",
       "Churrasqueira\\nQuadra poliesportiva\\nSalão de festas\\nPerto de vias de acesso\\nPróximo a escola      1\n",
       "Elevador\\nJardim\\nÁrea de serviço\\nEscritório\\nDepósito                                              1\n",
       "Name: amenities, Length: 3047, dtype: int64"
      ]
     },
     "metadata": {},
     "execution_count": 152
    }
   ],
   "source": [
    "vr[\"amenities\"].value_counts()"
   ]
  },
  {
   "cell_type": "code",
   "execution_count": 155,
   "metadata": {},
   "outputs": [
    {
     "output_type": "execute_result",
     "data": {
      "text/plain": [
       "       Academia  Aceita animais  Acesso para deficientes  Aquecimento  \\\n",
       "0             0               0                        0            0   \n",
       "1             0               0                        0            0   \n",
       "2             1               0                        0            0   \n",
       "3             1               0                        0            0   \n",
       "4             1               0                        0            0   \n",
       "...         ...             ...                      ...          ...   \n",
       "15519         0               0                        0            0   \n",
       "15520         1               0                        0            0   \n",
       "15521         0               0                        0            1   \n",
       "15522         0               0                        0            1   \n",
       "15523         1               0                        0            0   \n",
       "\n",
       "       Ar-condicionado  Armário embutido  Armário na cozinha  Bicicletário  \\\n",
       "0                    1                 0                   0             0   \n",
       "1                    0                 0                   0             0   \n",
       "2                    0                 0                   0             0   \n",
       "3                    0                 0                   0             0   \n",
       "4                    0                 0                   0             0   \n",
       "...                ...               ...                 ...           ...   \n",
       "15519                0                 0                   0             0   \n",
       "15520                0                 0                   0             0   \n",
       "15521                0                 0                   0             0   \n",
       "15522                0                 0                   0             0   \n",
       "15523                0                 0                   0             0   \n",
       "\n",
       "       Cabeamento estruturado  Churrasqueira  ...  TV a cabo  Varanda  \\\n",
       "0                           0              0  ...          0        0   \n",
       "1                           0              0  ...          0        0   \n",
       "2                           0              0  ...          0        0   \n",
       "3                           0              1  ...          0        0   \n",
       "4                           0              1  ...          0        1   \n",
       "...                       ...            ...  ...        ...      ...   \n",
       "15519                       0              0  ...          0        0   \n",
       "15520                       0              1  ...          0        1   \n",
       "15521                       0              0  ...          0        0   \n",
       "15522                       0              0  ...          0        0   \n",
       "15523                       0              1  ...          0        0   \n",
       "\n",
       "       Varanda gourmet  Vigia  Vista exterior  Vista para a montanha  \\\n",
       "0                    0      0               0                      0   \n",
       "1                    0      0               0                      0   \n",
       "2                    0      0               0                      0   \n",
       "3                    1      0               0                      0   \n",
       "4                    1      0               0                      0   \n",
       "...                ...    ...             ...                    ...   \n",
       "15519                0      0               0                      0   \n",
       "15520                1      0               0                      0   \n",
       "15521                0      0               0                      0   \n",
       "15522                0      0               0                      0   \n",
       "15523                0      0               0                      0   \n",
       "\n",
       "       Vista para lago  Vista para o mar  Área de lazer  Área de serviço  \n",
       "0                    0                 0              0                0  \n",
       "1                    0                 0              0                0  \n",
       "2                    0                 0              0                0  \n",
       "3                    0                 0              0                0  \n",
       "4                    0                 0              0                0  \n",
       "...                ...               ...            ...              ...  \n",
       "15519                0                 0              0                0  \n",
       "15520                0                 0              0                0  \n",
       "15521                0                 0              0                0  \n",
       "15522                0                 0              0                0  \n",
       "15523                0                 0              0                0  \n",
       "\n",
       "[15524 rows x 80 columns]"
      ],
      "text/html": "<div>\n<style scoped>\n    .dataframe tbody tr th:only-of-type {\n        vertical-align: middle;\n    }\n\n    .dataframe tbody tr th {\n        vertical-align: top;\n    }\n\n    .dataframe thead th {\n        text-align: right;\n    }\n</style>\n<table border=\"1\" class=\"dataframe\">\n  <thead>\n    <tr style=\"text-align: right;\">\n      <th></th>\n      <th>Academia</th>\n      <th>Aceita animais</th>\n      <th>Acesso para deficientes</th>\n      <th>Aquecimento</th>\n      <th>Ar-condicionado</th>\n      <th>Armário embutido</th>\n      <th>Armário na cozinha</th>\n      <th>Bicicletário</th>\n      <th>Cabeamento estruturado</th>\n      <th>Churrasqueira</th>\n      <th>...</th>\n      <th>TV a cabo</th>\n      <th>Varanda</th>\n      <th>Varanda gourmet</th>\n      <th>Vigia</th>\n      <th>Vista exterior</th>\n      <th>Vista para a montanha</th>\n      <th>Vista para lago</th>\n      <th>Vista para o mar</th>\n      <th>Área de lazer</th>\n      <th>Área de serviço</th>\n    </tr>\n  </thead>\n  <tbody>\n    <tr>\n      <th>0</th>\n      <td>0</td>\n      <td>0</td>\n      <td>0</td>\n      <td>0</td>\n      <td>1</td>\n      <td>0</td>\n      <td>0</td>\n      <td>0</td>\n      <td>0</td>\n      <td>0</td>\n      <td>...</td>\n      <td>0</td>\n      <td>0</td>\n      <td>0</td>\n      <td>0</td>\n      <td>0</td>\n      <td>0</td>\n      <td>0</td>\n      <td>0</td>\n      <td>0</td>\n      <td>0</td>\n    </tr>\n    <tr>\n      <th>1</th>\n      <td>0</td>\n      <td>0</td>\n      <td>0</td>\n      <td>0</td>\n      <td>0</td>\n      <td>0</td>\n      <td>0</td>\n      <td>0</td>\n      <td>0</td>\n      <td>0</td>\n      <td>...</td>\n      <td>0</td>\n      <td>0</td>\n      <td>0</td>\n      <td>0</td>\n      <td>0</td>\n      <td>0</td>\n      <td>0</td>\n      <td>0</td>\n      <td>0</td>\n      <td>0</td>\n    </tr>\n    <tr>\n      <th>2</th>\n      <td>1</td>\n      <td>0</td>\n      <td>0</td>\n      <td>0</td>\n      <td>0</td>\n      <td>0</td>\n      <td>0</td>\n      <td>0</td>\n      <td>0</td>\n      <td>0</td>\n      <td>...</td>\n      <td>0</td>\n      <td>0</td>\n      <td>0</td>\n      <td>0</td>\n      <td>0</td>\n      <td>0</td>\n      <td>0</td>\n      <td>0</td>\n      <td>0</td>\n      <td>0</td>\n    </tr>\n    <tr>\n      <th>3</th>\n      <td>1</td>\n      <td>0</td>\n      <td>0</td>\n      <td>0</td>\n      <td>0</td>\n      <td>0</td>\n      <td>0</td>\n      <td>0</td>\n      <td>0</td>\n      <td>1</td>\n      <td>...</td>\n      <td>0</td>\n      <td>0</td>\n      <td>1</td>\n      <td>0</td>\n      <td>0</td>\n      <td>0</td>\n      <td>0</td>\n      <td>0</td>\n      <td>0</td>\n      <td>0</td>\n    </tr>\n    <tr>\n      <th>4</th>\n      <td>1</td>\n      <td>0</td>\n      <td>0</td>\n      <td>0</td>\n      <td>0</td>\n      <td>0</td>\n      <td>0</td>\n      <td>0</td>\n      <td>0</td>\n      <td>1</td>\n      <td>...</td>\n      <td>0</td>\n      <td>1</td>\n      <td>1</td>\n      <td>0</td>\n      <td>0</td>\n      <td>0</td>\n      <td>0</td>\n      <td>0</td>\n      <td>0</td>\n      <td>0</td>\n    </tr>\n    <tr>\n      <th>...</th>\n      <td>...</td>\n      <td>...</td>\n      <td>...</td>\n      <td>...</td>\n      <td>...</td>\n      <td>...</td>\n      <td>...</td>\n      <td>...</td>\n      <td>...</td>\n      <td>...</td>\n      <td>...</td>\n      <td>...</td>\n      <td>...</td>\n      <td>...</td>\n      <td>...</td>\n      <td>...</td>\n      <td>...</td>\n      <td>...</td>\n      <td>...</td>\n      <td>...</td>\n      <td>...</td>\n    </tr>\n    <tr>\n      <th>15519</th>\n      <td>0</td>\n      <td>0</td>\n      <td>0</td>\n      <td>0</td>\n      <td>0</td>\n      <td>0</td>\n      <td>0</td>\n      <td>0</td>\n      <td>0</td>\n      <td>0</td>\n      <td>...</td>\n      <td>0</td>\n      <td>0</td>\n      <td>0</td>\n      <td>0</td>\n      <td>0</td>\n      <td>0</td>\n      <td>0</td>\n      <td>0</td>\n      <td>0</td>\n      <td>0</td>\n    </tr>\n    <tr>\n      <th>15520</th>\n      <td>1</td>\n      <td>0</td>\n      <td>0</td>\n      <td>0</td>\n      <td>0</td>\n      <td>0</td>\n      <td>0</td>\n      <td>0</td>\n      <td>0</td>\n      <td>1</td>\n      <td>...</td>\n      <td>0</td>\n      <td>1</td>\n      <td>1</td>\n      <td>0</td>\n      <td>0</td>\n      <td>0</td>\n      <td>0</td>\n      <td>0</td>\n      <td>0</td>\n      <td>0</td>\n    </tr>\n    <tr>\n      <th>15521</th>\n      <td>0</td>\n      <td>0</td>\n      <td>0</td>\n      <td>1</td>\n      <td>0</td>\n      <td>0</td>\n      <td>0</td>\n      <td>0</td>\n      <td>0</td>\n      <td>0</td>\n      <td>...</td>\n      <td>0</td>\n      <td>0</td>\n      <td>0</td>\n      <td>0</td>\n      <td>0</td>\n      <td>0</td>\n      <td>0</td>\n      <td>0</td>\n      <td>0</td>\n      <td>0</td>\n    </tr>\n    <tr>\n      <th>15522</th>\n      <td>0</td>\n      <td>0</td>\n      <td>0</td>\n      <td>1</td>\n      <td>0</td>\n      <td>0</td>\n      <td>0</td>\n      <td>0</td>\n      <td>0</td>\n      <td>0</td>\n      <td>...</td>\n      <td>0</td>\n      <td>0</td>\n      <td>0</td>\n      <td>0</td>\n      <td>0</td>\n      <td>0</td>\n      <td>0</td>\n      <td>0</td>\n      <td>0</td>\n      <td>0</td>\n    </tr>\n    <tr>\n      <th>15523</th>\n      <td>1</td>\n      <td>0</td>\n      <td>0</td>\n      <td>0</td>\n      <td>0</td>\n      <td>0</td>\n      <td>0</td>\n      <td>0</td>\n      <td>0</td>\n      <td>1</td>\n      <td>...</td>\n      <td>0</td>\n      <td>0</td>\n      <td>0</td>\n      <td>0</td>\n      <td>0</td>\n      <td>0</td>\n      <td>0</td>\n      <td>0</td>\n      <td>0</td>\n      <td>0</td>\n    </tr>\n  </tbody>\n</table>\n<p>15524 rows × 80 columns</p>\n</div>"
     },
     "metadata": {},
     "execution_count": 155
    }
   ],
   "source": [
    "vr[\"amenities\"].str.get_dummies(sep=\"\\n\")"
   ]
  }
 ],
 "metadata": {
  "kernelspec": {
   "name": "python385jvsc74a57bd0eed3d826270b94bd46bf648186255016b839453b36819d31e6168b26975dcf6a",
   "display_name": "Python 3.8.5 64-bit ('mauri': virtualenv)"
  },
  "language_info": {
   "codemirror_mode": {
    "name": "ipython",
    "version": 3
   },
   "file_extension": ".py",
   "mimetype": "text/x-python",
   "name": "python",
   "nbconvert_exporter": "python",
   "pygments_lexer": "ipython3",
   "version": "3.8.5"
  }
 },
 "nbformat": 4,
 "nbformat_minor": 4
}