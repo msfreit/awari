{
 "cells": [
  {
   "cell_type": "code",
   "execution_count": 1,
   "id": "entertaining-badge",
   "metadata": {},
   "outputs": [],
   "source": [
    "import pandas as pd"
   ]
  },
  {
   "cell_type": "code",
   "execution_count": 2,
   "id": "super-bailey",
   "metadata": {},
   "outputs": [],
   "source": [
    "vr = pd.read_csv(\"raw_data_10_jun.csv\")"
   ]
  },
  {
   "cell_type": "markdown",
   "id": "grateful-scoop",
   "metadata": {},
   "source": [
    "# Objetivos\n",
    "- Remover itens duplicatos (se tiver algum)\n",
    "- Remover propagandas\n",
    "- Colunas numéricas tem que ter só números\n",
    "\n",
    "# Desafios\n",
    "- Lidar com os amenities"
   ]
  },
  {
   "cell_type": "markdown",
   "id": "pregnant-august",
   "metadata": {},
   "source": [
    "# Comando úteis\n",
    "vr -> No caso é o nome do dataframe que estamos trabalhando \n",
    "\n",
    "vr.head() -> Mostra as primeiras linhas\n",
    "\n",
    "vr.tail() -> Mostra as ultimas linhas\n",
    "\n",
    "vr.columns -> Nome das columnas\n",
    "\n",
    "vr.shape -> Mostra o \"formato\" do dataframe\n",
    "\n",
    "vr.duplicated(subset=[lista de colunas]) -> retorna verdadeiro para as linhas duplicadas\n",
    "\n",
    "vr.drop_duplicates(subset=[lista_de_colunas], keep=\"first\") -> remover duplicados da base\n",
    "\n",
    "vr.info() -> Mostra um resumo da tabela, com o tipo de dados de cada coluna\n",
    "\n",
    "vr[nome da coluna].unique() -> Mostra os valores unicos dessa coluna\n",
    "\n",
    "vr[\"NOMEDACOLUNA\"].str.split(\" \") -> Separa as strings da coluna NOMEDACOLUNA string no espaco. Ex: \"Um brinquedo\"-> [\"Um\", \"brinquedo\"]\n",
    "\n",
    "vr[\"NOMEDACOLUNA\"].str.replace(\"a\", \"b\") -> Para todas as strings da coluna NOMEDACOLUNA, substitui a por b. Ex: \"abacate\" -> \"bbbcbte\"\n",
    "\n",
    "vr.reset_index(drop=False) -> Re-constroi o indice sem pular valores. Util sempre que fizer alguma operacao que remova linhas para evitar warnings\n",
    "\n",
    "vr[\"NOMEDACOLUNA\"].isnull() -> Filtro para detectar null na coluna NOMEDACOLUNA\n",
    "\n",
    "vr.dropna() -> Remove linhas que tiverem nulls.\n",
    "\n",
    "vr.dropna(subset=[\"NOMEDACOLUNA\"]) -> Remove linhas que tiverem nulls na coluna NOMEDACOLUNA.\n",
    "\n",
    "vr.fillna(\"ERRO\") -> Substitui valores null pelo valor \"ERRO\"\n"
   ]
  },
  {
   "cell_type": "markdown",
   "id": "artificial-arlington",
   "metadata": {},
   "source": [
    "# Duplicados"
   ]
  },
  {
   "cell_type": "code",
   "execution_count": 3,
   "id": "following-injection",
   "metadata": {},
   "outputs": [
    {
     "data": {
      "text/plain": [
       "Index(['id', 'url', 'header', 'address', 'area', 'rooms', 'bathrooms',\n",
       "       'garages', 'amenities', 'price', 'condo', 'bairro', 'crawled_at'],\n",
       "      dtype='object')"
      ]
     },
     "execution_count": 3,
     "metadata": {},
     "output_type": "execute_result"
    }
   ],
   "source": [
    "vr.columns"
   ]
  },
  {
   "cell_type": "code",
   "execution_count": 4,
   "id": "curious-stevens",
   "metadata": {},
   "outputs": [
    {
     "data": {
      "text/html": [
       "<div>\n",
       "<style scoped>\n",
       "    .dataframe tbody tr th:only-of-type {\n",
       "        vertical-align: middle;\n",
       "    }\n",
       "\n",
       "    .dataframe tbody tr th {\n",
       "        vertical-align: top;\n",
       "    }\n",
       "\n",
       "    .dataframe thead th {\n",
       "        text-align: right;\n",
       "    }\n",
       "</style>\n",
       "<table border=\"1\" class=\"dataframe\">\n",
       "  <thead>\n",
       "    <tr style=\"text-align: right;\">\n",
       "      <th></th>\n",
       "      <th>id</th>\n",
       "      <th>url</th>\n",
       "      <th>header</th>\n",
       "      <th>address</th>\n",
       "      <th>area</th>\n",
       "      <th>rooms</th>\n",
       "      <th>bathrooms</th>\n",
       "      <th>garages</th>\n",
       "      <th>amenities</th>\n",
       "      <th>price</th>\n",
       "      <th>condo</th>\n",
       "      <th>bairro</th>\n",
       "      <th>crawled_at</th>\n",
       "    </tr>\n",
       "  </thead>\n",
       "  <tbody>\n",
       "    <tr>\n",
       "      <th>36</th>\n",
       "      <td>2521587260</td>\n",
       "      <td>https://www.vivareal.com.br/imovel/apartamento...</td>\n",
       "      <td>Apartamento com 3 Quartos à Venda, 100m²</td>\n",
       "      <td>Rua Flórida, 76 - Brooklin, São Paulo - SP</td>\n",
       "      <td>100</td>\n",
       "      <td>3 Quartos</td>\n",
       "      <td>3 Banheiros</td>\n",
       "      <td>2 Vagas</td>\n",
       "      <td>Piscina\\nCondomínio fechado\\nQuadra poliesport...</td>\n",
       "      <td>R$ 890.000</td>\n",
       "      <td>R$ 1.000</td>\n",
       "      <td>Brooklin</td>\n",
       "      <td>2021-06-10 16:17</td>\n",
       "    </tr>\n",
       "    <tr>\n",
       "      <th>38</th>\n",
       "      <td>2517257990</td>\n",
       "      <td>https://www.vivareal.com.br/imovel/apartamento...</td>\n",
       "      <td>Apartamento com 2 Quartos à Venda/Aluguel 165m²</td>\n",
       "      <td>Rua Flórida, 1901 - Brooklin, São Paulo - SP</td>\n",
       "      <td>165</td>\n",
       "      <td>2 Quartos</td>\n",
       "      <td>3 Banheiros</td>\n",
       "      <td>2 Vagas</td>\n",
       "      <td>Piscina\\nMobiliado\\nVaranda\\nAcademia\\nElevador</td>\n",
       "      <td>R$ 16.000 /mês\\nR$ 2.750.000</td>\n",
       "      <td>R$ 2.100</td>\n",
       "      <td>Brooklin</td>\n",
       "      <td>2021-06-10 16:17</td>\n",
       "    </tr>\n",
       "    <tr>\n",
       "      <th>72</th>\n",
       "      <td>2512697589</td>\n",
       "      <td>https://www.vivareal.com.br/imovel/apartamento...</td>\n",
       "      <td>Apartamento com 4 Quartos à Venda, 172m²</td>\n",
       "      <td>Rua Flórida, 145 - Brooklin, São Paulo - SP</td>\n",
       "      <td>172</td>\n",
       "      <td>4 Quartos</td>\n",
       "      <td>5 Banheiros</td>\n",
       "      <td>4 Vagas</td>\n",
       "      <td>Piscina\\nVaranda gourmet\\nMobiliado\\nAcademia\\...</td>\n",
       "      <td>R$ 2.249.000</td>\n",
       "      <td>R$ 10</td>\n",
       "      <td>Brooklin</td>\n",
       "      <td>2021-06-10 16:18</td>\n",
       "    </tr>\n",
       "    <tr>\n",
       "      <th>74</th>\n",
       "      <td>2514599416</td>\n",
       "      <td>https://www.vivareal.com.br/imovel/apartamento...</td>\n",
       "      <td>Apartamento com 3 Quartos à Venda, 101m²</td>\n",
       "      <td>Rua Getúlio Soares da Rocha, 135 - Brooklin, S...</td>\n",
       "      <td>101</td>\n",
       "      <td>3 Quartos</td>\n",
       "      <td>2 Banheiros</td>\n",
       "      <td>2 Vagas</td>\n",
       "      <td>Piscina\\nVaranda gourmet\\nChurrasqueira\\nVaran...</td>\n",
       "      <td>R$ 1.200.000</td>\n",
       "      <td>R$ 950</td>\n",
       "      <td>Brooklin</td>\n",
       "      <td>2021-06-10 16:18</td>\n",
       "    </tr>\n",
       "    <tr>\n",
       "      <th>75</th>\n",
       "      <td>2522751684</td>\n",
       "      <td>https://www.vivareal.com.br/imovel/apartamento...</td>\n",
       "      <td>Apartamento com 3 Quartos à Venda, 197m²</td>\n",
       "      <td>Avenida Roque Petroni Júnior - Brooklin, São P...</td>\n",
       "      <td>197</td>\n",
       "      <td>3 Quartos</td>\n",
       "      <td>4 Banheiros</td>\n",
       "      <td>3 Vagas</td>\n",
       "      <td>Piscina\\nVaranda gourmet\\nChurrasqueira\\nAcade...</td>\n",
       "      <td>R$ 2.300.000</td>\n",
       "      <td>R$ 2.000</td>\n",
       "      <td>Brooklin</td>\n",
       "      <td>2021-06-10 16:18</td>\n",
       "    </tr>\n",
       "    <tr>\n",
       "      <th>...</th>\n",
       "      <td>...</td>\n",
       "      <td>...</td>\n",
       "      <td>...</td>\n",
       "      <td>...</td>\n",
       "      <td>...</td>\n",
       "      <td>...</td>\n",
       "      <td>...</td>\n",
       "      <td>...</td>\n",
       "      <td>...</td>\n",
       "      <td>...</td>\n",
       "      <td>...</td>\n",
       "      <td>...</td>\n",
       "      <td>...</td>\n",
       "    </tr>\n",
       "    <tr>\n",
       "      <th>19405</th>\n",
       "      <td>https://www.vivareal.com.br/imoveis-lancamento...</td>\n",
       "      <td>https://www.vivareal.com.br/imoveis-lancamento...</td>\n",
       "      <td>Videre</td>\n",
       "      <td>Rua Doutor Costa Júnior, 465 - Água Branca, Sã...</td>\n",
       "      <td>135-219</td>\n",
       "      <td>3 Quartos</td>\n",
       "      <td>2-3 Banheiros</td>\n",
       "      <td>2 Vagas</td>\n",
       "      <td>NaN</td>\n",
       "      <td>R$ 1.800.000</td>\n",
       "      <td>NaN</td>\n",
       "      <td>Tucuruvi</td>\n",
       "      <td>2021-06-10 19:16</td>\n",
       "    </tr>\n",
       "    <tr>\n",
       "      <th>19412</th>\n",
       "      <td>https://www.vivareal.com.br/imoveis-lancamento...</td>\n",
       "      <td>https://www.vivareal.com.br/imoveis-lancamento...</td>\n",
       "      <td>Setin Downtown Praça da Sé</td>\n",
       "      <td>Rua Tabatinguera, 462 - Sé, São Paulo - SP</td>\n",
       "      <td>22</td>\n",
       "      <td>1 Quarto</td>\n",
       "      <td>1 Banheiro</td>\n",
       "      <td>-- Vaga</td>\n",
       "      <td>NaN</td>\n",
       "      <td>R$ 248.000</td>\n",
       "      <td>NaN</td>\n",
       "      <td>Tucuruvi</td>\n",
       "      <td>2021-06-10 19:16</td>\n",
       "    </tr>\n",
       "    <tr>\n",
       "      <th>19419</th>\n",
       "      <td>https://www.vivareal.com.br/imoveis-lancamento...</td>\n",
       "      <td>https://www.vivareal.com.br/imoveis-lancamento...</td>\n",
       "      <td>Origem Freguesia do Ó</td>\n",
       "      <td>Rua José Elói Otoni - Freguesia do Ó, São Paul...</td>\n",
       "      <td>57-66</td>\n",
       "      <td>2-3 Quartos</td>\n",
       "      <td>1 Banheiro</td>\n",
       "      <td>1 Vaga</td>\n",
       "      <td>NaN</td>\n",
       "      <td>R$ 380.000</td>\n",
       "      <td>NaN</td>\n",
       "      <td>Tucuruvi</td>\n",
       "      <td>2021-06-10 19:16</td>\n",
       "    </tr>\n",
       "    <tr>\n",
       "      <th>19426</th>\n",
       "      <td>https://www.vivareal.com.br/imoveis-lancamento...</td>\n",
       "      <td>https://www.vivareal.com.br/imoveis-lancamento...</td>\n",
       "      <td>LANDSCAPE PERDIZES</td>\n",
       "      <td>Rua Desembargador Guimarães, 75 - Perdizes, Sã...</td>\n",
       "      <td>176-316</td>\n",
       "      <td>3-4 Quartos</td>\n",
       "      <td>5-6 Banheiros</td>\n",
       "      <td>4-5 Vagas</td>\n",
       "      <td>NaN</td>\n",
       "      <td>Sob Consulta</td>\n",
       "      <td>NaN</td>\n",
       "      <td>Tucuruvi</td>\n",
       "      <td>2021-06-10 19:16</td>\n",
       "    </tr>\n",
       "    <tr>\n",
       "      <th>19433</th>\n",
       "      <td>https://www.vivareal.com.br/imoveis-lancamento...</td>\n",
       "      <td>https://www.vivareal.com.br/imoveis-lancamento...</td>\n",
       "      <td>Bandeira Pauliceia</td>\n",
       "      <td>Rua Santo Amaro, 27 - Bela Vista, São Paulo - SP</td>\n",
       "      <td>48</td>\n",
       "      <td>2 Quartos</td>\n",
       "      <td>2 Banheiros</td>\n",
       "      <td>-- Vaga</td>\n",
       "      <td>NaN</td>\n",
       "      <td>R$ 429.000</td>\n",
       "      <td>NaN</td>\n",
       "      <td>Tucuruvi</td>\n",
       "      <td>2021-06-10 19:16</td>\n",
       "    </tr>\n",
       "  </tbody>\n",
       "</table>\n",
       "<p>3335 rows × 13 columns</p>\n",
       "</div>"
      ],
      "text/plain": [
       "                                                      id  \\\n",
       "36                                            2521587260   \n",
       "38                                            2517257990   \n",
       "72                                            2512697589   \n",
       "74                                            2514599416   \n",
       "75                                            2522751684   \n",
       "...                                                  ...   \n",
       "19405  https://www.vivareal.com.br/imoveis-lancamento...   \n",
       "19412  https://www.vivareal.com.br/imoveis-lancamento...   \n",
       "19419  https://www.vivareal.com.br/imoveis-lancamento...   \n",
       "19426  https://www.vivareal.com.br/imoveis-lancamento...   \n",
       "19433  https://www.vivareal.com.br/imoveis-lancamento...   \n",
       "\n",
       "                                                     url  \\\n",
       "36     https://www.vivareal.com.br/imovel/apartamento...   \n",
       "38     https://www.vivareal.com.br/imovel/apartamento...   \n",
       "72     https://www.vivareal.com.br/imovel/apartamento...   \n",
       "74     https://www.vivareal.com.br/imovel/apartamento...   \n",
       "75     https://www.vivareal.com.br/imovel/apartamento...   \n",
       "...                                                  ...   \n",
       "19405  https://www.vivareal.com.br/imoveis-lancamento...   \n",
       "19412  https://www.vivareal.com.br/imoveis-lancamento...   \n",
       "19419  https://www.vivareal.com.br/imoveis-lancamento...   \n",
       "19426  https://www.vivareal.com.br/imoveis-lancamento...   \n",
       "19433  https://www.vivareal.com.br/imoveis-lancamento...   \n",
       "\n",
       "                                                header  \\\n",
       "36            Apartamento com 3 Quartos à Venda, 100m²   \n",
       "38     Apartamento com 2 Quartos à Venda/Aluguel 165m²   \n",
       "72            Apartamento com 4 Quartos à Venda, 172m²   \n",
       "74            Apartamento com 3 Quartos à Venda, 101m²   \n",
       "75            Apartamento com 3 Quartos à Venda, 197m²   \n",
       "...                                                ...   \n",
       "19405                                           Videre   \n",
       "19412                       Setin Downtown Praça da Sé   \n",
       "19419                            Origem Freguesia do Ó   \n",
       "19426                               LANDSCAPE PERDIZES   \n",
       "19433                               Bandeira Pauliceia   \n",
       "\n",
       "                                                 address     area  \\\n",
       "36            Rua Flórida, 76 - Brooklin, São Paulo - SP      100   \n",
       "38          Rua Flórida, 1901 - Brooklin, São Paulo - SP      165   \n",
       "72           Rua Flórida, 145 - Brooklin, São Paulo - SP      172   \n",
       "74     Rua Getúlio Soares da Rocha, 135 - Brooklin, S...      101   \n",
       "75     Avenida Roque Petroni Júnior - Brooklin, São P...      197   \n",
       "...                                                  ...      ...   \n",
       "19405  Rua Doutor Costa Júnior, 465 - Água Branca, Sã...  135-219   \n",
       "19412         Rua Tabatinguera, 462 - Sé, São Paulo - SP       22   \n",
       "19419  Rua José Elói Otoni - Freguesia do Ó, São Paul...    57-66   \n",
       "19426  Rua Desembargador Guimarães, 75 - Perdizes, Sã...  176-316   \n",
       "19433   Rua Santo Amaro, 27 - Bela Vista, São Paulo - SP       48   \n",
       "\n",
       "             rooms      bathrooms    garages  \\\n",
       "36       3 Quartos    3 Banheiros    2 Vagas   \n",
       "38       2 Quartos    3 Banheiros    2 Vagas   \n",
       "72       4 Quartos    5 Banheiros    4 Vagas   \n",
       "74       3 Quartos    2 Banheiros    2 Vagas   \n",
       "75       3 Quartos    4 Banheiros    3 Vagas   \n",
       "...            ...            ...        ...   \n",
       "19405    3 Quartos  2-3 Banheiros    2 Vagas   \n",
       "19412     1 Quarto     1 Banheiro    -- Vaga   \n",
       "19419  2-3 Quartos     1 Banheiro     1 Vaga   \n",
       "19426  3-4 Quartos  5-6 Banheiros  4-5 Vagas   \n",
       "19433    2 Quartos    2 Banheiros    -- Vaga   \n",
       "\n",
       "                                               amenities  \\\n",
       "36     Piscina\\nCondomínio fechado\\nQuadra poliesport...   \n",
       "38       Piscina\\nMobiliado\\nVaranda\\nAcademia\\nElevador   \n",
       "72     Piscina\\nVaranda gourmet\\nMobiliado\\nAcademia\\...   \n",
       "74     Piscina\\nVaranda gourmet\\nChurrasqueira\\nVaran...   \n",
       "75     Piscina\\nVaranda gourmet\\nChurrasqueira\\nAcade...   \n",
       "...                                                  ...   \n",
       "19405                                                NaN   \n",
       "19412                                                NaN   \n",
       "19419                                                NaN   \n",
       "19426                                                NaN   \n",
       "19433                                                NaN   \n",
       "\n",
       "                              price     condo    bairro        crawled_at  \n",
       "36                       R$ 890.000  R$ 1.000  Brooklin  2021-06-10 16:17  \n",
       "38     R$ 16.000 /mês\\nR$ 2.750.000  R$ 2.100  Brooklin  2021-06-10 16:17  \n",
       "72                     R$ 2.249.000     R$ 10  Brooklin  2021-06-10 16:18  \n",
       "74                     R$ 1.200.000    R$ 950  Brooklin  2021-06-10 16:18  \n",
       "75                     R$ 2.300.000  R$ 2.000  Brooklin  2021-06-10 16:18  \n",
       "...                             ...       ...       ...               ...  \n",
       "19405                  R$ 1.800.000       NaN  Tucuruvi  2021-06-10 19:16  \n",
       "19412                    R$ 248.000       NaN  Tucuruvi  2021-06-10 19:16  \n",
       "19419                    R$ 380.000       NaN  Tucuruvi  2021-06-10 19:16  \n",
       "19426                  Sob Consulta       NaN  Tucuruvi  2021-06-10 19:16  \n",
       "19433                    R$ 429.000       NaN  Tucuruvi  2021-06-10 19:16  \n",
       "\n",
       "[3335 rows x 13 columns]"
      ]
     },
     "execution_count": 4,
     "metadata": {},
     "output_type": "execute_result"
    }
   ],
   "source": [
    "vr[vr.duplicated(subset=[\"id\", \"header\", \"address\", \"area\", \"rooms\", \"price\"])]"
   ]
  },
  {
   "cell_type": "code",
   "execution_count": 5,
   "id": "mediterranean-basement",
   "metadata": {},
   "outputs": [],
   "source": [
    "vr = vr.drop_duplicates(subset=[\"id\", \"header\", \"address\", \"area\", \"rooms\", \"price\"], \n",
    "                        keep=\"first\")"
   ]
  },
  {
   "cell_type": "markdown",
   "id": "homeless-atlanta",
   "metadata": {},
   "source": [
    "Removendo anuncios"
   ]
  },
  {
   "cell_type": "code",
   "execution_count": 6,
   "id": "reserved-vertical",
   "metadata": {},
   "outputs": [
    {
     "name": "stdout",
     "output_type": "stream",
     "text": [
      "<class 'pandas.core.frame.DataFrame'>\n",
      "Int64Index: 16105 entries, 0 to 19439\n",
      "Data columns (total 13 columns):\n",
      " #   Column      Non-Null Count  Dtype \n",
      "---  ------      --------------  ----- \n",
      " 0   id          16105 non-null  object\n",
      " 1   url         16105 non-null  object\n",
      " 2   header      16105 non-null  object\n",
      " 3   address     16105 non-null  object\n",
      " 4   area        16105 non-null  object\n",
      " 5   rooms       16105 non-null  object\n",
      " 6   bathrooms   16105 non-null  object\n",
      " 7   garages     16105 non-null  object\n",
      " 8   amenities   13064 non-null  object\n",
      " 9   price       16105 non-null  object\n",
      " 10  condo       13263 non-null  object\n",
      " 11  bairro      16105 non-null  object\n",
      " 12  crawled_at  16105 non-null  object\n",
      "dtypes: object(13)\n",
      "memory usage: 1.7+ MB\n"
     ]
    }
   ],
   "source": [
    "vr.info()"
   ]
  },
  {
   "cell_type": "code",
   "execution_count": 7,
   "id": "proved-acting",
   "metadata": {},
   "outputs": [
    {
     "data": {
      "text/plain": [
       "False"
      ]
     },
     "execution_count": 7,
     "metadata": {},
     "output_type": "execute_result"
    }
   ],
   "source": [
    "vr[\"id\"][1].isnumeric()"
   ]
  },
  {
   "cell_type": "code",
   "execution_count": 8,
   "id": "catholic-sydney",
   "metadata": {},
   "outputs": [],
   "source": [
    "filtro_de_anuncio = [identificador.isnumeric() for identificador in vr[\"id\"]]"
   ]
  },
  {
   "cell_type": "code",
   "execution_count": 9,
   "id": "offshore-transcription",
   "metadata": {},
   "outputs": [],
   "source": [
    "vr = vr[filtro_de_anuncio]"
   ]
  },
  {
   "cell_type": "code",
   "execution_count": 10,
   "id": "daily-indonesia",
   "metadata": {},
   "outputs": [],
   "source": [
    "vr[\"id\"] = vr[\"id\"].astype(int)"
   ]
  },
  {
   "cell_type": "code",
   "execution_count": 11,
   "id": "fabulous-alabama",
   "metadata": {},
   "outputs": [],
   "source": [
    "vr = vr.reset_index(drop=True)"
   ]
  },
  {
   "cell_type": "markdown",
   "id": "dimensional-superintendent",
   "metadata": {},
   "source": [
    "Area"
   ]
  },
  {
   "cell_type": "code",
   "execution_count": 12,
   "id": "former-arkansas",
   "metadata": {},
   "outputs": [],
   "source": [
    "vr[\"area\"] = vr[\"area\"].astype(int)"
   ]
  },
  {
   "cell_type": "markdown",
   "id": "olympic-closer",
   "metadata": {},
   "source": [
    "rooms"
   ]
  },
  {
   "cell_type": "code",
   "execution_count": 13,
   "id": "signed-letters",
   "metadata": {},
   "outputs": [
    {
     "data": {
      "text/plain": [
       "0    2 Quartos\n",
       "1    3 Quartos\n",
       "2    3 Quartos\n",
       "3    3 Quartos\n",
       "4    4 Quartos\n",
       "Name: rooms, dtype: object"
      ]
     },
     "execution_count": 13,
     "metadata": {},
     "output_type": "execute_result"
    }
   ],
   "source": [
    "vr[\"rooms\"].head()"
   ]
  },
  {
   "cell_type": "code",
   "execution_count": 14,
   "id": "quantitative-surprise",
   "metadata": {},
   "outputs": [],
   "source": [
    "vr[\"rooms\"] = vr[\"rooms\"].str.split(\" \").str[0].str.replace(\"--\", \"0\").astype(int)"
   ]
  },
  {
   "cell_type": "markdown",
   "id": "geological-shuttle",
   "metadata": {},
   "source": [
    "banheiros"
   ]
  },
  {
   "cell_type": "code",
   "execution_count": 15,
   "id": "pharmaceutical-nashville",
   "metadata": {},
   "outputs": [],
   "source": [
    "vr[\"bathrooms\"] = vr[\"bathrooms\"].str.split(\" \").str[0].str.replace(\"--\", \"0\").astype(int)"
   ]
  },
  {
   "cell_type": "markdown",
   "id": "technical-edition",
   "metadata": {},
   "source": [
    "garagens"
   ]
  },
  {
   "cell_type": "code",
   "execution_count": 16,
   "id": "wooden-original",
   "metadata": {},
   "outputs": [],
   "source": [
    "vr[\"garages\"] = vr[\"garages\"].str.replace(\" Vaga\", \"\").str.replace(\"s\", \"\").str.replace(\"--\", \"0\").astype(int)"
   ]
  },
  {
   "cell_type": "markdown",
   "id": "noble-niger",
   "metadata": {},
   "source": [
    "preco"
   ]
  },
  {
   "cell_type": "code",
   "execution_count": 17,
   "id": "certain-conviction",
   "metadata": {},
   "outputs": [],
   "source": [
    "vr[\"price\"] = vr[\"price\"].str.split(\" \").str[-1].str.replace(\".\", \"\").astype(int)"
   ]
  },
  {
   "cell_type": "code",
   "execution_count": 18,
   "id": "fitting-gregory",
   "metadata": {},
   "outputs": [],
   "source": [
    "vr[\"condo\"] = vr[\"condo\"].str.split(\" \").str[-1].str.replace(\".\", \"\").astype(float)"
   ]
  },
  {
   "cell_type": "markdown",
   "id": "detected-pointer",
   "metadata": {},
   "source": [
    "datetime"
   ]
  },
  {
   "cell_type": "code",
   "execution_count": 21,
   "id": "detailed-massage",
   "metadata": {},
   "outputs": [],
   "source": [
    "vr[\"crawled_at\"] = pd.to_datetime(vr[\"crawled_at\"], format=\"%Y-%m-%d %H:%M:%S\")"
   ]
  },
  {
   "cell_type": "code",
   "execution_count": 22,
   "id": "eight-april",
   "metadata": {},
   "outputs": [
    {
     "data": {
      "text/plain": [
       "'Piscina\\nVaranda gourmet\\nChurrasqueira\\nVaranda\\nAcademia'"
      ]
     },
     "execution_count": 22,
     "metadata": {},
     "output_type": "execute_result"
    }
   ],
   "source": [
    "vr[\"amenities\"].head()[2]"
   ]
  },
  {
   "cell_type": "code",
   "execution_count": 23,
   "id": "unlike-context",
   "metadata": {},
   "outputs": [],
   "source": [
    "vr = pd.concat([vr, vr[\"amenities\"].str.get_dummies(sep=\"\\n\")], axis=1)"
   ]
  },
  {
   "cell_type": "code",
   "execution_count": 24,
   "id": "agricultural-survey",
   "metadata": {},
   "outputs": [],
   "source": [
    "vr = vr.drop(columns=[\"amenities\"])"
   ]
  },
  {
   "cell_type": "code",
   "execution_count": 25,
   "id": "acquired-football",
   "metadata": {},
   "outputs": [
    {
     "name": "stdout",
     "output_type": "stream",
     "text": [
      "<class 'pandas.core.frame.DataFrame'>\n",
      "RangeIndex: 15259 entries, 0 to 15258\n",
      "Data columns (total 96 columns):\n",
      " #   Column                        Non-Null Count  Dtype         \n",
      "---  ------                        --------------  -----         \n",
      " 0   id                            15259 non-null  int64         \n",
      " 1   url                           15259 non-null  object        \n",
      " 2   header                        15259 non-null  object        \n",
      " 3   address                       15259 non-null  object        \n",
      " 4   area                          15259 non-null  int64         \n",
      " 5   rooms                         15259 non-null  int64         \n",
      " 6   bathrooms                     15259 non-null  int64         \n",
      " 7   garages                       15259 non-null  int64         \n",
      " 8   price                         15259 non-null  int64         \n",
      " 9   condo                         13263 non-null  float64       \n",
      " 10  bairro                        15259 non-null  object        \n",
      " 11  crawled_at                    15259 non-null  datetime64[ns]\n",
      " 12  Academia                      15259 non-null  int64         \n",
      " 13  Aceita animais                15259 non-null  int64         \n",
      " 14  Acesso para deficientes       15259 non-null  int64         \n",
      " 15  Aquecimento                   15259 non-null  int64         \n",
      " 16  Ar-condicionado               15259 non-null  int64         \n",
      " 17  Armário embutido              15259 non-null  int64         \n",
      " 18  Armário embutido no quarto    15259 non-null  int64         \n",
      " 19  Armário na cozinha            15259 non-null  int64         \n",
      " 20  Armário no banheiro           15259 non-null  int64         \n",
      " 21  Bicicletário                  15259 non-null  int64         \n",
      " 22  Box blindex                   15259 non-null  int64         \n",
      " 23  Cabeamento estruturado        15259 non-null  int64         \n",
      " 24  Churrasqueira                 15259 non-null  int64         \n",
      " 25  Cinema                        15259 non-null  int64         \n",
      " 26  Circuito de segurança         15259 non-null  int64         \n",
      " 27  Closet                        15259 non-null  int64         \n",
      " 28  Condomínio fechado            15259 non-null  int64         \n",
      " 29  Conexão à internet            15259 non-null  int64         \n",
      " 30  Copa                          15259 non-null  int64         \n",
      " 31  Coworking                     15259 non-null  int64         \n",
      " 32  Cozinha                       15259 non-null  int64         \n",
      " 33  Cozinha americana             15259 non-null  int64         \n",
      " 34  Cozinha grande                15259 non-null  int64         \n",
      " 35  Câmera de segurança           15259 non-null  int64         \n",
      " 36  Depósito                      15259 non-null  int64         \n",
      " 37  Elevador                      15259 non-null  int64         \n",
      " 38  Escritório                    15259 non-null  int64         \n",
      " 39  Espaço gourmet                15259 non-null  int64         \n",
      " 40  Espaço teen                   15259 non-null  int64         \n",
      " 41  Espaço verde / Parque         15259 non-null  int64         \n",
      " 42  Espelhos d'água               15259 non-null  int64         \n",
      " 43  Garage band                   15259 non-null  int64         \n",
      " 44  Garagem                       15259 non-null  int64         \n",
      " 45  Gerador elétrico              15259 non-null  int64         \n",
      " 46  Gramado                       15259 non-null  int64         \n",
      " 47  Guarita                       15259 non-null  int64         \n",
      " 48  Gás Encanado                  15259 non-null  int64         \n",
      " 49  Interfone                     15259 non-null  int64         \n",
      " 50  Janela grande                 15259 non-null  int64         \n",
      " 51  Jardim                        15259 non-null  int64         \n",
      " 52  Lareira                       15259 non-null  int64         \n",
      " 53  Lavabo                        15259 non-null  int64         \n",
      " 54  Lavanderia                    15259 non-null  int64         \n",
      " 55  Mais de um andar              15259 non-null  int64         \n",
      " 56  Mobiliado                     15259 non-null  int64         \n",
      " 57  Móvel planejado               15259 non-null  int64         \n",
      " 58  Perto de vias de acesso       15259 non-null  int64         \n",
      " 59  Piscina                       15259 non-null  int64         \n",
      " 60  Piscina coberta               15259 non-null  int64         \n",
      " 61  Piscina infantil              15259 non-null  int64         \n",
      " 62  Piscina para adulto           15259 non-null  int64         \n",
      " 63  Piso frio                     15259 non-null  int64         \n",
      " 64  Pista de cooper               15259 non-null  int64         \n",
      " 65  Playground                    15259 non-null  int64         \n",
      " 66  Portaria 24h                  15259 non-null  int64         \n",
      " 67  Portão eletrônico             15259 non-null  int64         \n",
      " 68  Próximo a escola              15259 non-null  int64         \n",
      " 69  Próximo a hospitais           15259 non-null  int64         \n",
      " 70  Próximo a shopping            15259 non-null  int64         \n",
      " 71  Próximo a transporte público  15259 non-null  int64         \n",
      " 72  Quadra de squash              15259 non-null  int64         \n",
      " 73  Quadra de tênis               15259 non-null  int64         \n",
      " 74  Quadra poliesportiva          15259 non-null  int64         \n",
      " 75  Quintal                       15259 non-null  int64         \n",
      " 76  Recepção                      15259 non-null  int64         \n",
      " 77  Sala de jantar                15259 non-null  int64         \n",
      " 78  Sala de massagem              15259 non-null  int64         \n",
      " 79  Salão de festas               15259 non-null  int64         \n",
      " 80  Salão de jogos                15259 non-null  int64         \n",
      " 81  Sauna                         15259 non-null  int64         \n",
      " 82  Segurança 24h                 15259 non-null  int64         \n",
      " 83  Serviços pay per use          15259 non-null  int64         \n",
      " 84  Serviços públicos essenciais  15259 non-null  int64         \n",
      " 85  Sistema de alarme             15259 non-null  int64         \n",
      " 86  Spa                           15259 non-null  int64         \n",
      " 87  TV a cabo                     15259 non-null  int64         \n",
      " 88  Varanda                       15259 non-null  int64         \n",
      " 89  Varanda fechada com vidro     15259 non-null  int64         \n",
      " 90  Varanda gourmet               15259 non-null  int64         \n",
      " 91  Vigia                         15259 non-null  int64         \n",
      " 92  Vista para a montanha         15259 non-null  int64         \n",
      " 93  Vista para o mar              15259 non-null  int64         \n",
      " 94  Área de lazer                 15259 non-null  int64         \n",
      " 95  Área de serviço               15259 non-null  int64         \n",
      "dtypes: datetime64[ns](1), float64(1), int64(90), object(4)\n",
      "memory usage: 11.2+ MB\n"
     ]
    }
   ],
   "source": [
    "vr.info()"
   ]
  },
  {
   "cell_type": "code",
   "execution_count": 26,
   "id": "respective-parade",
   "metadata": {},
   "outputs": [],
   "source": [
    "vr[\"estado\"] = vr[\"address\"].str.split(\" - \").str[-1]"
   ]
  },
  {
   "cell_type": "code",
   "execution_count": 27,
   "id": "answering-anchor",
   "metadata": {},
   "outputs": [],
   "source": [
    "vr = vr.loc[vr[\"estado\"]==\"SP\"].reset_index(drop=True)"
   ]
  },
  {
   "cell_type": "code",
   "execution_count": 28,
   "id": "tired-minority",
   "metadata": {},
   "outputs": [],
   "source": [
    "vr = vr[vr[\"address\"].str.contains(\"São Paulo\")].reset_index(drop=True)"
   ]
  },
  {
   "cell_type": "code",
   "execution_count": 29,
   "id": "attached-pound",
   "metadata": {},
   "outputs": [],
   "source": [
    "vr[\"parse_bairro\"] = (vr[\"address\"]\n",
    "                      .str.split(\", São Paulo - SP\")\n",
    "                      .str[-2]\n",
    "                      .str.split(\" - \")\n",
    "                      .str[-1]\n",
    "                      .str.replace(\"- \", \"\")\n",
    "                     )"
   ]
  },
  {
   "cell_type": "code",
   "execution_count": 30,
   "id": "paperback-sucking",
   "metadata": {},
   "outputs": [],
   "source": [
    "vr[\"parse_bairro\"] = (vr[\"parse_bairro\"]\n",
    "                      .str.lower()\n",
    "                      .str.normalize(\"NFKD\")\n",
    "                      .str.encode(\"ascii\", errors=\"ignore\")\n",
    "                      .str.decode(\"utf8\"))\n",
    "\n",
    "vr[\"bairro\"] = (vr[\"bairro\"]\n",
    "                .str.lower()\n",
    "                .str.normalize(\"NFKD\")\n",
    "                .str.encode(\"ascii\", errors=\"ignore\")\n",
    "                .str.decode(\"utf8\"))"
   ]
  },
  {
   "cell_type": "code",
   "execution_count": 36,
   "id": "wrong-natural",
   "metadata": {},
   "outputs": [],
   "source": [
    "vr.to_csv(\"primary_data.csv\", index=False)"
   ]
  }
 ],
 "metadata": {
  "kernelspec": {
   "display_name": "Python 3",
   "language": "python",
   "name": "python3"
  },
  "language_info": {
   "codemirror_mode": {
    "name": "ipython",
    "version": 3
   },
   "file_extension": ".py",
   "mimetype": "text/x-python",
   "name": "python",
   "nbconvert_exporter": "python",
   "pygments_lexer": "ipython3",
   "version": "3.8.0"
  }
 },
 "nbformat": 4,
 "nbformat_minor": 5
}
