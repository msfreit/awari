{
 "cells": [
  {
   "cell_type": "markdown",
   "source": [
    "Em Python, quando mais de um operador aparece em uma expressão, a ordem de avaliação depende das regras de precedência de cada linguagem. Assim, ao programar em Python, além de observar essas regras, é preciso considerar, ainda, a forma como a linguagem representa seus operadores, conforme demonstrado nos comandos a seguir.\r\n",
    "x=7*3**2%4 print (x)\r\n",
    "\r\n",
    "Assinale a opção que corresponde à saída que o compilador Python apresentará para os comandos em questão."
   ],
   "metadata": {}
  },
  {
   "cell_type": "code",
   "execution_count": 8,
   "source": [
    "x=7*3**2%4 \r\n",
    "print(x)"
   ],
   "outputs": [
    {
     "output_type": "stream",
     "name": "stdout",
     "text": [
      "3\n"
     ]
    }
   ],
   "metadata": {}
  },
  {
   "cell_type": "code",
   "execution_count": 13,
   "source": [
    "# tuplas\r\n",
    "tupla_examples = (1,2)\r\n",
    "lista_examples = [1,2]\r\n",
    "print(tupla_examples)\r\n",
    "print(lista_examples)"
   ],
   "outputs": [
    {
     "output_type": "stream",
     "name": "stdout",
     "text": [
      "(1, 2)\n",
      "[1, 2]\n"
     ]
    }
   ],
   "metadata": {}
  },
  {
   "cell_type": "code",
   "execution_count": 14,
   "source": [
    "a = [1, 2, 3]\r\n",
    "\r\n",
    "b = list(a)\r\n",
    "print(a)\r\n",
    "print(b)\r\n",
    "print(a == b)\r\n",
    "print(a is b)\r\n"
   ],
   "outputs": [
    {
     "output_type": "stream",
     "name": "stdout",
     "text": [
      "[1, 2, 3]\n",
      "[1, 2, 3]\n",
      "True\n",
      "False\n"
     ]
    }
   ],
   "metadata": {}
  },
  {
   "cell_type": "code",
   "execution_count": 22,
   "source": [
    "dados = {\r\n",
    "    'Machado de Assis': 7575,\r\n",
    "    'Santos Dumont': 7475,\r\n",
    "    'Rui Barbosa': 1675,\r\n",
    "}\r\n",
    "\r\n",
    "print(dados[\"Santos Dumont\"])\r\n"
   ],
   "outputs": [
    {
     "output_type": "stream",
     "name": "stdout",
     "text": [
      "7475\n"
     ]
    }
   ],
   "metadata": {}
  },
  {
   "cell_type": "code",
   "execution_count": 24,
   "source": [
    "num = 88\r\n",
    "print('par' if num % 2 == 0 else 'ímpar')\r\n"
   ],
   "outputs": [
    {
     "output_type": "stream",
     "name": "stdout",
     "text": [
      "ímpar\n"
     ]
    }
   ],
   "metadata": {}
  }
 ],
 "metadata": {
  "interpreter": {
   "hash": "eed3d826270b94bd46bf648186255016b839453b36819d31e6168b26975dcf6a"
  },
  "kernelspec": {
   "display_name": "Python 3.8.5 64-bit ('base': conda)",
   "name": "python3"
  },
  "language_info": {
   "name": "python",
   "version": ""
  },
  "orig_nbformat": 4
 },
 "nbformat": 4,
 "nbformat_minor": 2
}